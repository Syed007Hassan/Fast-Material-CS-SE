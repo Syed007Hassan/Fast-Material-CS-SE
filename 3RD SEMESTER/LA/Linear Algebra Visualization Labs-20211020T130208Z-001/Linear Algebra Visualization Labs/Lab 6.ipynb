{
 "cells": [
  {
   "cell_type": "code",
   "execution_count": null,
   "metadata": {},
   "outputs": [],
   "source": [
    "import matplotlib.pyplot as plt\n",
    "import numpy as np\n",
    "from mpl_toolkits.mplot3d import Axes3D\n",
    "import scipy as sp\n",
    "import scipy.linalg\n",
    "import sympy as sy\n",
    "sy.init_printing() \n",
    "# import warnings\n",
    "# warnings.filterwarnings(\"ignore\")"
   ]
  },
  {
   "cell_type": "code",
   "execution_count": null,
   "metadata": {},
   "outputs": [],
   "source": [
    "import linAlgVis"
   ]
  },
  {
   "cell_type": "markdown",
   "metadata": {},
   "source": [
    "# <font face=\"gotham\" color=\"purple\"> Basis </font>"
   ]
  },
  {
   "cell_type": "markdown",
   "metadata": {},
   "source": [
    "**Basis**, denoted as $B$, is the minimum unit of user-customization of coordinates, which is any type of coordinate system other than Cartesian."
   ]
  },
  {
   "cell_type": "markdown",
   "metadata": {},
   "source": [
    "## <font face=\"gotham\" color=\"purple\"> Basis of $\\mathbb{R}^2$ </font>"
   ]
  },
  {
   "cell_type": "markdown",
   "metadata": {},
   "source": [
    "Formally speaking, the basis is a set of vectors $B$ in vector space $V$ with two conditions:\n",
    "1. All vectors in $B$ are independent. \n",
    "2. $\\text{span}(B)=V$"
   ]
  },
  {
   "cell_type": "markdown",
   "metadata": {},
   "source": [
    "We have seen _standard basis_ in earlier chapters, for instance in $\\mathbb{R}^2$\n",
    "\n",
    "$$e_1=\n",
    "\\left[\n",
    "\\begin{matrix}\n",
    "1\\\\0\n",
    "\\end{matrix}\n",
    "\\right],\n",
    "\\ e_2=\\left[\n",
    "\\begin{matrix}\n",
    "0\\\\1\n",
    "\\end{matrix}\n",
    "\\right]\n",
    "$$\n",
    "\n",
    "and in $\\mathbb{R}^3$\n",
    "\n",
    "$$e_1=\n",
    "\\left[\n",
    "\\begin{matrix}\n",
    "1\\\\0\\\\0\n",
    "\\end{matrix}\n",
    "\\right],\n",
    "\\ e_2=\\left[\n",
    "\\begin{matrix}\n",
    "0\\\\1\\\\0\n",
    "\\end{matrix}\n",
    "\\right],\n",
    "\\ e_3=\\left[\n",
    "\\begin{matrix}\n",
    "0\\\\0\\\\1\n",
    "\\end{matrix}\n",
    "\\right]\n",
    "$$"
   ]
  },
  {
   "cell_type": "markdown",
   "metadata": {},
   "source": [
    "Here we show the linear combination of standard basis for vector $(3, 6)$"
   ]
  },
  {
   "cell_type": "code",
   "execution_count": null,
   "metadata": {},
   "outputs": [],
   "source": [
    "fig, ax = plt.subplots(figsize = (10, 10))\n",
    "\n",
    "arrows = np.array([[[0,0,1,0]],\n",
    "                  [[0,0,0,1]],\n",
    "                  [[0,0,3,0]],\n",
    "                  [[0,0,0,6]],\n",
    "                  [[0,0,3,6]]])\n",
    "\n",
    "colors = ['r','b','r','b','g']\n",
    "for i in range(arrows.shape[0]):\n",
    "    X,Y,U,V = zip(*arrows[i,:,:])\n",
    "    ax.arrow(X[0], Y[0], U[0], V[0], color = colors[i], width = .03, \n",
    "             length_includes_head = True,\n",
    "             head_width = .2, # default: 3*width\n",
    "             head_length = .3,\n",
    "             overhang = .4)\n",
    "\n",
    "############################Dashed##################################\n",
    "line1 = np.array([[3, 0], [3, 6]])\n",
    "ax.plot(line1[:,0], line1[:,1], ls = '--', lw = 3, color = 'black', alpha = .5)\n",
    "\n",
    "line2 = np.array([[0, 6], [3, 6]])\n",
    "ax.plot(line2[:,0], line2[:,1], ls = '--', lw = 3, color = 'black', alpha = .5)\n",
    "\n",
    "############################Text#####################################\n",
    "\n",
    "ax.text(0, 1, '$e_2$', size = 15)\n",
    "ax.text(1, 0, '$e_1$', size = 15)\n",
    "\n",
    "ax.text(0, 6, '$6e_2$', size = 15)\n",
    "ax.text(3, 0, '$3e_1$', size = 15)\n",
    "\n",
    "ax.text(3, 6, '$3e_1+6e_2$', size = 15)\n",
    "\n",
    "###########################Grid Setting##############################\n",
    "# Major ticks every 20, minor ticks every 5\n",
    "major_ticks = np.arange(0, 10, 2)\n",
    "minor_ticks = np.arange(0, 10, .5)\n",
    "\n",
    "ax.set_xticks(major_ticks)\n",
    "ax.set_xticks(minor_ticks, minor=True)\n",
    "\n",
    "ax.set_yticks(major_ticks)\n",
    "ax.set_yticks(minor_ticks, minor=True)\n",
    "\n",
    "ax.grid(which='both')\n",
    "ax.grid(which='minor', alpha=0.2)\n",
    "ax.grid(which='major', alpha=0.5)\n",
    "\n",
    "#######################################################################\n",
    "ax.set_xlabel('x-axis', size = 18)\n",
    "ax.set_ylabel('y-axis', size = 18)\n",
    "ax.axis([-1, 10, -1, 10])\n",
    "ax.grid()\n",
    "plt.show()"
   ]
  },
  {
   "cell_type": "markdown",
   "metadata": {},
   "source": [
    "But non-standard basis is what we mostly use, we can show that $(2, 1)$ and $(-1, 2)$ is a basis for $\\mathbb{R}^2$."
   ]
  },
  {
   "cell_type": "code",
   "execution_count": null,
   "metadata": {},
   "outputs": [],
   "source": [
    "fig, ax = plt.subplots(figsize = (10, 10))\n",
    "\n",
    "v1 = np.array([2, 1])\n",
    "v2 = np.array([-1, 2])\n",
    "v1m2 = 2*v1\n",
    "v2m3 = 3*v2\n",
    "\n",
    "arrows = np.array([[[0, 0, v1[0], v1[1]]],\n",
    "               [[0, 0, v2[0], v2[1]]],\n",
    "               [[0, 0, 2*v1[0], 2*v1[1]]],\n",
    "               [[0, 0, 3*v2[0], 3*v2[1]]],\n",
    "               [[0, 0, (v1m2+v2m3)[0],(v1m2+v2m3)[1]]]])\n",
    "\n",
    "colors = ['r','b','r','b','g']\n",
    "for i in range(arrows.shape[0]):\n",
    "    X,Y,U,V = zip(*arrows[i,:,:])\n",
    "    ax.arrow(X[0], Y[0], U[0], V[0], color = colors[i], width = .03, \n",
    "             length_includes_head = True,\n",
    "             head_width = .2, # default: 3*width\n",
    "             head_length = .3,\n",
    "             overhang = .4)\n",
    "\n",
    "# ############################ Dashed ##################################\n",
    "\n",
    "point1 = [v2m3[0], v2m3[1]]\n",
    "point2 = [v2m3[0]+v1m2[0], v2m3[1]+v1m2[1]]\n",
    "line = np.array([point1, point2])\n",
    "ax.plot(line[:,0], line[:,1], ls = '--', lw = 3, color = 'black', alpha = .5)\n",
    "\n",
    "point1 = [v1m2[0], v1m2[1]]\n",
    "point2 = [v2m3[0]+v1m2[0], v2m3[1]+v1m2[1]]\n",
    "line = np.array([point1, point2])\n",
    "ax.plot(line[:,0], line[:,1], ls = '--', lw = 3, color = 'black', alpha = .5)\n",
    "\n",
    "############################Text#####################################\n",
    "\n",
    "ax.text(2, 1, '$v_1$', size = 15)\n",
    "ax.text(-1, 2, '$v_2$', size = 15)\n",
    "\n",
    "ax.text(v1m2[0],v1m2[1], '$2v_1$', size = 15)\n",
    "ax.text(v2m3[0],v2m3[1], '$3v_2$', size = 15)\n",
    "\n",
    "ax.text(v1m2[0]+v2m3[0],v1m2[1]+v2m3[1], '$2v_1+3v_2$', size = 15)\n",
    "############################## Grid ###############################\n",
    "\n",
    "t = np.linspace(-6, 6)\n",
    "for k in range(-6, 7):\n",
    "    x = 2*k - t\n",
    "    y = k + 2*t\n",
    "    ax.plot(x, y, ls = '--', color = 'red', alpha = .3)\n",
    "\n",
    "for k in range(-6, 7):\n",
    "    x = -k+2*t\n",
    "    y = 2*k+t\n",
    "    ax.plot(x, y, ls = '--', color = 'red', alpha = .3)\n",
    "\n",
    "#######################################################################\n",
    "ax.set_xlabel('x-axis', size = 18)\n",
    "ax.set_ylabel('y-axis', size = 18)\n",
    "ax.axis([-6,6, 0, 10]) # np.linalg.norm(v1m2+v2m3) is intercept\n",
    "plt.show()"
   ]
  },
  {
   "cell_type": "markdown",
   "metadata": {},
   "source": [
    "Whether basis is standard or not, as long as they are independent, they span $\\mathbb{R}^2$."
   ]
  },
  {
   "cell_type": "markdown",
   "metadata": {},
   "source": [
    "## <font face=\"gotham\" color=\"purple\"> Basis of $\\mathbb{R}^3$</font>"
   ]
  },
  {
   "cell_type": "markdown",
   "metadata": {},
   "source": [
    "Next we show the standard basis and a non-standard basis of $\\mathbb{R}^3$."
   ]
  },
  {
   "cell_type": "markdown",
   "metadata": {},
   "source": [
    "The standard basis in $\\mathbb{R}^3$ is \n",
    "\n",
    "$$\n",
    "(e_1, e_2, e_3)=\n",
    "\\left[\n",
    "\\begin{matrix}\n",
    "1 & 0 & 0\\\\\n",
    "0 & 1 & 0\\\\\n",
    "0 & 0 & 1\n",
    "\\end{matrix}\n",
    "\\right]\n",
    "$$\n",
    "\n",
    "and we can show a vector $(2,3,4)$ in $\\mathbb{R}^3$ is a linear combination of them. We did a 3D linear combination plot in lecture 6, here we just reproduce it by importing the module at the top of the note."
   ]
  },
  {
   "cell_type": "code",
   "execution_count": null,
   "metadata": {},
   "outputs": [],
   "source": [
    "linAlgVis.linearCombo(2,3,4)"
   ]
  },
  {
   "cell_type": "markdown",
   "metadata": {},
   "source": [
    "Next we show the linear combination of a non-standard basis, $(2,1,0), (0,3,1), (0,0,3)$. I also wrote another function ```linearComboNonStd``` in the ```linAlgVis``` module."
   ]
  },
  {
   "cell_type": "code",
   "execution_count": null,
   "metadata": {},
   "outputs": [],
   "source": [
    "a, b, c = 2, 3, 4\n",
    "vec1 = np.array([2,1,0])\n",
    "vec2 = np.array([0,3,1])\n",
    "vec3 = np.array([1,2,3])\n",
    "linAlgVis.linearComboNonStd(2,3,4, vec1, vec2, vec3)"
   ]
  },
  {
   "cell_type": "markdown",
   "metadata": {},
   "source": [
    "# <font face=\"gotham\" color=\"purple\"> Dimension</font>"
   ]
  },
  {
   "cell_type": "markdown",
   "metadata": {},
   "source": [
    "If $B$ is the basis for $V$, then the **number of vectors** in $B$ is the **dimension** of $V$, denoted as $\\text{dim}(V)$."
   ]
  },
  {
   "cell_type": "markdown",
   "metadata": {},
   "source": [
    "<font size = 3 face=\"gotham\"> Theorem 1</font>"
   ]
  },
  {
   "cell_type": "markdown",
   "metadata": {},
   "source": [
    "Let $B$ be the basis of $V$, $B$ has $n$ vectors, and $T$ is a set of vectors in $V$, if $T$ has $p$ vectors that $p>n$, then $T$ must be linearly dependent."
   ]
  },
  {
   "cell_type": "markdown",
   "metadata": {},
   "source": [
    "<font size = 3 face=\"gotham\"> Theorem 2</font>"
   ]
  },
  {
   "cell_type": "markdown",
   "metadata": {},
   "source": [
    "If $B$ and $T$ both are bases of $V$ then $B$ and $T$ must have the same number of vectors which is the $\\text{dim}(V)$."
   ]
  },
  {
   "cell_type": "markdown",
   "metadata": {},
   "source": [
    "<font size = 3 face=\"gotham\"> Theorem 3</font>"
   ]
  },
  {
   "cell_type": "markdown",
   "metadata": {},
   "source": [
    "$\\text{dim}(V) = n$ and $S$ is a set of vectors from $V$ with $n$ linearly independent vectors, then $\\text{span}(S)=V$."
   ]
  },
  {
   "cell_type": "markdown",
   "metadata": {},
   "source": [
    "<font size = 3 face=\"gotham\" > Theorem 4</font>"
   ]
  },
  {
   "cell_type": "markdown",
   "metadata": {},
   "source": [
    "Let $v_1, v_2, ...,v_n$ be a set of vectors in the vector space $V$ and let $W = \\text{span}\\{v_1,v_2,...,v_n\\}$. If $v_n$ is a linear combination of $v_1, v_2,...v_{n-1}$, then $W = \\text{span}\\{v_1,v_2,...,v_{n-1}\\}$ "
   ]
  },
  {
   "cell_type": "markdown",
   "metadata": {},
   "source": [
    "These theorems are self-explanatory, no need to memorize, the best way to understand them is visualize them in your mind with $\\mathbb{R}^3$."
   ]
  },
  {
   "cell_type": "markdown",
   "metadata": {},
   "source": [
    "# <font face=\"gotham\" color=\"purple\"> Column Space</font>"
   ]
  },
  {
   "cell_type": "markdown",
   "metadata": {},
   "source": [
    "Columns space of a matrix is denoted as $\\text{Col}A$, which is the space spanned by all columns of a matrix."
   ]
  },
  {
   "cell_type": "markdown",
   "metadata": {},
   "source": [
    " <font size = 4 face=\"gotham\" color=\"purple\">Important Fact </font>"
   ]
  },
  {
   "cell_type": "markdown",
   "metadata": {},
   "source": [
    "Row operations will not change the dependence of the columns of a matrix."
   ]
  },
  {
   "cell_type": "markdown",
   "metadata": {},
   "source": [
    "Let's say we have a matrix $A$"
   ]
  },
  {
   "cell_type": "code",
   "execution_count": null,
   "metadata": {},
   "outputs": [],
   "source": [
    "A = sy.Matrix([[1, -2, -1, 3, 0], [-2, 4, 5, -5, 3], [3, -6, -6, 8, 2]]);A"
   ]
  },
  {
   "cell_type": "markdown",
   "metadata": {},
   "source": [
    "Perform ```rref``` operations, and dependence of $\\text{Col}A$ reserved."
   ]
  },
  {
   "cell_type": "code",
   "execution_count": null,
   "metadata": {},
   "outputs": [],
   "source": [
    "A.rref()"
   ]
  },
  {
   "cell_type": "markdown",
   "metadata": {},
   "source": [
    "The $2nd$ and the $4th$ column are the linear combination of other vectors, it is safe remove them without tampering the column space. Therefore the $\\text{Col}A$ is "
   ]
  },
  {
   "cell_type": "code",
   "execution_count": null,
   "metadata": {},
   "outputs": [],
   "source": [
    "ColA = sy.Matrix([[1, -1,  0], [-2,  5,  3], [3, -6, 2]]); ColA"
   ]
  },
  {
   "cell_type": "markdown",
   "metadata": {},
   "source": [
    "## <font face=\"gotham\" color=\"purple\"> Column Spaces Aren't the Same</font>"
   ]
  },
  {
   "cell_type": "markdown",
   "metadata": {},
   "source": [
    "Did you notice there was a catch when we say the dependency of $\\text{Col}A$ was not affect by row operations, however we did not say the column spaces are the same as before and after the row operations.\n",
    "\n",
    "Actually, they can never be the same. \n",
    "\n",
    "Consider the matrix $A$:"
   ]
  },
  {
   "cell_type": "code",
   "execution_count": null,
   "metadata": {},
   "outputs": [],
   "source": [
    "A = sy.Matrix([[3, -1, -1],[2, 4, 4], [-1, 1, 1]]); A"
   ]
  },
  {
   "cell_type": "markdown",
   "metadata": {},
   "source": [
    "If we perform ```rref```, $A$ is turned into $B$. Apparently the column space of them are different apparently."
   ]
  },
  {
   "cell_type": "code",
   "execution_count": null,
   "metadata": {},
   "outputs": [],
   "source": [
    "B = A.rref(); B"
   ]
  },
  {
   "cell_type": "markdown",
   "metadata": {},
   "source": [
    "Now list the basis of their column spaces: are $\\text{Col}A$ and $\\text{Col}B$ the same?"
   ]
  },
  {
   "cell_type": "markdown",
   "metadata": {},
   "source": [
    "$$\n",
    "\\text{col}(A)=\\text{span}\\left\\{\\left[ \\matrix{3\\cr 2\\cr -1}\\right],\\ \\left[\\matrix{-1\\cr 4\\cr 1}\\right]\\right\\}\n",
    "$$\n",
    "$$\n",
    "\\text{col}(B)=\\text{span}\\left\\{\\left[ \\matrix{1\\cr 0\\cr 0}\\right],\\ \\left[\\matrix{0\\cr 1\\cr 0}\\right]\\right\\}\n",
    "$$"
   ]
  },
  {
   "cell_type": "markdown",
   "metadata": {},
   "source": [
    "It's easy to visualize them, they are two intersecting planes."
   ]
  },
  {
   "cell_type": "code",
   "execution_count": null,
   "metadata": {},
   "outputs": [],
   "source": [
    "fig = plt.figure(figsize = (10,10))\n",
    "ax = fig.add_subplot(projection='3d')\n",
    "\n",
    "s = np.linspace(-2, 2, 20)\n",
    "t = np.linspace(-2, 2, 20)\n",
    "S, T = np.meshgrid(s, t)\n",
    "\n",
    "X = 3*S - T\n",
    "Y = 2*S + 4*T\n",
    "Z = -S + T\n",
    "ax.plot_wireframe(X, Y, Z, linewidth = .5, color = 'r')\n",
    "\n",
    "s = np.linspace(-10, 10, 20)\n",
    "t = np.linspace(-10, 10, 20)\n",
    "S, T = np.meshgrid(s, t)\n",
    "X = S\n",
    "Y = T\n",
    "Z = np.zeros(S.shape)\n",
    "ax.plot_wireframe(X, Y, Z, linewidth = .5, color = 'k')\n",
    "ax.view_init(elev=14, azim=58)"
   ]
  },
  {
   "cell_type": "markdown",
   "metadata": {},
   "source": [
    "## <font face=\"gotham\" color=\"purple\"> Method for Finding Basis of $\\mathbb{R}^n$</font>"
   ]
  },
  {
   "cell_type": "markdown",
   "metadata": {},
   "source": [
    "Consider matrix $A_{4\\times 2}$, find a basis for $\\mathbb{R}^4$.\n",
    "\n",
    "Note that we only have two column vectors, not possible to span $\\mathbb{R}^4$. The common method is to use another two standard basis vectors joined with $A$ to form the basis of $\\mathbb{R}^4$."
   ]
  },
  {
   "cell_type": "code",
   "execution_count": null,
   "metadata": {},
   "outputs": [],
   "source": [
    "A = sy.randMatrix(4, 2);A"
   ]
  },
  {
   "cell_type": "code",
   "execution_count": null,
   "metadata": {},
   "outputs": [],
   "source": [
    "I = sy.eye(4);I"
   ]
  },
  {
   "cell_type": "markdown",
   "metadata": {},
   "source": [
    "Concatenate the matrix horizontally."
   ]
  },
  {
   "cell_type": "code",
   "execution_count": null,
   "metadata": {},
   "outputs": [],
   "source": [
    "Aug = A.row_join(I);Aug# concatenate "
   ]
  },
  {
   "cell_type": "code",
   "execution_count": null,
   "metadata": {},
   "outputs": [],
   "source": [
    "Aug.rref()"
   ]
  },
  {
   "cell_type": "markdown",
   "metadata": {},
   "source": [
    "Therefore the first 4 columns of augmented matrix is a basis."
   ]
  },
  {
   "cell_type": "code",
   "execution_count": null,
   "metadata": {},
   "outputs": [],
   "source": [
    "Aug[:,0:4]"
   ]
  },
  {
   "cell_type": "markdown",
   "metadata": {},
   "source": [
    "# <font face=\"gotham\" color=\"purple\"> Change of Basis</font>"
   ]
  },
  {
   "cell_type": "markdown",
   "metadata": {},
   "source": [
    "Change of basis is for changing the coordinate system,e.g. from Cartesian to other system."
   ]
  },
  {
   "cell_type": "markdown",
   "metadata": {},
   "source": [
    "## <font face=\"gotham\" color=\"purple\"> Coordinate Vector</font>"
   ]
  },
  {
   "cell_type": "markdown",
   "metadata": {},
   "source": [
    "We have a basis $B=\\{b_1, b_2\\}$, and $B$'s **coordinate vector** is denoted as $\\big[v\\big]_B$. If\n",
    "\n",
    "$$\n",
    "b_1 = \\left[\\begin{matrix}1\\\\1 \\end{matrix}\\right]\\\\\n",
    "b_2 = \\left[\\begin{matrix}-2\\\\1 \\end{matrix}\\right]\\\\\n",
    "\\big[v\\big]_B = \\left[\\begin{matrix}2\\\\3 \\end{matrix}\\right]\n",
    "$$\n",
    "\n",
    "Then compute $v$ by using the basis and its coordinate vectors. We want to convert the $\\big[v\\big]_B$ into a pair of Cartesian coordinates."
   ]
  },
  {
   "cell_type": "code",
   "execution_count": null,
   "metadata": {},
   "outputs": [],
   "source": [
    "P = sy.Matrix([[1,-2],[1,1]]); P"
   ]
  },
  {
   "cell_type": "code",
   "execution_count": null,
   "metadata": {},
   "outputs": [],
   "source": [
    "v_B = sy.Matrix([[2], [3]]); v_B"
   ]
  },
  {
   "cell_type": "code",
   "execution_count": null,
   "metadata": {},
   "outputs": [],
   "source": [
    "P*v_B"
   ]
  },
  {
   "cell_type": "markdown",
   "metadata": {},
   "source": [
    "Now we have successfully converted  $\\big[v\\big]_B$  into Cartesian"
   ]
  },
  {
   "cell_type": "markdown",
   "metadata": {},
   "source": [
    "On the other way around, what if we know $v$ i.e. the Cartesian coordinates, and we want to find out $\\big[v\\big]_B$, for instance \n",
    "\n",
    "$$\n",
    "v = \\left[\\begin{matrix}-1\\\\-4 \\end{matrix}\\right]\n",
    "$$\n",
    "\n",
    "Then we can formulate the question as:\n",
    "\n",
    "$$\n",
    "\\left[\\begin{matrix}1 & -2\\\\1 & 1\\end{matrix}\\right]\n",
    "\\left[\\begin{matrix}b_1\\\\b_2 \\end{matrix}\\right]=\n",
    "\\left[\\begin{matrix}-1\\\\-4 \\end{matrix}\\right]\n",
    "$$"
   ]
  },
  {
   "cell_type": "markdown",
   "metadata": {},
   "source": [
    "Just solve the linear system"
   ]
  },
  {
   "cell_type": "code",
   "execution_count": null,
   "metadata": {},
   "outputs": [],
   "source": [
    "Aug = sy.Matrix([[1,-2,-1],[1,1,-4]])\n",
    "Aug.rref()"
   ]
  },
  {
   "cell_type": "markdown",
   "metadata": {},
   "source": [
    "We get $\\big[v\\big]_B = (-3, -1)^T$."
   ]
  },
  {
   "cell_type": "markdown",
   "metadata": {},
   "source": [
    "## <font face=\"gotham\" color=\"purple\"> Change of Basis</font>"
   ]
  },
  {
   "cell_type": "markdown",
   "metadata": {},
   "source": [
    "Most probably we would like to change coordinates from  $\\big[v\\big]_B$ to  $\\big[v\\big]_C$, which both aren't Cartesian coordinates."
   ]
  },
  {
   "cell_type": "markdown",
   "metadata": {},
   "source": [
    "Say we have two bases $B=\\{b_1,\\ b_2\\}$, $C=\\{c_1,\\ c_2\\}$ in $\\mathbb{R}^2$.\n",
    "\n",
    "$$\n",
    "b_1=\n",
    "\\left[\\begin{matrix}2\\\\1 \\end{matrix}\\right],\\quad\n",
    "b_2 = \n",
    "\\left[\\begin{matrix}-1\\\\1 \\end{matrix}\\right]\\\\\n",
    "c_1=\n",
    "\\left[\\begin{matrix}1\\\\1 \\end{matrix}\\right],\\quad\n",
    "c_2 = \n",
    "\\left[\\begin{matrix}-3\\\\1 \\end{matrix}\\right]\\\\\n",
    "$$\n",
    "\n",
    "We would like to change $\\big[v\\big]_B$ to $\\big[v\\big]_C$. Formally this is reformulated as finding **transition matrix** $P_{C\\leftarrow B}$."
   ]
  },
  {
   "cell_type": "markdown",
   "metadata": {},
   "source": [
    "First we find coordinate vectors for $b_1$ and $b_2$ in $C: b_1 = xc_1+yc_2$, $b_2 = xc_1+yc_2$.\n",
    "\n",
    "$$\n",
    "\\left[\\begin{matrix}2\\\\1 \\end{matrix}\\right] = x\\left[\\begin{matrix}1\\\\1 \\end{matrix}\\right]+y\\left[\\begin{matrix}-3\\\\1 \\end{matrix}\\right]= \\left[\\begin{matrix}1 & -3\\\\1 &1 \\end{matrix}\\right]\\left[\\begin{matrix}x \\\\y \\end{matrix}\\right]\\\\\n",
    "\\left[\\begin{matrix}-1\\\\1 \\end{matrix}\\right] = x\\left[\\begin{matrix}1\\\\1 \\end{matrix}\\right]+y\\left[\\begin{matrix}-3\\\\1 \\end{matrix}\\right]=\\left[\\begin{matrix}1 & -3\\\\1 &1 \\end{matrix}\\right]\\left[\\begin{matrix}x \\\\y \\end{matrix}\\right]\\\\\n",
    "$$"
   ]
  },
  {
   "cell_type": "markdown",
   "metadata": {},
   "source": [
    "Extract augmented matrix for both system:\n",
    "\n",
    "$$\n",
    "\\left[\\begin{matrix}1 & -3 & 2\\\\1 &1 &1 \\end{matrix}\\right]\\\\\n",
    "\\left[\\begin{matrix}1 & -3 & -1\\\\1 &1 &1 \\end{matrix}\\right]\n",
    "$$"
   ]
  },
  {
   "cell_type": "markdown",
   "metadata": {},
   "source": [
    "They can be combined into one augmented matrix $[C|B]$\n",
    "\n",
    "$$\n",
    "\\left[\\begin{matrix}1 & -3  & 2 & -1\\\\1 &1 &1 &1 \\end{matrix}\\right]\n",
    "$$"
   ]
  },
  {
   "cell_type": "code",
   "execution_count": null,
   "metadata": {},
   "outputs": [],
   "source": [
    "Aug = sy.Matrix([[1,-3,2,-1],[1, 1, 1, 1]])\n",
    "Aug.rref()"
   ]
  },
  {
   "cell_type": "markdown",
   "metadata": {},
   "source": [
    "The last two columns of rref augmented matrix is the $P_{C\\leftarrow B}$.\n",
    "\n",
    "In general, we can find transition matrix by using\n",
    "\n",
    "$$[\\ C\\ |\\ B\\ ]\\longrightarrow [\\ I\\ |\\ P_{C\\leftarrow B}\\ ]$$"
   ]
  },
  {
   "cell_type": "markdown",
   "metadata": {},
   "source": [
    "### <font face=\"gotham\" color=\"purple\"> An Example</font>"
   ]
  },
  {
   "cell_type": "markdown",
   "metadata": {},
   "source": [
    "Let \n",
    "\n",
    "$$\n",
    "B=\\left\\{\\left[\\begin{array}{l}\n",
    "1 \\\\\n",
    "1 \\\\\n",
    "0\n",
    "\\end{array}\\right],\\left[\\begin{array}{l}\n",
    "0 \\\\\n",
    "1 \\\\\n",
    "1\n",
    "\\end{array}\\right],\\left[\\begin{array}{l}\n",
    "0 \\\\\n",
    "1 \\\\\n",
    "0\n",
    "\\end{array}\\right]\\right\\} \\quad \\text { and } \\quad C=\\left\\{\\left[\\begin{array}{l}\n",
    "1 \\\\\n",
    "1 \\\\\n",
    "2\n",
    "\\end{array}\\right],\\left[\\begin{array}{l}\n",
    "2 \\\\\n",
    "1 \\\\\n",
    "1\n",
    "\\end{array}\\right],\\left[\\begin{array}{l}\n",
    "1 \\\\\n",
    "0 \\\\\n",
    "1\n",
    "\\end{array}\\right]\\right\\}\n",
    "$$\n",
    "\n",
    "be two bases for $\\mathbb{R}^3$, find the $P_{C\\leftarrow B}$ and given $\\big[v\\big]_B = (1,-1,2)$, find $\\big[v\\big]_C$."
   ]
  },
  {
   "cell_type": "markdown",
   "metadata": {},
   "source": [
    "Construct augmented matrix:"
   ]
  },
  {
   "cell_type": "code",
   "execution_count": null,
   "metadata": {},
   "outputs": [],
   "source": [
    "v_B =  sy.Matrix([1, -1, 2])\n",
    "B = sy.Matrix([[1, 0, 0], [1, 1 ,1], [0, 1, 0]])\n",
    "C = sy.Matrix([[1, 2, 1], [1, 1 ,0], [2, 1, 1]])\n",
    "Aug = C.row_join(B); Aug# concatenate "
   ]
  },
  {
   "cell_type": "markdown",
   "metadata": {},
   "source": [
    "The RHS block of rref is $P_{C\\leftarrow B}$ as we have shown above."
   ]
  },
  {
   "cell_type": "code",
   "execution_count": null,
   "metadata": {},
   "outputs": [],
   "source": [
    "Aug_rref = Aug.rref();Aug_rref"
   ]
  },
  {
   "cell_type": "code",
   "execution_count": null,
   "metadata": {},
   "outputs": [],
   "source": [
    "v_C = Aug_rref[0][:,3:6]*v_B; v_C"
   ]
  },
  {
   "cell_type": "markdown",
   "metadata": {},
   "source": [
    "The $\\big[v\\big]_C$ is $(0, 2, -3)$."
   ]
  }
 ],
 "metadata": {
  "kernelspec": {
   "display_name": "Python 3",
   "language": "python",
   "name": "python3"
  },
  "language_info": {
   "codemirror_mode": {
    "name": "ipython",
    "version": 3
   },
   "file_extension": ".py",
   "mimetype": "text/x-python",
   "name": "python",
   "nbconvert_exporter": "python",
   "pygments_lexer": "ipython3",
   "version": "3.8.8"
  },
  "toc": {
   "base_numbering": 1,
   "nav_menu": {},
   "number_sections": true,
   "sideBar": true,
   "skip_h1_title": false,
   "title_cell": "Table of Contents",
   "title_sidebar": "Contents",
   "toc_cell": false,
   "toc_position": {},
   "toc_section_display": true,
   "toc_window_display": false
  }
 },
 "nbformat": 4,
 "nbformat_minor": 4
}
