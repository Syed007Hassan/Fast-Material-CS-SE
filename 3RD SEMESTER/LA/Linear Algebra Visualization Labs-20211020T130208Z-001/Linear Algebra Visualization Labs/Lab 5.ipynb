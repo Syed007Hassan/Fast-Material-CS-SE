{
 "cells": [
  {
   "cell_type": "code",
   "execution_count": null,
   "metadata": {},
   "outputs": [],
   "source": [
    "import matplotlib.pyplot as plt\n",
    "import numpy as np\n",
    "from mpl_toolkits.mplot3d import Axes3D\n",
    "import scipy as sp\n",
    "import scipy.linalg\n",
    "import sympy as sy\n",
    "sy.init_printing() "
   ]
  },
  {
   "cell_type": "markdown",
   "metadata": {},
   "source": [
    "# <font face=\"gotham\" color=\"purple\"> Vector Space </font>"
   ]
  },
  {
   "cell_type": "markdown",
   "metadata": {},
   "source": [
    "A vector space, as its name indicates, is the space for vectors, which defines two operations, **addition** and **multiplication by scalars**, subject to $10$ axioms below."
   ]
  },
  {
   "cell_type": "markdown",
   "metadata": {},
   "source": [
    "1. The sum of ${u}$ and ${v}$, denoted by ${u}+{v},$ is in $V$\n",
    "2. ${u}+{v}={v}+{u}$\n",
    "3. $({u}+{v})+{w}={u}+({v}+{w})$\n",
    "4. There is a zero vector $0$ in $V$ such that ${u}+{0}={u}$\n",
    "5. For each ${u}$ in $V$, there is a vector $-{u}$ in $V$ such that ${u}+(-{u})={0}$\n",
    "6. The scalar multiple of ${u}$ by $c,$ denoted by $c {u},$ is in $V$\n",
    "7. $c({u}+{v})=c {u}+c {v}$\n",
    "8. $(c+d) {u}=c {u}+d {u}$\n",
    "9. $c(d {u})=(c d) {u}$\n",
    "10. $1 {u}={u}$"
   ]
  },
  {
   "cell_type": "markdown",
   "metadata": {},
   "source": [
    "Though $10$ axioms seem quite apparent and superfluous, simply remember this: _addition and multiplication are closed in vector space_."
   ]
  },
  {
   "cell_type": "markdown",
   "metadata": {},
   "source": [
    "All axioms are self-explanatory without proof, we can visualize axiom $7$ with a user-defined function."
   ]
  },
  {
   "cell_type": "code",
   "execution_count": null,
   "metadata": {},
   "outputs": [],
   "source": [
    "def vecSpaceAx7(u, v, c):\n",
    "    fig, ax = plt.subplots(figsize = (7, 7))\n",
    "    '''Syntax vecSpaceAx7(u, v, c), to demonstrate Axiom 7.'''\n",
    "    ax.arrow(0, 0, u[0], u[1], color = 'red', width = .08, \n",
    "         length_includes_head = True,\n",
    "         head_width = .3, # default: 3*width\n",
    "         head_length = .6,\n",
    "         overhang = .4)\n",
    "    \n",
    "    ax.arrow(0, 0, v[0], v[1], color = 'blue', width = .08, \n",
    "         length_includes_head = True,\n",
    "         head_width = .3, # default: 3*width\n",
    "         head_length = .6,\n",
    "         overhang = .4)\n",
    "    \n",
    "    ax.arrow(0, 0, u[0]+v[0], u[1]+v[1], color = 'green', width = .08, \n",
    "         length_includes_head = True,\n",
    "         head_width = .3, # default: 3*width\n",
    "         head_length = .6,\n",
    "         overhang = .4)\n",
    "    \n",
    "    ax.arrow(0, 0, c*u[0], c*u[1], color = 'red', width = .08, alpha=.5, \n",
    "         length_includes_head = True,\n",
    "         head_width = .3, # default: 3*width\n",
    "         head_length = .6,\n",
    "         overhang = .4)\n",
    "    \n",
    "    ax.arrow(0, 0, c*v[0], c*v[1], color = 'blue', width = .08, alpha=.5, \n",
    "         length_includes_head = True,\n",
    "         head_width = .3, # default: 3*width\n",
    "         head_length = .6,\n",
    "         overhang = .4)    \n",
    "    ax.arrow(0, 0, c*(u[0]+v[0]), c*(u[1]+v[1]), color = 'green', width = .08, alpha=.5,  \n",
    "         length_includes_head = True,\n",
    "         head_width = .3, # default: 3*width\n",
    "         head_length = .6,\n",
    "         overhang = .4)\n",
    "    \n",
    "    ###########################Dashed Lines#################################\n",
    "    point1 = [u[0], u[1]]\n",
    "    point2 = [u[0] + v[0], u[1] + v[1]]\n",
    "    line = np.array([point1, point2])\n",
    "    ax.plot(line[:,0], line[:,1], ls = '--', lw = 3, color = 'red', alpha = .5)\n",
    "    \n",
    "    point1 = [v[0], v[1]]\n",
    "    point2 = [u[0] + v[0], u[1] + v[1]]\n",
    "    line = np.array([point1, point2])\n",
    "    ax.plot(line[:,0], line[:,1], ls = '--', lw = 3, color = 'blue', alpha = .5)\n",
    "\n",
    "    point1 = [c*v[0], c*v[1]]\n",
    "    point2 = [c*(u[0] + v[0]),c*(u[1] + v[1])]\n",
    "    line = np.array([point1, point2])\n",
    "    ax.plot(line[:,0], line[:,1], ls = '--', lw = 3, color = 'blue', alpha = .5)\n",
    "\n",
    "    point1 = [c*u[0], c*u[1]]\n",
    "    point2 = [c*(u[0] + v[0]), c*(u[1] + v[1])]\n",
    "    line = np.array([point1, point2])\n",
    "    ax.plot(line[:,0], line[:,1], ls = '--', lw = 3, color = 'blue', alpha = .5)\n",
    "    \n",
    "    ####################################Text###############################\n",
    "    \n",
    "    ax.text(x = u[0], y = u[1], s = '$(%.0d, %.0d)$' % (u[0], u[1]), size = 16)\n",
    "    ax.text(x = v[0], y = v[1], s = '$(%.0d, %.0d)$' % (v[0], v[1]), size = 16)\n",
    "    ax.text(x = u[0]+v[0], y = u[1]+v[1], s = '$(%.0d, %.0d)$' % (u[0]+v[0], u[1]+v[1]), size = 16)    \n",
    "    ax.text(x = c*u[0], y = c*v[1], s = '$(%.0d, %.0d)$' % (c*u[0], c*u[1]), size = 16) \n",
    "    ax.text(x = c*v[0], y = c*v[1], s = '$(%.0d, %.0d)$' % (c*v[0], c*v[1]), size = 16)     \n",
    "    ax.text(x = c*(u[0]+v[0]), y = c*(u[1]+v[1]), s = '$(%.0d, %.0d)$' % (c*(u[0]+v[0]), c*(u[1]+v[1])), size = 16)     \n",
    "    \n",
    "    ax.set_title('Axiom 7: $c(\\mathbf{u}+\\mathbf{v})=c \\mathbf{u}+c \\mathbf{v}$', size = 19, color = 'red')\n",
    "    \n",
    "    ax.axis([0, np.max(c*u)+6, 0, np.max(c*v)+6])\n",
    "    ax.grid(True)\n",
    "    \n",
    "if __name__ == '__main__':\n",
    "    u = np.array([2,3])\n",
    "    v = np.array([3,1])\n",
    "    c = 2\n",
    "    vecSpaceAx7(u, v, c)"
   ]
  },
  {
   "cell_type": "markdown",
   "metadata": {},
   "source": [
    "Try different vectors."
   ]
  },
  {
   "cell_type": "code",
   "execution_count": null,
   "metadata": {},
   "outputs": [],
   "source": [
    "u = np.array([1, 3])\n",
    "v = np.array([5, 2])\n",
    "vecSpaceAx7(u, v, 2)"
   ]
  },
  {
   "cell_type": "markdown",
   "metadata": {},
   "source": [
    "However the vector space has more general meaning than containing vectors, the functions and polynomials can also be in the vector space as we have show in the section of linear dependence. \n",
    "\n",
    "The difference is that the functions has infinite number of elements (continuous functions) in contrast to vectors.\n",
    "\n",
    "We can demonstrate in the vector space for functions by plotting two trigonometric functions: $\\sin(x)$ and $\\cos{(x+1)}$ (stem plot), their addition in vector space is the pink shaded plot."
   ]
  },
  {
   "cell_type": "code",
   "execution_count": null,
   "metadata": {},
   "outputs": [],
   "source": [
    "def funcVecSp(x1, x2, c):\n",
    "    fig, ax = plt.subplots(figsize = (10, 10))\n",
    "    '''Syntax funcVecSp(x), x is the domain, for instance, x = np.linspace(-3, 3, 20)'''\n",
    "    y1 = c * np.sin(x1)\n",
    "    ax.stem(x1, y1, use_line_collection = True, linefmt = 'red', label ='$\\sin{x}$')\n",
    "    \n",
    "    y2 = c * np.cos(x2+1)\n",
    "    ax.stem(x2, y2, use_line_collection = True, linefmt = 'blue')\n",
    "    \n",
    "    y3 = c*(np.sin(x1)+np.cos(x2+1))\n",
    "    ax.plot(x2, y3, lw = 4, color = 'red', alpha = .6)\n",
    "    \n",
    "    ax.fill_between(x2, y3, 0, color  = 'red', alpha = .3)\n",
    "    \n",
    "    str1 = '$\\sin(x)+\\cos(x+1)$'\n",
    "    ax.annotate(str1, xy = (1, 2*(np.sin(1)+np.cos(1+1))), xytext = (0, 3), weight = 'bold', color  =  'r', fontsize =18,\n",
    "             arrowprops = dict(arrowstyle = '->', connectionstyle = 'arc3', color = 'b'))\n",
    "    \n",
    "    ax.axis([-5, 5, -4, 4])\n",
    "    ax.legend()\n",
    "\n",
    "if __name__ == '__main__':\n",
    "    x1 = np.arange(-5, 5, 0.3)\n",
    "    x2 = np.arange(-5.1, 4.9, 0.3)\n",
    "    c = 2\n",
    "    funcVecSp(x1, x2, c)"
   ]
  },
  {
   "cell_type": "markdown",
   "metadata": {},
   "source": [
    "So we can say that $\\sin{(x)}+\\cos{(x+1)}$ is in the same vector space of $\\sin{(x)}$ and $\\cos{(x+1)}$."
   ]
  },
  {
   "cell_type": "markdown",
   "metadata": {},
   "source": [
    "# <font face=\"gotham\" color=\"purple\"> Subspace</font>"
   ]
  },
  {
   "cell_type": "markdown",
   "metadata": {},
   "source": [
    "A subspace is one of the most important concept in linear algebra, fortunately nothing really mysterious.\n",
    "\n",
    "A subspace resides in a vector space $V$,  we can denoted it as $H$. Only two properties needs to be verified:\n",
    "1. $H$ has zero vector.\n",
    "2. Closed under vector addition and scalar multiplication."
   ]
  },
  {
   "cell_type": "markdown",
   "metadata": {},
   "source": [
    "There are two facts of subspace:\n",
    "1. Any line passes through $(0, 0)$ in $\\mathbb{R}^2$ is a subspace of $\\mathbb{R}^2$.\n",
    "2. Any plane passes through $(0, 0, 0)$ in $\\mathbb{R}^3$ is a subspace of $\\mathbb{R}^3$.\n",
    "\n",
    "Next we will visualize the subspace."
   ]
  },
  {
   "cell_type": "markdown",
   "metadata": {},
   "source": [
    "## <font face=\"gotham\" color=\"purple\"> Visualization of Subspace of $\\mathbb{R}^2$</font>"
   ]
  },
  {
   "cell_type": "code",
   "execution_count": null,
   "metadata": {},
   "outputs": [],
   "source": [
    "fig, ax = plt.subplots(figsize = (10, 10))\n",
    "####################### Arrows #######################\n",
    "x = np.arange(-10, 11, 1)\n",
    "y = 4/6*x\n",
    "ax.plot(x, y, lw = 4, color = 'blue',label = r'$y = \\frac{2}{3}x$, subspace of $\\mathbf{R}^2$')\n",
    "\n",
    "y = -3+4/6*x\n",
    "ax.plot(x, y, lw = 4, color = 'red',label = r'$y = -3+\\frac{2}{3}x$, not a subspace of $\\mathbf{R}^2$')\n",
    "\n",
    "ax.grid(True)\n",
    "ax.set_title('Visualization of Subspace in $R^2$ ', size = 18)\n",
    "ax.scatter(0, 0, s= 100, fc = 'black', ec = 'red')\n",
    "ax.text(-2, 0, '$(0,0)$',size = 18)\n",
    "ax.legend(fontsize = 16)\n",
    "\n",
    "ax.axis([-10, 10, -10, 10])\n",
    "\n",
    "ax.set_xlabel('x-axis', size = 18)\n",
    "ax.set_ylabel('y-axis', size = 18)\n",
    "plt.show()"
   ]
  },
  {
   "cell_type": "markdown",
   "metadata": {},
   "source": [
    "## <font face=\"gotham\" color=\"purple\"> Visualization of Subspace of $\\mathbb{R}^3$</font>"
   ]
  },
  {
   "cell_type": "markdown",
   "metadata": {},
   "source": [
    "Consider a span of two vectors $u = (1,-2,1)^T$ and $v=(2,1,2)^T$. The span of $(u,v)$ is a subspace of $\\mathbb{R}^3$, where $s$ and $t$ are the scalars of the vectors."
   ]
  },
  {
   "cell_type": "markdown",
   "metadata": {},
   "source": [
    "$$\n",
    "\\left[\n",
    "\\begin{matrix}\n",
    "x\\\\\n",
    "y\\\\\n",
    "z\n",
    "\\end{matrix}\n",
    "\\right]=\n",
    "s\\left[\n",
    "\\begin{matrix}\n",
    "1\\\\\n",
    "-2\\\\\n",
    "1\n",
    "\\end{matrix}\n",
    "\\right]+\n",
    "t\\left[\n",
    "\\begin{matrix}\n",
    "2\\\\\n",
    "1\\\\\n",
    "2\n",
    "\\end{matrix}\n",
    "\\right]=\n",
    "\\left[\n",
    "\\begin{matrix}\n",
    "s+2t\\\\\n",
    "-2s+t\\\\\n",
    "s+2t\n",
    "\\end{matrix}\n",
    "\\right]\n",
    "$$"
   ]
  },
  {
   "cell_type": "markdown",
   "metadata": {},
   "source": [
    "We also plot a plan which is not a subspace by adding $2$ onto the third equation, i.e. $z= s+2t+2$.\n",
    "\n",
    "Remember matplotlib does not have 3D engine, we have to pan to a proper angle to show the layout."
   ]
  },
  {
   "cell_type": "code",
   "execution_count": null,
   "metadata": {},
   "outputs": [],
   "source": [
    "#%matplotlib notebook, use this only if you are in Jupyter Notebook\n",
    "fig = plt.figure(figsize = (8,8))\n",
    "\n",
    "ax = fig.add_subplot(111,projection='3d')\n",
    "\n",
    "s = np.linspace(-1, 1, 10)\n",
    "t = np.linspace(-1, 1, 10)\n",
    "S, T = np.meshgrid(s, t)\n",
    "\n",
    "X = S+2*T\n",
    "Y = -2*S+T\n",
    "Z = S+2*T\n",
    "\n",
    "ax.plot_surface(X, Y, Z, alpha = .9,cmap=plt.cm.coolwarm)\n",
    "\n",
    "Z2 = S+2*T+2 # this is not a subspace anymore\n",
    "ax.plot_surface(X, Y, Z2, alpha = .6 ,cmap=plt.cm.jet)\n",
    "\n",
    "ax.scatter(0,0,0, s = 200, color = 'red')\n",
    "ax.text(0,0,0,'$(0,0,0)$',size = 18, zorder = 5)\n",
    "\n",
    "ax.set_title('Visualization of Subspace of $\\mathbb{R}^3$', x = .5, y = 1.1, size = 20)\n",
    "\n",
    "ax.set_xlabel('x-axis', size = 18)\n",
    "ax.set_ylabel('y-axis', size = 18)\n",
    "ax.set_zlabel('z-axis', size = 18)\n",
    "\n",
    "ax.view_init(elev=-29, azim=132)\n",
    "plt.show()"
   ]
  },
  {
   "cell_type": "markdown",
   "metadata": {},
   "source": [
    "As you can see the plane contains $(0,0,0)$ is a subspace, but the other plane is not."
   ]
  },
  {
   "cell_type": "markdown",
   "metadata": {},
   "source": [
    "# <font face=\"gotham\" color=\"purple\"> Span</font>"
   ]
  },
  {
   "cell_type": "markdown",
   "metadata": {},
   "source": [
    "We have mentioned **span** quite a few times before, now we give formal definition of a span."
   ]
  },
  {
   "cell_type": "markdown",
   "metadata": {},
   "source": [
    "Use $\\text{span}(S)$ to denote span of a subset $\\{v_1, v_2,...,v_n\\}$, which is a linear combination in vector space $V$.\n",
    "\n",
    "$$\n",
    "\\text{span}(S)=\\{c_1v_1+c_2v_2...+c_nv_n:c_1,...,c_n \\in R\\}\n",
    "$$"
   ]
  },
  {
   "cell_type": "markdown",
   "metadata": {},
   "source": [
    "The span of two vectors in $\\mathbb{R}^3$ is a plane and any two vectors span a plane. Say, we have two vectors: $(3, 9, 2)$, $(1,7,5)$, any linear combination is a span, i.e. $s(3,9,2)^T+t(1,7,5)^T$."
   ]
  },
  {
   "cell_type": "markdown",
   "metadata": {},
   "source": [
    "For more general span, a basic fact of matrix multiplication can assist us in demonstrating:\n",
    "\n",
    "$$\n",
    "AB = A[b_1\\ b_2\\  b_3,...,b_4]=[Ab_1\\ Ab_2\\ Ab_3,...,Ab_p]\n",
    "$$\n",
    "\n",
    "where $A$ is the spanning set of vectors, $b_k$ is vector of weights for linear combination.We can generate a random matrix $B$ to form various linear combinations to visually verify if they are all contained in the spanned plane.\n",
    "\n",
    "We define \n",
    "$$\n",
    "A=\\left[\\begin{array}{rr}\n",
    "3 & 1 \\\\\n",
    "9 & 7 \\\\\n",
    "2 & 5 \n",
    "\\end{array}\\right]\\qquad b_i\\sim N(\\mathbb{0}, 1)\n",
    "$$"
   ]
  },
  {
   "cell_type": "code",
   "execution_count": null,
   "metadata": {},
   "outputs": [],
   "source": [
    "A = np.array([[3,9,2],[1,7,5]]).T\n",
    "\n",
    "B = 10*np.random.randn(2, 300) # i = 300, i.e. 300 random weight vectors\n",
    "vecs = A@B\n",
    "\n",
    "s = np.linspace(-10, 10, 10)\n",
    "t = np.linspace(-10, 10, 10)\n",
    "\n",
    "S, T = np.meshgrid(s, t)\n",
    "\n",
    "X = 3*S+T\n",
    "Y = 9*S+7*T\n",
    "Z = 2*S+5*T\n",
    "\n",
    "fig, ax = plt.subplots(figsize = (10, 10))\n",
    "ax = fig.add_subplot(projection='3d')\n",
    "ax.plot_wireframe(X, Y, Z, linewidth = 1.5, color = 'k', alpha = .6)\n",
    "ax.scatter(0,0,0, s =200, ec = 'red', fc = 'black')\n",
    "\n",
    "colors = np.random.rand(vecs.shape[1],3)\n",
    "for i in range(vecs.shape[1]):\n",
    "    vec = np.array([[0, 0, 0, vecs[0,i], vecs[1,i], vecs[2,i]]])\n",
    "    X, Y, Z, U, V, W = zip(*vec)\n",
    "    ax.quiver(X, Y, Z, U, V, W, length=1,color = colors[i], normalize=False, arrow_length_ratio = .07, pivot = 'tail',\n",
    "          linestyles = 'solid',linewidths = 2, alpha = .9)\n",
    "ax.view_init(elev=-156, azim=-56)\n",
    "plt.show()"
   ]
  },
  {
   "cell_type": "markdown",
   "metadata": {},
   "source": [
    "Pan around the plot, we confirm that all the vectors are in the $\\text{Span}(u,v)$."
   ]
  },
  {
   "cell_type": "markdown",
   "metadata": {},
   "source": [
    "## <font face=\"gotham\" color=\"purple\"> Span of $\\mathbb{R}^3$</font>"
   ]
  },
  {
   "cell_type": "markdown",
   "metadata": {},
   "source": [
    "Reproduce the code above, but we have three vectors: $(1,0,1)$, $(1,1,0)$, $(0,1,1)$. Again we create a random coefficent matrix to form different linear combinations."
   ]
  },
  {
   "cell_type": "code",
   "execution_count": null,
   "metadata": {},
   "outputs": [],
   "source": [
    "A = np.array([[1,0,1],[1,1,0],[0,1,1]]).T\n",
    "B = 5*np.random.randn(3, 300)\n",
    "vecs = A@B\n",
    "\n",
    "s = np.linspace(-10, 10, 10)\n",
    "t = np.linspace(-10, 10, 10)\n",
    "\n",
    "S, T = np.meshgrid(s, t)\n",
    "\n",
    "X = S+T\n",
    "Y = T\n",
    "Z = S\n",
    "\n",
    "fig, ax = plt.subplots(figsize = (10, 10))\n",
    "ax = fig.add_subplot(projection='3d')\n",
    "ax.plot_wireframe(X, Y, Z, linewidth = 1.5, color = 'k', alpha = .6)\n",
    "ax.scatter(0,0,0, s =200, ec = 'red', fc = 'black')\n",
    "\n",
    "colors = np.random.rand(vecs.shape[1],3)\n",
    "for i in range(vecs.shape[1]):\n",
    "    vec = np.array([[0, 0, 0, vecs[0,i], vecs[1,i], vecs[2,i]]])\n",
    "    X, Y, Z, U, V, W = zip(*vec)\n",
    "    ax.quiver(X, Y, Z, U, V, W, length=1,color = colors[i], normalize=False, arrow_length_ratio = .07, pivot = 'tail',\n",
    "          linestyles = 'solid',linewidths = 2, alpha = .9)\n",
    "ax.view_init(elev=21, azim=-110)\n",
    "plt.show()"
   ]
  },
  {
   "cell_type": "markdown",
   "metadata": {},
   "source": [
    "The vectors are pointing every possible directions in $\\mathbb{R}^3$, and all of them stay in the span of those three vectors."
   ]
  }
 ],
 "metadata": {
  "kernelspec": {
   "display_name": "Python 3",
   "language": "python",
   "name": "python3"
  },
  "language_info": {
   "codemirror_mode": {
    "name": "ipython",
    "version": 3
   },
   "file_extension": ".py",
   "mimetype": "text/x-python",
   "name": "python",
   "nbconvert_exporter": "python",
   "pygments_lexer": "ipython3",
   "version": "3.8.8"
  },
  "toc": {
   "base_numbering": 1,
   "nav_menu": {},
   "number_sections": true,
   "sideBar": true,
   "skip_h1_title": false,
   "title_cell": "Table of Contents",
   "title_sidebar": "Contents",
   "toc_cell": false,
   "toc_position": {},
   "toc_section_display": true,
   "toc_window_display": false
  }
 },
 "nbformat": 4,
 "nbformat_minor": 4
}
