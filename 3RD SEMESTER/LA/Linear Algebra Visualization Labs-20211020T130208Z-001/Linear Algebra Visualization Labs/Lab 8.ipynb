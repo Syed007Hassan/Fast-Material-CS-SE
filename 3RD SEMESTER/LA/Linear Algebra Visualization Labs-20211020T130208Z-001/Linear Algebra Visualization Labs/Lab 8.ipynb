{
 "cells": [
  {
   "cell_type": "code",
   "execution_count": null,
   "metadata": {},
   "outputs": [],
   "source": [
    "import matplotlib.pyplot as plt\n",
    "import matplotlib as mpl\n",
    "import numpy as np\n",
    "import sympy as sy\n",
    "sy.init_printing() "
   ]
  },
  {
   "cell_type": "code",
   "execution_count": null,
   "metadata": {},
   "outputs": [],
   "source": [
    "np.set_printoptions(precision=3)\n",
    "np.set_printoptions(suppress=True)"
   ]
  },
  {
   "cell_type": "markdown",
   "metadata": {},
   "source": [
    "# <font face=\"gotham\" color=\"purple\"> Eigenvalue and Eigenvector"
   ]
  },
  {
   "cell_type": "markdown",
   "metadata": {},
   "source": [
    "An  <font face=\"gotham\" color=\"red\">eigenvector</font> of an $n \\times n$ matrix $A$ is a nonzero vector $x$ such that $Ax = \\lambda x$ for some scalar $\\lambda$. A scalar $\\lambda$ is called an  <font face=\"gotham\" color=\"red\">eigenvalue</font> of $A$ if there is a nontrivial solution $x$ of $Ax = \\lambda x$, such an $x$ is called an eigenvector corresponding to $\\lambda$. "
   ]
  },
  {
   "cell_type": "markdown",
   "metadata": {},
   "source": [
    "Rewrite the equation,\n",
    "\n",
    "$$\n",
    "(A-\\lambda I)x = 0\n",
    "$$\n",
    "\n",
    "Since the eigenvector should be a nonzero vector, which means: \n",
    "\n",
    "1. The column or rows of $(A-\\lambda I)$ are linearly dependent\n",
    "2. $(A-\\lambda I)$ is not full rank, $Rank(A)<n$.\n",
    "3. $(A-\\lambda I)$ is not invertible.\n",
    "4. $\\text{det}(A-\\lambda I)=0$, which is called <font face=\"gotham\" color=\"red\">characteristic equation</font>."
   ]
  },
  {
   "cell_type": "markdown",
   "metadata": {},
   "source": [
    "Consider a matrix $A$\n",
    "\n",
    "$$\n",
    "A=\\left[\\matrix{1 & 0 & 0\\cr 1 & 0 & 1\\cr 2 & -2 & 3}\\right]\n",
    "$$\n",
    "\n",
    "Set up the characteristic equation,"
   ]
  },
  {
   "cell_type": "markdown",
   "metadata": {},
   "source": [
    "$$\n",
    "\\text{det}\\left(\n",
    "\\left[\\matrix{1 & 0 & 0\\cr 1 & 0 & 1\\cr 2 & -2 & 3}\\right]-\n",
    "\\lambda\n",
    "\\left[\\matrix{1 & 0 & 0\\cr 0 & 1 & 0\\cr 0 & 0 & 1}\\right]\n",
    "\\right)=0\n",
    "$$"
   ]
  },
  {
   "cell_type": "markdown",
   "metadata": {},
   "source": [
    "Use SymPy ```charpoly``` and ```factor```, we can have straightforward solutions for eigenvalues."
   ]
  },
  {
   "cell_type": "code",
   "execution_count": null,
   "metadata": {},
   "outputs": [],
   "source": [
    "lamda = sy.symbols('lamda') # 'lamda' withtout 'b' is reserved for SymPy, lambda is reserved for Python"
   ]
  },
  {
   "cell_type": "markdown",
   "metadata": {},
   "source": [
    "```charpoly``` returns characteristic equation."
   ]
  },
  {
   "cell_type": "code",
   "execution_count": null,
   "metadata": {},
   "outputs": [],
   "source": [
    "A = sy.Matrix([[1, 0, 0], [1, 0, 1], [2, -2, 3]])\n",
    "p = A.charpoly(lamda); p"
   ]
  },
  {
   "cell_type": "markdown",
   "metadata": {},
   "source": [
    "Factor the polynomial such that we can see the solution."
   ]
  },
  {
   "cell_type": "code",
   "execution_count": null,
   "metadata": {},
   "outputs": [],
   "source": [
    "sy.factor(p)"
   ]
  },
  {
   "cell_type": "markdown",
   "metadata": {},
   "source": [
    "From the factored characteristic polynomial, we get the eigenvalue, and $\\lambda =1$ has algebraic multiplicity of $2$, because there are two $(\\lambda-1)$. If not factored, we can use ```solve``` instead."
   ]
  },
  {
   "cell_type": "code",
   "execution_count": null,
   "metadata": {},
   "outputs": [],
   "source": [
    "sy.solve(p,lamda)"
   ]
  },
  {
   "cell_type": "markdown",
   "metadata": {},
   "source": [
    "Or use ```eigenvals``` directly."
   ]
  },
  {
   "cell_type": "code",
   "execution_count": null,
   "metadata": {},
   "outputs": [],
   "source": [
    "sy.matrices.MatrixEigen.eigenvals(A)"
   ]
  },
  {
   "cell_type": "markdown",
   "metadata": {},
   "source": [
    "To find the eigenvector corresponding to $\\lambda$, we substitute the eigenvalues back into $(A-\\lambda I)x=0$ and solve it. Construct augmented matrix with $\\lambda =1$ and perform rref."
   ]
  },
  {
   "cell_type": "code",
   "execution_count": null,
   "metadata": {},
   "outputs": [],
   "source": [
    "(A - 1*sy.eye(3)).row_join(sy.zeros(3,1)).rref()"
   ]
  },
  {
   "cell_type": "markdown",
   "metadata": {},
   "source": [
    "The null space is the solution set of the linear system.\n",
    "\n",
    "$$\n",
    "\\left[\n",
    "\\begin{matrix}\n",
    "x_1 \\\\ x_2 \\\\ x_3\n",
    "\\end{matrix}\n",
    "\\right]=\n",
    "\\left[\n",
    "\\begin{matrix}\n",
    "x_2-x_3 \\\\ x_2 \\\\ x_3\n",
    "\\end{matrix}\n",
    "\\right]=\n",
    "x_2\\left[\n",
    "\\begin{matrix}\n",
    "1 \\\\ 1 \\\\ 0\n",
    "\\end{matrix}\n",
    "\\right]\n",
    "+x_3\\left[\n",
    "\\begin{matrix}\n",
    "-1 \\\\ 0 \\\\ 1\n",
    "\\end{matrix}\n",
    "\\right]\n",
    "$$"
   ]
  },
  {
   "cell_type": "markdown",
   "metadata": {},
   "source": [
    "This is called <font face=\"gotham\" color=\"red\"> eigenspace </font> for $\\lambda = 1$, which is a subspace in $\\mathbb{R}^3$. All eigenvectors are inside the eigenspace.\n",
    "\n",
    "We can proceed with $\\lambda = 2$ as well."
   ]
  },
  {
   "cell_type": "code",
   "execution_count": null,
   "metadata": {},
   "outputs": [],
   "source": [
    "(A - 2*sy.eye(3)).row_join(sy.zeros(3,1)).rref()"
   ]
  },
  {
   "cell_type": "markdown",
   "metadata": {},
   "source": [
    "The null space is the solution set of the linear system.\n",
    "\n",
    "$$\n",
    "\\left[\n",
    "\\begin{matrix}\n",
    "x_1 \\\\ x_2 \\\\ x_3\n",
    "\\end{matrix}\n",
    "\\right]=\n",
    "\\left[\n",
    "\\begin{matrix}\n",
    "0\\\\ \\frac{1}{2}x_3\\\\ x_3\n",
    "\\end{matrix}\n",
    "\\right]=\n",
    "x_3\\left[\n",
    "\\begin{matrix}\n",
    "0 \\\\ \\frac{1}{2} \\\\ 1\n",
    "\\end{matrix}\n",
    "\\right]\n",
    "$$"
   ]
  },
  {
   "cell_type": "markdown",
   "metadata": {},
   "source": [
    "To avoid troubles of solving back and forth, SymPy has ```eigenvects``` to calcuate eigenvalues and eigenspaces (basis of eigenspace)."
   ]
  },
  {
   "cell_type": "code",
   "execution_count": null,
   "metadata": {},
   "outputs": [],
   "source": [
    "eig = sy.matrices.MatrixEigen.eigenvects(A)\n",
    "eig"
   ]
  },
  {
   "cell_type": "markdown",
   "metadata": {},
   "source": [
    "To clarify what we just get, write"
   ]
  },
  {
   "cell_type": "code",
   "execution_count": null,
   "metadata": {},
   "outputs": [],
   "source": [
    "print('Eigenvalue = {0}, Multiplicity = {1}, Eigenspace = {2}'.format(eig[0][0], eig[0][1], eig[0][2]))"
   ]
  },
  {
   "cell_type": "code",
   "execution_count": null,
   "metadata": {},
   "outputs": [],
   "source": [
    "print('Eigenvalue = {0}, Multiplicity = {1}, Eigenspace = {2}'.format(eig[1][0], eig[1][1], eig[1][2]))"
   ]
  },
  {
   "cell_type": "markdown",
   "metadata": {},
   "source": [
    "## <font face=\"gotham\" color=\"purple\"> NumPy Functions for Eigenvalues and Eigenspace"
   ]
  },
  {
   "cell_type": "markdown",
   "metadata": {},
   "source": [
    "Convert SymPy matrix into NumPy float array."
   ]
  },
  {
   "cell_type": "code",
   "execution_count": null,
   "metadata": {},
   "outputs": [],
   "source": [
    "A = np.array(A).astype(float); A"
   ]
  },
  {
   "cell_type": "markdown",
   "metadata": {},
   "source": [
    "```.eigvals()``` and ```.eig(A)``` are handy functions for eigenvalues and eigenvectors."
   ]
  },
  {
   "cell_type": "code",
   "execution_count": null,
   "metadata": {},
   "outputs": [],
   "source": [
    "np.linalg.eigvals(A) "
   ]
  },
  {
   "cell_type": "code",
   "execution_count": null,
   "metadata": {},
   "outputs": [],
   "source": [
    "np.linalg.eig(A) #return both eigenvalues and eigenvectors"
   ]
  },
  {
   "cell_type": "markdown",
   "metadata": {},
   "source": [
    "## <font face=\"gotham\" color=\"purple\"> An Example"
   ]
  },
  {
   "cell_type": "markdown",
   "metadata": {},
   "source": [
    "Consider a matrix $A$"
   ]
  },
  {
   "cell_type": "code",
   "execution_count": null,
   "metadata": {},
   "outputs": [],
   "source": [
    "A = sy.Matrix([[-4, -4, 20, -8, -1], \n",
    "               [14, 12, 46, 18, 2], \n",
    "               [6, 4, -18, 8, 1], \n",
    "               [11, 7, -37, 17, 2], \n",
    "               [18, 12, -60, 24, 5]])\n",
    "A"
   ]
  },
  {
   "cell_type": "markdown",
   "metadata": {},
   "source": [
    "Find eigenvalues."
   ]
  },
  {
   "cell_type": "code",
   "execution_count": null,
   "metadata": {},
   "outputs": [],
   "source": [
    "eig = sy.matrices.MatrixEigen.eigenvals(A)\n",
    "eig"
   ]
  },
  {
   "cell_type": "markdown",
   "metadata": {},
   "source": [
    "Or use NumPy functions, show the eigenvalues."
   ]
  },
  {
   "cell_type": "code",
   "execution_count": null,
   "metadata": {},
   "outputs": [],
   "source": [
    "A = np.array(A)\n",
    "A = A.astype(float)\n",
    "eigval, eigvec = np.linalg.eig(A)\n",
    "eigval"
   ]
  },
  {
   "cell_type": "markdown",
   "metadata": {},
   "source": [
    "And corresponding eigenvectors."
   ]
  },
  {
   "cell_type": "code",
   "execution_count": null,
   "metadata": {},
   "outputs": [],
   "source": [
    "eigvec"
   ]
  },
  {
   "cell_type": "markdown",
   "metadata": {},
   "source": [
    "## <font face=\"gotham\" color=\"purple\"> A Visualization Example"
   ]
  },
  {
   "cell_type": "markdown",
   "metadata": {},
   "source": [
    "Let \n",
    "\n",
    "$$\n",
    "A= \n",
    "\\left[\n",
    "\\begin{matrix}\n",
    "1 & 6\\\\ \n",
    "5 & 2\n",
    "\\end{matrix}\n",
    "\\right]\n",
    "$$\n",
    "\n",
    "find the eigenvalues and vectors, then visualize in $\\mathbb{R}^2$"
   ]
  },
  {
   "cell_type": "markdown",
   "metadata": {},
   "source": [
    "Use characteristic equation $|A - \\lambda I|=0$\n",
    "\n",
    "$$\n",
    "\\left|\n",
    "\\left[\n",
    "\\begin{matrix}\n",
    "1 & 6\\\\ \n",
    "5 & 2\n",
    "\\end{matrix}\n",
    "\\right]\n",
    "-\n",
    "\\left[\n",
    "\\begin{matrix}\n",
    "\\lambda & 0\\\\ \n",
    "0 & \\lambda\n",
    "\\end{matrix}\n",
    "\\right]\\right|=0\n",
    "$$"
   ]
  },
  {
   "cell_type": "code",
   "execution_count": null,
   "metadata": {},
   "outputs": [],
   "source": [
    "lamda = sy.symbols('lamda')\n",
    "A = sy.Matrix([[1,6],[5,2]])\n",
    "I = sy.eye(2)"
   ]
  },
  {
   "cell_type": "code",
   "execution_count": null,
   "metadata": {},
   "outputs": [],
   "source": [
    "A - lamda*I"
   ]
  },
  {
   "cell_type": "code",
   "execution_count": null,
   "metadata": {},
   "outputs": [],
   "source": [
    "p = A.charpoly(lamda);p"
   ]
  },
  {
   "cell_type": "code",
   "execution_count": null,
   "metadata": {},
   "outputs": [],
   "source": [
    "sy.factor(p)"
   ]
  },
  {
   "cell_type": "markdown",
   "metadata": {},
   "source": [
    "There are two eigenvalues: $7$ and $4$. Next we calculate eigenvectors."
   ]
  },
  {
   "cell_type": "code",
   "execution_count": null,
   "metadata": {},
   "outputs": [],
   "source": [
    "(A - 7*sy.eye(2)).row_join(sy.zeros(2,1)).rref()"
   ]
  },
  {
   "cell_type": "markdown",
   "metadata": {},
   "source": [
    "The eigenspace for $\\lambda = 7$ is \n",
    "\n",
    "$$\n",
    "\\left[\n",
    "\\begin{matrix}\n",
    "x_1\\\\\n",
    "x_2\n",
    "\\end{matrix}\n",
    "\\right]=\n",
    "x_2\\left[\n",
    "\\begin{matrix}\n",
    "1\\\\\n",
    "1\n",
    "\\end{matrix}\n",
    "\\right]\n",
    "$$"
   ]
  },
  {
   "cell_type": "markdown",
   "metadata": {},
   "source": [
    "Any vector is eigenspace as long as $x \\neq 0$ is an eigenvector. Let's find out eigenspace for $\\lambda = 4$."
   ]
  },
  {
   "cell_type": "code",
   "execution_count": null,
   "metadata": {},
   "outputs": [],
   "source": [
    "(A + 4*sy.eye(2)).row_join(sy.zeros(2,1)).rref()"
   ]
  },
  {
   "cell_type": "markdown",
   "metadata": {},
   "source": [
    "The eigenspace for $\\lambda = -4$ is \n",
    "\n",
    "$$\n",
    "\\left[\n",
    "\\begin{matrix}\n",
    "x_1\\\\\n",
    "x_2\n",
    "\\end{matrix}\n",
    "\\right]=\n",
    "x_2\\left[\n",
    "\\begin{matrix}\n",
    "-\\frac{6}{5}\\\\\n",
    "1\n",
    "\\end{matrix}\n",
    "\\right]\n",
    "$$"
   ]
  },
  {
   "cell_type": "markdown",
   "metadata": {},
   "source": [
    "Let's plot both eigenvectors as $(1, 1)$ and $(-6/5, 1)$ and multiples with eigenvalues."
   ]
  },
  {
   "cell_type": "code",
   "execution_count": null,
   "metadata": {
    "scrolled": false
   },
   "outputs": [],
   "source": [
    "fig, ax = plt.subplots(figsize = (12, 12))\n",
    "arrows = np.array([ [[0,0,1,1]],\n",
    "                  [[0,0,-6/5,1]],\n",
    "                  [[0,0,7,7]],\n",
    "                  [[0,0,24/5,-4]] ])\n",
    "colors = ['darkorange','skyblue','r','b']\n",
    "for i in range(arrows.shape[0]):\n",
    "    X,Y,U,V = zip(*arrows[i,:,:])\n",
    "    ax.arrow(X[0], Y[0], U[0],V[0], color = colors[i], width = .08, \n",
    "             length_includes_head = True,\n",
    "             head_width = .3, # default: 3*width\n",
    "             head_length = .6,\n",
    "             overhang = .4, zorder = -i)\n",
    "\n",
    "################################### Eigenspace #################################\n",
    "x = np.arange(-10, 10.6, .5)\n",
    "y = x\n",
    "ax.plot(x, y, lw = 2, color = 'red', alpha = .3, label = 'Eigenspace for $\\lambda = 7$')\n",
    "\n",
    "x = np.arange(-10, 10.6, .5)\n",
    "y = -5/6*x\n",
    "ax.plot(x, y, lw = 2, color = 'blue', alpha = .3,  label = 'Eigenspace for $\\lambda = -4$')\n",
    "\n",
    "######################## Annotation Arrows ################################\n",
    "\n",
    "style=\"Simple, tail_width=0.5, head_width=5, head_length=10\"\n",
    "kw = dict(arrowstyle=style, color=\"k\")\n",
    "\n",
    "a = mpl.patches.FancyArrowPatch((1,1), (7,7),connectionstyle=\"arc3,rad=.4\", **kw, alpha = .3)\n",
    "plt.gca().add_patch(a)\n",
    "\n",
    "a = mpl.patches.FancyArrowPatch((-6/5,1), (24/5,-4),connectionstyle=\"arc3,rad=.4\", **kw, alpha = .3)\n",
    "plt.gca().add_patch(a)\n",
    "\n",
    "############################ Legend ###############################\n",
    "\n",
    "leg = ax.legend(fontsize = 15, loc = 'lower right')\n",
    "leg.get_frame().set_alpha(0.5)\n",
    "\n",
    "###################### Axis, Spines, Ticks ##########################\n",
    "ax.axis([-10, 10.1, -10.1, 10.1])\n",
    "ax.spines['left'].set_position('center')\n",
    "ax.spines['right'].set_color('none')\n",
    "ax.spines['bottom'].set_position('center')\n",
    "ax.spines['top'].set_color('none')\n",
    "ax.xaxis.set_ticks_position('bottom')\n",
    "ax.yaxis.set_ticks_position('left')\n",
    "\n",
    "ax.minorticks_on()\n",
    "ax.tick_params(axis = 'both', direction = 'inout', length=12, width=2, which='major')\n",
    "ax.tick_params(axis = 'both', direction = 'inout', length=10, width=1, which='minor')\n",
    "ax.grid()\n",
    "plt.show()"
   ]
  },
  {
   "cell_type": "markdown",
   "metadata": {},
   "source": [
    "# <font face=\"gotham\" color=\"purple\"> Geometric Intuition"
   ]
  },
  {
   "cell_type": "markdown",
   "metadata": {},
   "source": [
    "Eigenvector has a special property that preserves the pointing direction after linear transformation.To illustrate the idea, let's plot a 'circle' and arrows touching edges of circle.\n",
    "\n",
    "Start from one arrow. If you want to draw a smoother circle, you can use parametric function rather two quadratic functions, because cicle can't be draw with one-to-one mapping.But this is not the main issue, we will live with that."
   ]
  },
  {
   "cell_type": "code",
   "execution_count": null,
   "metadata": {},
   "outputs": [],
   "source": [
    "x = np.linspace(-4, 4)\n",
    "y_u = np.sqrt(16 - x**2)\n",
    "y_d = -np.sqrt(16 - x**2)\n",
    "\n",
    "fig, ax = plt.subplots(figsize = (8, 8))\n",
    "ax.plot(x, y_u, color = 'b')\n",
    "ax.plot(x, y_d, color = 'b')\n",
    "\n",
    "ax.scatter(0, 0, s = 100, fc = 'k', ec = 'r')\n",
    "\n",
    "ax.arrow(0, 0, x[5], y_u[5], head_width = .18, \n",
    "         head_length= .27, length_includes_head = True, \n",
    "         width = .03, ec = 'r', fc = 'None')\n",
    "plt.show()"
   ]
  },
  {
   "cell_type": "markdown",
   "metadata": {},
   "source": [
    "Now, the same 'circle', but more arrows."
   ]
  },
  {
   "cell_type": "code",
   "execution_count": null,
   "metadata": {},
   "outputs": [],
   "source": [
    "x = np.linspace(-4, 4, 50)\n",
    "y_u = np.sqrt(16 - x**2)\n",
    "y_d = -np.sqrt(16 - x**2)\n",
    "\n",
    "fig, ax = plt.subplots(figsize = (8, 8))\n",
    "ax.plot(x, y_u, color = 'b')\n",
    "ax.plot(x, y_d, color = 'b')\n",
    "\n",
    "ax.scatter(0, 0, s = 100, fc = 'k', ec = 'r')\n",
    "\n",
    "for i in range(len(x)):\n",
    "    ax.arrow(0, 0, x[i], y_u[i], head_width = .08, \n",
    "             head_length= .27, length_includes_head = True,\n",
    "             width = .01, ec = 'r', fc = 'None')\n",
    "    ax.arrow(0, 0, x[i], y_d[i], head_width = .08, \n",
    "             head_length= .27, length_includes_head = True, \n",
    "             width = .008, ec = 'r', fc = 'None')"
   ]
  },
  {
   "cell_type": "markdown",
   "metadata": {},
   "source": [
    "Now we will perform linear transformation on the circle. Technically, we can only transform the points - the arrow tip - that we specify on the circle."
   ]
  },
  {
   "cell_type": "markdown",
   "metadata": {},
   "source": [
    "We create a matrix\n",
    "\n",
    "$$\n",
    "A = \n",
    "\\left[\\begin{matrix}\n",
    "3 & -2\\\\\n",
    "1 & 0\n",
    "\\end{matrix}\\right]\n",
    "$$"
   ]
  },
  {
   "cell_type": "markdown",
   "metadata": {},
   "source": [
    "Align all the coordinates into two matrices for upper and lower half respectively. \n",
    "\n",
    "$$\n",
    "V_u = \n",
    "\\left[\\begin{matrix}\n",
    "x_1^u & x_2^u & \\ldots & x_m^u\\\\\n",
    "y_1^u & y_2^u & \\ldots & y_m^u\n",
    "\\end{matrix}\\right]\\\\\n",
    "V_d = \n",
    "\\left[\\begin{matrix}\n",
    "x_1^d & x_2^d & \\ldots & x_m^d\\\\\n",
    "y_1^d & y_2^d & \\ldots & y_m^d\n",
    "\\end{matrix}\\right]\n",
    "$$"
   ]
  },
  {
   "cell_type": "markdown",
   "metadata": {},
   "source": [
    "The matrix multiplication $AV_u$ and $AV_d$ are linear transformation of the circle."
   ]
  },
  {
   "cell_type": "code",
   "execution_count": null,
   "metadata": {},
   "outputs": [],
   "source": [
    "A = np.array([[3, -2], [1, 0]])\n",
    "\n",
    "Vu = np.hstack((x[:, np.newaxis], y_u[:, np.newaxis]))\n",
    "AV_u = (A@Vu.T)\n",
    "\n",
    "Vd = np.hstack((x[:, np.newaxis], y_d[:, np.newaxis]))\n",
    "AV_d = (A@Vd.T)"
   ]
  },
  {
   "cell_type": "markdown",
   "metadata": {},
   "source": [
    "The circle becomes an ellipse. However, if you watch closely, you will find there are some arrows still pointing the same direction after linear transformation."
   ]
  },
  {
   "cell_type": "code",
   "execution_count": null,
   "metadata": {},
   "outputs": [],
   "source": [
    "fig, ax = plt.subplots(figsize = (8, 8))\n",
    "\n",
    "for i in range(len(x)):\n",
    "    ax.arrow(0, 0, Av_1[0, i], Av_1[1, i], head_width = .18, \n",
    "             head_length= .27, length_includes_head = True, \n",
    "             width = .03, ec = 'darkorange', fc = 'None')\n",
    "    ax.arrow(0, 0, Av_2[0, i], Av_2[1, i], head_width = .18, \n",
    "             head_length= .27, length_includes_head = True, \n",
    "             width = .03, ec = 'darkorange', fc = 'None')    \n",
    "ax.axis([-15, 15, -5, 5])\n",
    "ax.grid()\n",
    "plt.show()"
   ]
  },
  {
   "cell_type": "markdown",
   "metadata": {},
   "source": [
    "We can plot the cirle and ellipse together, those vectors pointing the same direction before and after the linear transformation are eigenvector of $A$, eigenvalue is the length ratio between them."
   ]
  },
  {
   "cell_type": "code",
   "execution_count": null,
   "metadata": {},
   "outputs": [],
   "source": [
    "k = 50\n",
    "x = np.linspace(-4, 4, k)\n",
    "y_u = np.sqrt(16 - x**2)\n",
    "y_d = -np.sqrt(16 - x**2)\n",
    "\n",
    "fig, ax = plt.subplots(figsize = (8, 8))\n",
    "\n",
    "ax.scatter(0, 0, s = 100, fc = 'k', ec = 'r')\n",
    "\n",
    "for i in range(len(x)):\n",
    "    ax.arrow(0, 0, x[i], y_u[i], head_width = .18, \n",
    "             head_length= .27, length_includes_head = True, \n",
    "             width = .03, ec = 'r', alpha = .5, fc = 'None')\n",
    "    ax.arrow(0, 0, x[i], y_d[i], head_width = .18, \n",
    "             head_length= .27, length_includes_head = True, \n",
    "             width = .03, ec = 'r', alpha = .5, fc = 'None')\n",
    "\n",
    "A = np.array([[3, -2], [1, 0]])\n",
    "\n",
    "v = np.hstack((x[:, np.newaxis], y_u[:, np.newaxis]))\n",
    "Av_1 = (A@v.T)\n",
    "\n",
    "v = np.hstack((x[:, np.newaxis], y_d[:, np.newaxis]))\n",
    "Av_2 = (A@v.T)\n",
    "\n",
    "for i in range(len(x)):\n",
    "    ax.arrow(0, 0, Av_1[0, i], Av_1[1, i], head_width = .18, \n",
    "             head_length= .27, length_includes_head = True, \n",
    "             width = .03, ec = 'darkorange', fc = 'None')\n",
    "    ax.arrow(0, 0, Av_2[0, i], Av_2[1, i], head_width = .18, \n",
    "             head_length= .27, length_includes_head = True, \n",
    "             width = .03, ec = 'darkorange', fc = 'None')    \n",
    "n = 7\n",
    "ax.axis([-n, n, -n, n])\n",
    "plt.show()"
   ]
  }
 ],
 "metadata": {
  "kernelspec": {
   "display_name": "Python 3",
   "language": "python",
   "name": "python3"
  },
  "language_info": {
   "codemirror_mode": {
    "name": "ipython",
    "version": 3
   },
   "file_extension": ".py",
   "mimetype": "text/x-python",
   "name": "python",
   "nbconvert_exporter": "python",
   "pygments_lexer": "ipython3",
   "version": "3.8.8"
  },
  "toc": {
   "base_numbering": 1,
   "nav_menu": {},
   "number_sections": true,
   "sideBar": true,
   "skip_h1_title": false,
   "title_cell": "Table of Contents",
   "title_sidebar": "Contents",
   "toc_cell": false,
   "toc_position": {},
   "toc_section_display": true,
   "toc_window_display": false
  }
 },
 "nbformat": 4,
 "nbformat_minor": 2
}
