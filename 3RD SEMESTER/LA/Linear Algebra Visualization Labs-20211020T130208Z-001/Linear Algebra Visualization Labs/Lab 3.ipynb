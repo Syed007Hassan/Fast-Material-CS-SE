{
 "cells": [
  {
   "cell_type": "code",
   "execution_count": null,
   "metadata": {},
   "outputs": [],
   "source": [
    "import matplotlib.pyplot as plt\n",
    "import numpy as np\n",
    "from mpl_toolkits.mplot3d import Axes3D\n",
    "import sympy as sy\n",
    "sy.init_printing() "
   ]
  },
  {
   "cell_type": "markdown",
   "metadata": {},
   "source": [
    "# <font face=\"gotham\" color=\"purple\"> Visualization of Linear Combination in $\\mathbb{R}^2$ </font>"
   ]
  },
  {
   "cell_type": "markdown",
   "metadata": {},
   "source": [
    "Consider two vectors $u$ and $v$ in $\\mathbb{R}^2$, they are independent of each other, i.e. not pointing to the same or opposite direction. Therefore any vector in the $\\mathbb{R}^2$ can be represented by a **linear combination** of $u$ and $v$."
   ]
  },
  {
   "cell_type": "markdown",
   "metadata": {},
   "source": [
    "For instance, this is a linear combination and essentially a linear system."
   ]
  },
  {
   "cell_type": "markdown",
   "metadata": {},
   "source": [
    "$$\n",
    "c_1\n",
    "\\left[\n",
    "\\begin{matrix}\n",
    "4\\\\\n",
    "2\n",
    "\\end{matrix}\n",
    "\\right]+\n",
    "c_2\n",
    "\\left[\n",
    "\\begin{matrix}\n",
    "-2\\\\\n",
    "2\n",
    "\\end{matrix}\n",
    "\\right]\n",
    "=\n",
    "\\left[\n",
    "\\begin{matrix}\n",
    "2\\\\\n",
    "10\n",
    "\\end{matrix}\n",
    "\\right]\n",
    "$$"
   ]
  },
  {
   "cell_type": "markdown",
   "metadata": {},
   "source": [
    "Solve the system in SymPy:"
   ]
  },
  {
   "cell_type": "code",
   "execution_count": null,
   "metadata": {},
   "outputs": [],
   "source": [
    "A = sy.Matrix([[4, -2, 2], [2,2,10]])\n",
    "A.rref()"
   ]
  },
  {
   "cell_type": "markdown",
   "metadata": {},
   "source": [
    "The solution is $(c_1, c_2)^T = (2, 3)^T$, which means the addition of $2$ times of $\\left[\n",
    "\\begin{matrix}\n",
    "4\\\\\n",
    "2\n",
    "\\end{matrix}\n",
    "\\right]$ and $3$ times of $\\left[\n",
    "\\begin{matrix}\n",
    "-2\\\\\n",
    "2\n",
    "\\end{matrix}\n",
    "\\right]$ equals $\\left[\n",
    "\\begin{matrix}\n",
    "2\\\\\n",
    "10\n",
    "\\end{matrix}\n",
    "\\right]$. "
   ]
  },
  {
   "cell_type": "markdown",
   "metadata": {},
   "source": [
    "Besides plotting the vector addition, we would like to plot the **coordinates of basis** that spanned by $u$ and $v$. We will explain further in later chapter."
   ]
  },
  {
   "cell_type": "markdown",
   "metadata": {},
   "source": [
    "Calculate the slope of vectors, i.e. $\\frac{y}{x}$\n",
    "$$\n",
    "s_1 =\\frac{y}{x} = \\frac{2}{4}=.5\\\\\n",
    "s_2 =\\frac{y}{x}= \\frac{2}{-2}=.-1\n",
    "$$\n",
    "\n",
    "The basis can be constructed as:\n",
    "$$\n",
    "y_1 = a+.5x\\\\\n",
    "y_2 = b-x\n",
    "$$\n",
    "where $a$ and $b$ will be set as constants with regular intervals, such as $(2.5, 5, 7.5, 10)$. \n",
    "\n",
    "The coordinates of basis are pink web-style grids, each line segment is a unit (like $1$ in Cartesian coordinate system) in the 'new' coordinates."
   ]
  },
  {
   "cell_type": "code",
   "execution_count": null,
   "metadata": {},
   "outputs": [],
   "source": [
    "fig, ax = plt.subplots(figsize=(8, 8))\n",
    "\n",
    "vec = np.array([[[0,0,4,2]],\n",
    "                 [[0,0,-2,2]],\n",
    "                 [[0,0,2,10]],\n",
    "                 [[0,0,8,4]], \n",
    "                 [[0,0,-6,6]]])\n",
    "colors = ['b','b','r','b','b']\n",
    "\n",
    "for i in range(vec.shape[0]):\n",
    "    X,Y,U,V = zip(*vec[i,:,:])\n",
    "    ax.quiver(X, Y, U, V, angles='xy', scale_units='xy', color = colors[i], scale=1, alpha = .6)\n",
    "    ax.text(x = vec[i,0,2], y = vec[i,0,3], s = '(%.0d, %.0d)' %(vec[i,0,2],vec[i,0,3]), fontsize = 16)\n",
    "\n",
    "points12 = np.array([[8,4],[2,10]])\n",
    "ax.plot(points12[:,0], points12[:,1], c = 'b', lw = 3.5,alpha =0.5, ls = '--')\n",
    "\n",
    "points34 = np.array([[-6, 6],[2,10]])\n",
    "ax.plot(points34[:,0], points34[:,1], c = 'b', lw = 3.5,alpha =0.5, ls = '--')\n",
    "\n",
    "ax.set_xlim([-10, 10])\n",
    "ax.set_ylim([0, 10.5])\n",
    "ax.set_xlabel('x-axis', fontsize =16)\n",
    "ax.set_ylabel('y-axis', fontsize =16)\n",
    "ax.grid()\n",
    "\n",
    "######################################Basis########################################\n",
    "a = np.arange(-11, 20, 1)\n",
    "x = np.arange(-11, 20, 1)\n",
    "\n",
    "for i in a:    \n",
    "    y1 = i + .5*x\n",
    "    ax.plot(x, y1, ls = '--', color = 'pink', lw = 2)\n",
    "    y2 = i - x\n",
    "    ax.plot(x, y2, ls = '--', color = 'pink', lw = 2)    \n",
    "\n",
    "ax.set_title('Linear Combination of Two Vectors in $\\mathbf{R}^2$', size = 22, x =0.5, y = 1.01)\n",
    "plt.show()"
   ]
  },
  {
   "cell_type": "markdown",
   "metadata": {},
   "source": [
    "# <font face=\"gotham\" color=\"purple\"> Linear Combination Visualization in 3D</font>"
   ]
  },
  {
   "cell_type": "markdown",
   "metadata": {},
   "source": [
    "We can also show that any vectors in $\\mathbb{R}^3$ can be a linear combination of a standard basis in Cartesian coordinate system. \n",
    "\n",
    "Here is the function for plotting 3D linear combination from standard basis, we just feed the _scalar multiplier_. "
   ]
  },
  {
   "cell_type": "code",
   "execution_count": null,
   "metadata": {},
   "outputs": [],
   "source": [
    "def linearCombo(a, b, c):\n",
    "    '''This function is for visualizing linear combination of standard basis in 3D.\n",
    "    Function syntax: linearCombo(a, b, c), where a, b, c are the scalar multiplier, \n",
    "    also the elements of the vector.\n",
    "    '''\n",
    "    fig = plt.figure(figsize=(10,10))\n",
    "    ax = fig.add_subplot(111, projection='3d')\n",
    "    ######################## Standard basis and Scalar Multiplid Vectors#########################\n",
    "    vec = np.array([[[0, 0, 0, 1, 0, 0]], # e1\n",
    "                    [[0, 0, 0, 0, 1, 0]], # e2\n",
    "                    [[0, 0, 0, 0, 0, 1]], # e3\n",
    "                    [[0, 0, 0, a, 0, 0]], # a* e1\n",
    "                    [[0, 0, 0, 0, b, 0]], # b* e2\n",
    "                    [[0, 0, 0, 0, 0, c]], # c* e3\n",
    "                    [[0, 0, 0, a, b, c]]]) # ae1 + be2 + ce3\n",
    "    colors = ['b','b','b','r','r','r','g']\n",
    "    for i in range(vec.shape[0]): \n",
    "        X, Y, Z, U, V, W = zip(*vec[i,:,:])\n",
    "        ax.quiver(X, Y, Z, U, V, W, length=1, normalize=False, \n",
    "                  color = colors[i] ,arrow_length_ratio = .08, pivot = 'tail',\n",
    "                  linestyles = 'solid',linewidths = 3, alpha =.6)\n",
    "    \n",
    "    #################################Plot Rectangle Boxes##############################\n",
    "    dlines = np.array([[[a, 0, 0],[a, b, 0]],\n",
    "                      [[0, b, 0],[a, b, 0]],\n",
    "                      [[0, 0, c],[a, b, c]],\n",
    "                      [[0, 0, c],[a, 0, c]],\n",
    "                      [[a, 0, c],[a, b, c]],\n",
    "                      [[0, 0, c],[0, b, c]],\n",
    "                      [[0, b, c],[a, b, c]],\n",
    "                      [[a, 0, 0],[a, 0, c]],\n",
    "                      [[0, b, 0],[0, b, c]],\n",
    "                      [[a, b, 0],[a, b, c]]])\n",
    "    colors = ['k','k','g','k','k','k','k','k','k']\n",
    "    for i in range(dlines.shape[0]):\n",
    "        ax.plot(dlines[i,:,0], dlines[i,:,1], dlines[i,:,2], lw =3, ls = '--', color = 'black', alpha=0.5)\n",
    "    \n",
    "    #################################Annotation########################################\n",
    "    ax.text(x = a, y = b, z = c, s= ' $(%0.d, %0.d, %.0d)$'% (a, b, c), size = 18)\n",
    "    ax.text(x = a, y = 0, z = 0, s= ' $%0.d e_1 = (%0.d, 0, 0)$'% (a, a), size = 15)\n",
    "    ax.text(x = 0, y = b, z = 0, s= ' $%0.d e_2 = (0, %0.d, 0)$'% (b, b), size = 15)\n",
    "    ax.text(x = 0, y = 0, z = c, s= ' $%0.d e_3 = (0, 0, %0.d)$' %(c, c), size = 15)\n",
    "    \n",
    "    #################################Axis Setting######################################\n",
    "    ax.grid()\n",
    "    ax.set_xlim([0, a+1])\n",
    "    ax.set_ylim([0, b+1])\n",
    "    ax.set_zlim([0, c+1])\n",
    "    \n",
    "    ax.set_xlabel('x-axis', size = 18)\n",
    "    ax.set_ylabel('y-axis', size = 18)\n",
    "    ax.set_zlabel('z-axis', size = 18)\n",
    "    \n",
    "    ax.set_title('Vector $(%0.d, %0.d, %.0d)$ Visualization' %(a, b, c), size = 20)\n",
    "    \n",
    "    ax.view_init(elev=20., azim=15)\n",
    "\n",
    "if __name__ == '__main__':\n",
    "    a = 7\n",
    "    b = 4\n",
    "    c = 9\n",
    "    linearCombo(a, b, c)\n"
   ]
  },
  {
   "cell_type": "code",
   "execution_count": null,
   "metadata": {},
   "outputs": [],
   "source": [
    "linearCombo(3, 5, 6) # Try again"
   ]
  },
  {
   "cell_type": "markdown",
   "metadata": {},
   "source": [
    "# <font face=\"gotham\" color=\"purple\"> Linear Combination of Inconsistent System</font>"
   ]
  },
  {
   "cell_type": "markdown",
   "metadata": {},
   "source": [
    "Inconsistent system means no unique solution exists. It might sound weird to treat a solution of an inconsistent system as a linear combination, but it is essential a trace of line. "
   ]
  },
  {
   "cell_type": "markdown",
   "metadata": {},
   "source": [
    "## <font face=\"gotham\" color=\"purple\"> One Free Variable Case</font>"
   ]
  },
  {
   "cell_type": "markdown",
   "metadata": {},
   "source": [
    "We have seen how inconsistent systems can be solved in the earlier lectures. Now we will investigate what solution means from the perspective of linear combination.\n",
    "\n",
    "Consider a system\n",
    "\n",
    "$$\n",
    "\\left[\n",
    "\\begin{matrix}\n",
    "1 & 1 & 2\\\\\n",
    "-2 &0 & 1\\\\\n",
    "1& 1 & 2\n",
    "\\end{matrix}\n",
    "\\right]\n",
    "\\left[\n",
    "\\begin{matrix}\n",
    "c_1\\\\c_2\\\\c_3\n",
    "\\end{matrix}\n",
    "\\right]\n",
    "=\n",
    "\\left[\n",
    "\\begin{matrix}\n",
    "1\\\\-3\\\\1\n",
    "\\end{matrix}\n",
    "\\right]\n",
    "$$"
   ]
  },
  {
   "cell_type": "markdown",
   "metadata": {},
   "source": [
    "Solve in SymPy:"
   ]
  },
  {
   "cell_type": "code",
   "execution_count": null,
   "metadata": {},
   "outputs": [],
   "source": [
    "A = sy.Matrix([[1,1,2,1],[-2,0,1,-3],[1,1,2,1]])\n",
    "A.rref()"
   ]
  },
  {
   "cell_type": "markdown",
   "metadata": {},
   "source": [
    "The solution is not unique due to a free variable: "
   ]
  },
  {
   "cell_type": "markdown",
   "metadata": {},
   "source": [
    "$$\n",
    "c_1 - \\frac{1}{2}c_3 =\\frac{3}{2}\\\\\n",
    "c_2 + \\frac{5}{2}c_3 = -\\frac{1}{2}\\\\\n",
    "c_3 = free\n",
    "$$"
   ]
  },
  {
   "cell_type": "markdown",
   "metadata": {},
   "source": [
    "Let $c_3 = t$,  the system can be parameterized:"
   ]
  },
  {
   "cell_type": "markdown",
   "metadata": {},
   "source": [
    "$$\n",
    "\\left[\n",
    "\\begin{matrix}\n",
    "c_1\\\\c_2\\\\c_3\n",
    "\\end{matrix}\n",
    "\\right]\n",
    "=\n",
    "\\left[\n",
    "\\begin{matrix}\n",
    "\\frac{3}{2}+\\frac{1}{2}t\\\\\n",
    "-\\frac{1}{2}-\\frac{5}{2}t\\\\\n",
    "t\n",
    "\\end{matrix}\n",
    "\\right]\n",
    "$$"
   ]
  },
  {
   "cell_type": "markdown",
   "metadata": {},
   "source": [
    "The solution is a line of infinite length, to visualize it, we set the range of $t\\in (-1, 1)$, the solution looks like:"
   ]
  },
  {
   "cell_type": "code",
   "execution_count": null,
   "metadata": {},
   "outputs": [],
   "source": [
    "fig = plt.figure(figsize = (8,8))\n",
    "ax = fig.add_subplot(projection='3d')\n",
    "\n",
    "t = np.linspace(-1, 1, 10)\n",
    "c1 = 3/2+t/2\n",
    "c2 = -1/2-5/2*t\n",
    "\n",
    "ax.plot(c1, c2, t, lw = 5)\n",
    "\n",
    "ax.set_xlabel('x-axis', size = 18)\n",
    "ax.set_ylabel('y-axis', size = 18)\n",
    "ax.set_zlabel('z-axis', size = 18)\n",
    "\n",
    "ax.set_title('Solution of A Linear System with One Free Variable', size = 18)\n",
    "plt.show()"
   ]
  },
  {
   "cell_type": "markdown",
   "metadata": {},
   "source": [
    "## <font face=\"gotham\" color=\"purple\"> Two Free Variables Case</font>"
   ]
  },
  {
   "cell_type": "markdown",
   "metadata": {},
   "source": [
    "Now consider the linear system:\n",
    "$$\n",
    "\\left[\n",
    "\\begin{matrix}\n",
    "1 & -3 & -2\\\\\n",
    "0 &0 & 0 \\\\\n",
    "0& 0 & 0 \n",
    "\\end{matrix}\n",
    "\\right]\n",
    "\\left[\n",
    "\\begin{matrix}\n",
    "x_1\\\\\n",
    "x_2\\\\\n",
    "x_3\n",
    "\\end{matrix}\n",
    "\\right]\n",
    "=\n",
    "\\left[\n",
    "\\begin{matrix}\n",
    "0\\\\0\\\\0\n",
    "\\end{matrix}\n",
    "\\right]\n",
    "$$\n",
    "The augmented matrix is\n",
    "$$\n",
    "\\left[\n",
    "\\begin{matrix}\n",
    "1 & -3 & -2 & 0\\\\\n",
    "0 &0 & 0 & 0\\\\\n",
    "0& 0 & 0 & 0\n",
    "\\end{matrix}\n",
    "\\right]\n",
    "$$"
   ]
  },
  {
   "cell_type": "markdown",
   "metadata": {},
   "source": [
    "We have two free variables\n",
    "$$\n",
    "\\begin{align}\n",
    "x_1 &= 3x_2+2x_3\\\\\n",
    "x_2 &= free\\\\\n",
    "x_3 &= free\n",
    "\\end{align}\n",
    "$$\n",
    "Rewrite the solution \n",
    "\n",
    "$$\n",
    "\\left[\n",
    "\\begin{matrix}\n",
    "x_1\\\\\n",
    "x_2\\\\\n",
    "x_3\n",
    "\\end{matrix}\n",
    "\\right]\n",
    "=\n",
    "\\left[\n",
    "\\begin{matrix}\n",
    "3x_2+2x_3\\\\\n",
    "x_2\\\\\n",
    "x_3\n",
    "\\end{matrix}\n",
    "\\right]\n",
    "=\n",
    "\\left[\\begin{array}{c}\n",
    "3 x_{2} \\\\\n",
    "x_{2} \\\\\n",
    "0\n",
    "\\end{array}\\right]+\\left[\\begin{array}{c}\n",
    "2 x_{3} \\\\\n",
    "0 \\\\\n",
    "x_{3}\n",
    "\\end{array}\\right]=\n",
    "x_{2}\\left[\\begin{array}{l}\n",
    "3 \\\\\n",
    "1 \\\\\n",
    "0\n",
    "\\end{array}\\right]+x_{3}\\left[\\begin{array}{l}\n",
    "2 \\\\\n",
    "0 \\\\\n",
    "1\n",
    "\\end{array}\\right]\n",
    "$$"
   ]
  },
  {
   "cell_type": "markdown",
   "metadata": {},
   "source": [
    "The solution is a plain spanned by two vectors $(3, 1, 0)^T$ and $(2, 0, 1)^T$. Let's draw the plane and spanning vectors."
   ]
  },
  {
   "cell_type": "markdown",
   "metadata": {},
   "source": [
    "We also plot another vector $v = (2,2,1)$ which is not a linear combination of $(3, 1, 0)^T$ and $(2, 0, 1)^T$. As you pan around the view angle (in JupyterLab use ```%matplotlib widge```), it is apparent that $v$ is not in the same plane of basis vectors."
   ]
  },
  {
   "cell_type": "code",
   "execution_count": null,
   "metadata": {},
   "outputs": [],
   "source": [
    "fig = plt.figure(figsize = (8,8))\n",
    "ax = fig.add_subplot(projection='3d')\n",
    "\n",
    "x2 = np.linspace(-2, 2, 10)\n",
    "x3 = np.linspace(-2, 2, 10)\n",
    "X2, X3 = np.meshgrid(x2, x3)\n",
    "X1 = 3*X2 + 2*X3\n",
    "ax.plot_wireframe(X1, X2, X3, linewidth = 1.5, color = 'k', alpha = .6)\n",
    "\n",
    "vec = np.array([[[0, 0, 0, 3, 1, 0]],\n",
    "               [[0, 0, 0, 2, 0, 1]],\n",
    "               [[0, 0, 0, 5, 1, 1]],\n",
    "               [[0, 0, 0, 2, 2, 1]]])\n",
    "colors = ['r', 'b', 'g', 'purple']\n",
    "for i in range(vec.shape[0]):\n",
    "    X, Y, Z, U, V, W = zip(*vec[i,:,:])\n",
    "    ax.quiver(X, Y, Z, U, V, W, length=1, normalize=False, color = colors[i],\n",
    "              arrow_length_ratio = .08, pivot = 'tail',\n",
    "              linestyles = 'solid',linewidths = 3, alpha = .6)\n",
    "\n",
    "################################Dashed Line################################\n",
    "\n",
    "point12 = np.array([[2, 0, 1],[5, 1, 1]])\n",
    "ax.plot(point12[:,0], point12[:,1], point12[:,2], lw =3, ls = '--', color = 'black', alpha=0.5)\n",
    "\n",
    "point34 = np.array([[3, 1, 0], [5, 1, 1]])\n",
    "ax.plot(point34[:,0], point34[:,1], point34[:,2], lw =3, ls = '--', color = 'black', alpha=0.5)\n",
    "\n",
    "#################################Texts#######################################\n",
    "ax.text(x = 3, y = 1, z = 0, s='$(3, 1, 0)$', color = 'red', size = 16)\n",
    "ax.text(x = 2, y = 0, z = 1, s='$(2, 0, 1)$', color = 'blue', size = 16)\n",
    "ax.text(x = 5, y = 1, z = 1, s='$(5, 1, 1)$', color = 'green', size = 16)\n",
    "ax.text(x = 2, y = 2, z = 1, s='$v$', color = 'purple', size = 16)\n",
    "\n",
    "ax.set_xlabel('x-axis', size = 18)\n",
    "ax.set_ylabel('y-axis', size = 18)\n",
    "ax.set_zlabel('z-axis', size = 18)\n",
    "\n",
    "ax.view_init(elev=-29, azim=130)"
   ]
  }
 ],
 "metadata": {
  "kernelspec": {
   "display_name": "Python 3",
   "language": "python",
   "name": "python3"
  },
  "language_info": {
   "codemirror_mode": {
    "name": "ipython",
    "version": 3
   },
   "file_extension": ".py",
   "mimetype": "text/x-python",
   "name": "python",
   "nbconvert_exporter": "python",
   "pygments_lexer": "ipython3",
   "version": "3.8.8"
  },
  "toc": {
   "base_numbering": 1,
   "nav_menu": {},
   "number_sections": true,
   "sideBar": true,
   "skip_h1_title": false,
   "title_cell": "Table of Contents",
   "title_sidebar": "Contents",
   "toc_cell": false,
   "toc_position": {},
   "toc_section_display": true,
   "toc_window_display": false
  }
 },
 "nbformat": 4,
 "nbformat_minor": 4
}
