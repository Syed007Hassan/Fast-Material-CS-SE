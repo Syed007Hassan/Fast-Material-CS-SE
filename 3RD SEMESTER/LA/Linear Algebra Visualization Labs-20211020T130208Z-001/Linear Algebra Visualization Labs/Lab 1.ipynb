{
 "cells": [
  {
   "cell_type": "markdown",
   "id": "ea44bc05",
   "metadata": {},
   "source": [
    "# Linear Algebra Lab no 1"
   ]
  },
  {
   "cell_type": "code",
   "execution_count": null,
   "id": "562c52bc",
   "metadata": {},
   "outputs": [],
   "source": [
    "import matplotlib.pyplot as plt\n",
    "import numpy as np\n",
    "from mpl_toolkits.mplot3d import Axes3D\n",
    "import scipy as sp\n",
    "import scipy.linalg\n",
    "import sympy as sy\n",
    "sy.init_printing() \n",
    "np.set_printoptions(precision=3)\n",
    "np.set_printoptions(suppress=True)"
   ]
  },
  {
   "cell_type": "markdown",
   "id": "3ea84b27",
   "metadata": {},
   "source": [
    "# #<font face=\"gotham\" color=\"purple\"> Visualisation of System of Equations </font>"
   ]
  },
  {
   "cell_type": "markdown",
   "id": "c09383a2",
   "metadata": {},
   "source": [
    "Consider a linear system of two equations:\n",
    "\\begin{align}\n",
    "x+y&=6\\\\\n",
    "x-y&=-4\n",
    "\\end{align}\n",
    "Easy to solve: $(x, y)^T = (1, 5)^T$. Let's plot the linear system."
   ]
  },
  {
   "cell_type": "raw",
   "id": "3f4ef5fb",
   "metadata": {},
   "source": [
    "x = np.linspace(-5, 5, 100)\n",
    "y1 = -x + 6\n",
    "y2 = x + 4\n",
    "\n",
    "fig, ax = plt.subplots(figsize = (12, 7))\n",
    "ax.scatter(1, 5, s = 200, zorder=5, color = 'r', alpha = .8) \n",
    "\n",
    "ax.plot(x, y1, lw =3, label = '$x+y=6$')\n",
    "ax.plot(x, y2, lw =3, label = '$x-y=-4$')\n",
    "ax.plot([1, 1], [0, 5], ls = '--', color = 'b', alpha = .5)\n",
    "ax.plot([-5, 1], [5, 5], ls = '--', color = 'b', alpha = .5)\n",
    "ax.set_xlim([-5, 5])\n",
    "ax.set_ylim([0, 12])\n",
    "\n",
    "ax.legend()\n",
    "s = '$(1,5)$'\n",
    "ax.text(1, 5.5, s, fontsize = 20)\n",
    "ax.set_title('Solution of $x+y=6$, $x-y=-4$', size = 22)\n",
    "ax.grid()"
   ]
  },
  {
   "cell_type": "markdown",
   "id": "91c79b88",
   "metadata": {},
   "source": [
    "# #<font face=\"gotham\" color=\"purple\"> How to Draw a Plane </font>\n"
   ]
  },
  {
   "cell_type": "markdown",
   "id": "8764c95d",
   "metadata": {},
   "source": [
    "Before drawing a plane, let's refresh the logic of Matplotlib 3D plotting. This should be familiar to you if you are a MATLAB user. \n",
    "\n",
    "First, create meshgrids."
   ]
  },
  {
   "cell_type": "code",
   "execution_count": null,
   "id": "18516302",
   "metadata": {},
   "outputs": [],
   "source": [
    "x, y = [-1, 0, 1], [-1, 0, 1]\n",
    "X, Y = np.meshgrid(x, y)"
   ]
  },
  {
   "cell_type": "markdown",
   "id": "67930d50",
   "metadata": {},
   "source": [
    "Mathematically, meshgrids are the coordinates of <font face=\"gotham\" color=\"red\">Cartesian product</font>. To illustrate, we can plot all the coordinates of these meshgrids"
   ]
  },
  {
   "cell_type": "code",
   "execution_count": null,
   "id": "06bb785f",
   "metadata": {},
   "outputs": [],
   "source": [
    "fig, ax = plt.subplots(figsize = (12, 7))\n",
    "ax.scatter(X, Y, s = 200, color = 'red')\n",
    "ax.axis([-2, 3.01, -2.01, 2])\n",
    "ax.spines['left'].set_position('zero') # alternative position is 'center'\n",
    "ax.spines['right'].set_color('none')\n",
    "ax.spines['bottom'].set_position('zero')\n",
    "ax.spines['top'].set_color('none')\n",
    "ax.grid()\n",
    "plt.show()\n"
   ]
  },
  {
   "cell_type": "markdown",
   "id": "a2e99567",
   "metadata": {},
   "source": [
    "Try a more complicated meshgrid."
   ]
  },
  {
   "cell_type": "code",
   "execution_count": null,
   "id": "943632d4",
   "metadata": {},
   "outputs": [],
   "source": [
    "x, y = np.arange(-3, 4, 1), np.arange(-3, 4, 1)\n",
    "X, Y = np.meshgrid(x, y)\n",
    "\n",
    "fig, ax = plt.subplots(figsize = (12, 12))\n",
    "ax.scatter(X, Y, s = 200, color = 'red', zorder = 3)\n",
    "ax.axis([-5, 5, -5, 5])\n",
    "\n",
    "ax.spines['left'].set_position('zero') # alternative position is 'center'\n",
    "ax.spines['right'].set_color('none')\n",
    "ax.spines['bottom'].set_position('zero')\n",
    "ax.spines['top'].set_color('none')\n",
    "ax.grid()"
   ]
  },
  {
   "cell_type": "markdown",
   "id": "eb6049b1",
   "metadata": {},
   "source": [
    "Now consider the function $z = f(x, y)$, $z$ is in the $3rd$ dimension. Though Matplotlib is not meant for delicate plotting of 3D graphics, basic 3D plotting is still acceptable. \n",
    "\n",
    "For example, we define a simple plane as \n",
    "$$z= x + y$$\n",
    "Then plot $z$"
   ]
  },
  {
   "cell_type": "code",
   "execution_count": null,
   "id": "4928b2f8",
   "metadata": {},
   "outputs": [],
   "source": [
    "Z = X + Y\n",
    "fig = plt.figure(figsize = (9,9))\n",
    "ax = fig.add_subplot(111, projection = '3d')\n",
    "ax.scatter(X, Y, Z, s = 100, label = '$z=x+y$')\n",
    "ax.legend()\n",
    "plt.show()"
   ]
  },
  {
   "cell_type": "markdown",
   "id": "35ec6a4c",
   "metadata": {},
   "source": [
    "Or we can plot it as a surface, Matplotlib will automatically interpolate values among the Cartesian coordinates such that the graph will look like a surface."
   ]
  },
  {
   "cell_type": "code",
   "execution_count": null,
   "id": "42c80675",
   "metadata": {},
   "outputs": [],
   "source": [
    "fig = plt.figure(figsize = (9, 9))\n",
    "ax = fig.add_subplot(111, projection = '3d')\n",
    "ax.plot_surface(X, Y, Z, cmap ='viridis') # MATLAB default color map\n",
    "ax.set_xlabel('x-axis')\n",
    "ax.set_ylabel('y-axis')\n",
    "ax.set_zlabel('z-axis')\n",
    "ax.set_title('$z=x+y$', size = 18)\n",
    "plt.show()"
   ]
  },
  {
   "cell_type": "markdown",
   "id": "8381d037",
   "metadata": {},
   "source": [
    "# <font face=\"gotham\" color=\"purple\"> Visualisation of A System of Three Linear Equations  </font>"
   ]
  },
  {
   "cell_type": "markdown",
   "id": "168bc96d",
   "metadata": {},
   "source": [
    "We have reviewed on plotting planes, now we are ready to plot several planes all together."
   ]
  },
  {
   "cell_type": "code",
   "execution_count": null,
   "id": "164a7d81",
   "metadata": {},
   "outputs": [],
   "source": [
    "x1 = np.linspace(25, 35, 20)\n",
    "x2 = np.linspace(10, 20, 20)\n",
    "X1, X2 = np.meshgrid(x1, x2)\n",
    "\n",
    "fig = plt.figure(figsize = (9, 9))\n",
    "ax = fig.add_subplot(111, projection = '3d')\n",
    "\n",
    "X3 = 2*X2 - X1\n",
    "ax.plot_surface(X1, X2, X3, cmap ='Blues', alpha = 1) \n",
    "\n",
    "X3 = .5*X2 - 1\n",
    "ax.plot_surface(X1, X2, X3, cmap ='Blues', alpha = 1)\n",
    "\n",
    "X3 = -5/9*X2 + 4/9*X1 - 1\n",
    "ax.plot_surface(X1, X2, X3, cmap ='Blues', alpha = 1)\n",
    "\n",
    "ax.scatter(29, 16, 3, s = 200, color = 'black')\n",
    "plt.show()"
   ]
  },
  {
   "cell_type": "markdown",
   "id": "a3838622",
   "metadata": {},
   "source": [
    "We are certain there is a solution, however the graph does not show the intersection of planes. The problem originates from Matplotlib's rendering algorithm, which is not designed for drawing genuine 3D graphics. It merely projects 3D objects onto 2D dimension to imitate 3D features.\n",
    "\n",
    "To understand the visualization of planes' intersections kindly use www.geogebra.org/classic/3d"
   ]
  },
  {
   "cell_type": "markdown",
   "id": "b3867213",
   "metadata": {},
   "source": [
    "# <font face=\"gotham\" color=\"purple\"> Reduced Row Echelon Form </font>\n"
   ]
  },
  {
   "cell_type": "markdown",
   "id": "1faf1c61",
   "metadata": {},
   "source": [
    "We define a SymPy matrix:"
   ]
  },
  {
   "cell_type": "code",
   "execution_count": null,
   "id": "2d8d1e29",
   "metadata": {},
   "outputs": [],
   "source": [
    "M = sy.Matrix([[5, 0, 11, 3], [7, 23, -3, 7], [12, 11, 3, -4]]); M"
   ]
  },
  {
   "cell_type": "markdown",
   "id": "439382f2",
   "metadata": {},
   "source": [
    "Think of it as an **augmented matrix** which combines coefficients of linear system. With row operations, we can solve the system quickly. Let's turn it into a **row reduced echelon form**."
   ]
  },
  {
   "cell_type": "code",
   "execution_count": null,
   "id": "c2ee2116",
   "metadata": {},
   "outputs": [],
   "source": [
    "M_rref = M.rref(); M_rref # .rref() is the SymPy method for row reduced echelon form"
   ]
  },
  {
   "cell_type": "markdown",
   "id": "73e462e2",
   "metadata": {},
   "source": [
    "Take out the first element in the big parentheses, i.e. the rref matrix.\n"
   ]
  },
  {
   "cell_type": "code",
   "execution_count": null,
   "id": "66a7a21c",
   "metadata": {},
   "outputs": [],
   "source": [
    "M_rref = np.array(M_rref[0]);M_rref"
   ]
  },
  {
   "cell_type": "markdown",
   "id": "6fbcb53f",
   "metadata": {},
   "source": [
    "If you don't like fractions, convert it into float type."
   ]
  },
  {
   "cell_type": "code",
   "execution_count": null,
   "id": "19986e52",
   "metadata": {},
   "outputs": [],
   "source": [
    "M_rref.astype(float)"
   ]
  },
  {
   "cell_type": "markdown",
   "id": "9912587f",
   "metadata": {},
   "source": [
    "The last column of the rref matrix is the solution of the system."
   ]
  },
  {
   "cell_type": "code",
   "execution_count": null,
   "id": "92fb3356",
   "metadata": {},
   "outputs": [],
   "source": [
    "## <font face=\"gotham\" color=\"purple\"> Example: rref and Visualisation </font>\n",
    "\n"
   ]
  },
  {
   "cell_type": "markdown",
   "id": "af0a616b",
   "metadata": {},
   "source": [
    "Let's use ```.rref()``` method to compute a solution of a system then visualise it. Consider the system:\n",
    "\n",
    "\\begin{align}\n",
    "3x+6y+2z&=-13\\\\\n",
    "x+2y+z&=-5\\\\\n",
    "-5x-10y-2z&=19\n",
    "\\end{align}\n",
    "\n"
   ]
  },
  {
   "cell_type": "code",
   "execution_count": null,
   "id": "6aa44489",
   "metadata": {},
   "outputs": [],
   "source": [
    "A = sy.Matrix([[3, 6, 2, -13], [1, 2, 1, -5], [-5, -10, -2, 19]]);A\n",
    "\n",
    "A_rref = A.rref(); A_rref\n"
   ]
  },
  {
   "cell_type": "markdown",
   "id": "79e5958f",
   "metadata": {},
   "source": [
    "In case you are wondering what's $(0, 2)$: they are the column number of pivot columns, in the augmented matrix above the pivot columns resides on the $0$th and $2$nd column.\n",
    "\n",
    "Because it's not a rank matrix, therefore solutions is in general form\n",
    "\\begin{align}\n",
    "x + 2y & = -3\\\\\n",
    "z &= -2\\\\\n",
    "y &= free\n",
    "\\end{align}\n",
    "Let's pick 3 different values of $y$, for instance $(3, 5, 7)$, to calculate $3$ special solutions:\n"
   ]
  },
  {
   "cell_type": "code",
   "execution_count": null,
   "id": "afc087cc",
   "metadata": {},
   "outputs": [],
   "source": [
    "point1 = (-2*3-3, 3, -2)\n",
    "point2 = (-2*5-3, 5, -2)\n",
    "point3 = (-2*7-3, 7, -2)\n",
    "special_solution = np.array([point1, point2, point3]); special_solution # each row is a special solution\n"
   ]
  },
  {
   "cell_type": "markdown",
   "id": "0c5730df",
   "metadata": {},
   "source": [
    "We can visualise the general solution, and the 3 specific solutions altogether.\n"
   ]
  },
  {
   "cell_type": "code",
   "execution_count": null,
   "id": "7b500085",
   "metadata": {},
   "outputs": [],
   "source": [
    "y = np.linspace(2, 8, 20) # y is the free variable\n",
    "x = -3 - 2*y\n",
    "z = np.full((len(y), ), -2) # z is a constant\n",
    "\n",
    "fig = plt.figure(figsize = (12,9))\n",
    "ax = fig.add_subplot(111, projection='3d')\n",
    "ax.plot(x, y, z, lw = 3, color = 'red')\n",
    "ax.scatter(special_solution[:,0], special_solution[:,1], special_solution[:,2], s = 200)\n",
    "ax.set_title('General Solution and Special Solution of the Linear Sytem', size= 16)\n",
    "plt.show()\n"
   ]
  },
  {
   "cell_type": "markdown",
   "id": "3eec9258",
   "metadata": {},
   "source": [
    "\n",
    "## <font face=\"gotham\" color=\"purple\"> Example: A Symbolic Solution </font>"
   ]
  },
  {
   "cell_type": "markdown",
   "id": "56c63507",
   "metadata": {},
   "source": [
    "Consider a system where all right-hand side values are indeterminate:\n",
    "\n",
    "\\begin{align}\n",
    "x + 2y - 3z &= a\\\\\n",
    "4x - y + 8z &= b\\\\\n",
    "2x - 6y - 4z &= c\n",
    "\\end{align}\n",
    "\n",
    "We define $a, b, c$ as SymPy objects, then extract the augmented matrix\n"
   ]
  },
  {
   "cell_type": "code",
   "execution_count": null,
   "id": "003c4d5b",
   "metadata": {},
   "outputs": [],
   "source": [
    "a, b, c = sy.symbols('a, b, c', real = True)\n",
    "A = sy.Matrix([[1, 2, -3, a], [4, -1, 8, b], [2, -6, -4, c]]); A\n"
   ]
  },
  {
   "cell_type": "markdown",
   "id": "92bc7c97",
   "metadata": {},
   "source": [
    "We can immediately achieve the symbolic solution by using ```.rref()``` method."
   ]
  },
  {
   "cell_type": "code",
   "execution_count": null,
   "id": "b372d223",
   "metadata": {},
   "outputs": [],
   "source": [
    "A_rref = A.rref(); A_rref"
   ]
  },
  {
   "cell_type": "code",
   "execution_count": null,
   "id": "06899a0a",
   "metadata": {},
   "outputs": [],
   "source": [
    "vDict = {a: 3, b: 6, c: 7}\n",
    "A_rref = A_rref[0].subs(vDict);A_rref # define a dictionary for special values to substitute in"
   ]
  }
 ],
 "metadata": {
  "kernelspec": {
   "display_name": "Python 3",
   "language": "python",
   "name": "python3"
  },
  "language_info": {
   "codemirror_mode": {
    "name": "ipython",
    "version": 3
   },
   "file_extension": ".py",
   "mimetype": "text/x-python",
   "name": "python",
   "nbconvert_exporter": "python",
   "pygments_lexer": "ipython3",
   "version": "3.8.8"
  }
 },
 "nbformat": 4,
 "nbformat_minor": 5
}
