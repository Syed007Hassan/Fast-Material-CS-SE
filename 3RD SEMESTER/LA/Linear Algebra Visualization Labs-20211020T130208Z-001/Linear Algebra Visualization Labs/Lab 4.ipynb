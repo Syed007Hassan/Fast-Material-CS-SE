{
 "cells": [
  {
   "cell_type": "code",
   "execution_count": null,
   "metadata": {},
   "outputs": [],
   "source": [
    "import matplotlib.pyplot as plt\n",
    "import numpy as np\n",
    "from mpl_toolkits.mplot3d import Axes3D\n",
    "import sympy as sy\n",
    "sy.init_printing() "
   ]
  },
  {
   "cell_type": "markdown",
   "metadata": {},
   "source": [
    "# <font face=\"gotham\" color=\"purple\">Definition of Linear Independence"
   ]
  },
  {
   "cell_type": "markdown",
   "metadata": {},
   "source": [
    "If all $c$'s are zero, a set of vectors $\\{v_1, v_2,...,v_p\\}$ is said to be **linearly independent**, if the equation\n",
    "\n",
    "$$c_{1} {v}_{1}+c_{2} {v}_{2}+\\cdots+c_{p} {v}_{p}=\\mathbf{0}$$\n",
    "\n",
    "holds.\n",
    "\n",
    "If any of $c_i\\neq 0$, the set of vectors is linearly dependent."
   ]
  },
  {
   "cell_type": "markdown",
   "metadata": {},
   "source": [
    "## <font face=\"gotham\" color=\"purple\"> Example 1"
   ]
  },
  {
   "cell_type": "markdown",
   "metadata": {},
   "source": [
    "Determine if ${v}_1, {v}_2, {v}_3$ are linearly independent.\n",
    "$$\n",
    "{v}_{1}=\\left[\\begin{array}{l}\n",
    "1 \\\\\n",
    "2 \\\\\n",
    "3\n",
    "\\end{array}\\right]^T, \n",
    "{v}_{2}=\\left[\\begin{array}{l}\n",
    "4 \\\\\n",
    "5 \\\\\n",
    "6\n",
    "\\end{array}\\right]^T, \\text { and } {v}_{3}=\\left[\\begin{array}{l}\n",
    "2 \\\\\n",
    "1 \\\\\n",
    "0\n",
    "\\end{array}\\right]^T\n",
    "$$"
   ]
  },
  {
   "cell_type": "markdown",
   "metadata": {},
   "source": [
    "The common way of testing linear combination is to construct augmented matrix and calculate the reduced form, for example"
   ]
  },
  {
   "cell_type": "code",
   "execution_count": null,
   "metadata": {},
   "outputs": [],
   "source": [
    "A = sy.Matrix([[1,4,2,0],\n",
    "               [2,5,1,0],\n",
    "               [3,6,0,0]])\n",
    "A.rref()"
   ]
  },
  {
   "cell_type": "markdown",
   "metadata": {},
   "source": [
    "The solution tells that $x_3$ is a free variable, so naturally it could be nonzero because $x_3\\cdot 0 =0$, therefore the set is linearly dependent."
   ]
  },
  {
   "cell_type": "markdown",
   "metadata": {},
   "source": [
    "## <font face=\"gotham\" color=\"purple\"> Example 2"
   ]
  },
  {
   "cell_type": "markdown",
   "metadata": {},
   "source": [
    "Consider a matrix $A$，determine if columns of $A$ are linearly independent.\n",
    "\n",
    "$$\n",
    "A=\\left[\\begin{array}{rrr}\n",
    "0 & 1 & 4 \\\\\n",
    "1 & 2 & -1 \\\\\n",
    "5 & 8 & 0\n",
    "\\end{array}\\right]\n",
    "$$"
   ]
  },
  {
   "cell_type": "markdown",
   "metadata": {},
   "source": [
    "Solve the system via augmented matrix."
   ]
  },
  {
   "cell_type": "code",
   "execution_count": null,
   "metadata": {},
   "outputs": [],
   "source": [
    "A = sy.Matrix([[0,1,4,0],[1,2,-1,0],[5,8,0,0]])\n",
    "A.rref()"
   ]
  },
  {
   "cell_type": "markdown",
   "metadata": {},
   "source": [
    "$Ax=0$ has only trivial solution, i.e. $(c_1, c_2, c_3)^T = (0, 0, 0)$, so the columns of $A$ are linearly independent."
   ]
  },
  {
   "cell_type": "markdown",
   "metadata": {},
   "source": [
    "Linear independence is closly connected with linear combination, in next section we visualize the linear independence."
   ]
  },
  {
   "cell_type": "markdown",
   "metadata": {},
   "source": [
    "# <font face=\"gotham\" color=\"purple\"> Visualization of Linear Independence"
   ]
  },
  {
   "cell_type": "markdown",
   "metadata": {},
   "source": [
    "This is a visual example in $\\mathbb{R}^2$, showing $(3, 2)^T$, $(-9, -6)^T$, $(6, 4)^T$ are linearly dependent."
   ]
  },
  {
   "cell_type": "code",
   "execution_count": null,
   "metadata": {},
   "outputs": [],
   "source": [
    "fig, ax = plt.subplots(figsize = (8, 8))\n",
    "#######################Arrows#######################\n",
    "arrows = np.array([[[0,0,3,2]],\n",
    "                   [[0,0,-9,-6]], \n",
    "                   [[0,0,6,4]]])\n",
    "colors = ['r','b','g']\n",
    "for i in range(arrows.shape[0]):\n",
    "    X,Y,U,V = zip(*arrows[i,:,:])\n",
    "    ax.arrow(X[0], Y[0], U[0],V[0], color = colors[i], width = .18, \n",
    "             length_includes_head = True,\n",
    "             head_width = .3, # default: 3*width\n",
    "             head_length = .6,\n",
    "             overhang = .4, zorder = -i)\n",
    "\n",
    "ax.scatter(0, 0, ec = 'red', fc = 'black', zorder = 5)\n",
    "ax.text(6, 4, '$(6, 4)$')\n",
    "ax.text(-9, -6.5, '$(-9, -6)$')\n",
    "ax.text(3, 2, '$(3, 2)$')\n",
    "\n",
    "ax.grid(True)\n",
    "ax.set_title('Linear Dependence Visualization')\n",
    "ax.axis([-10, 10, -10, 10])\n",
    "ax.set_xlabel('x-axis', size = 18)\n",
    "ax.set_ylabel('y-axis', size = 18)\n",
    "plt.show()"
   ]
  },
  {
   "cell_type": "markdown",
   "metadata": {},
   "source": [
    "Simply put, _if one vector is the scalar multiple of the other vector, e.g. $3u = v$, these two vectors are linearly dependent_."
   ]
  },
  {
   "cell_type": "markdown",
   "metadata": {},
   "source": [
    "Next, we visualize linear independence in $\\mathbb{R}^3$ with vectors $(1,-2,1)^T$, $(2,1,2)^T$, $(-1,2,3)^T$."
   ]
  },
  {
   "cell_type": "markdown",
   "metadata": {},
   "source": [
    "The standard procedure is to write down the span of first two vectors, which is a plane. Then we examine whether the third vector is in the plane. If not, this set of vectors is linearly independent.\n",
    "\n",
    "$$\n",
    "\\left[\n",
    "\\begin{matrix}\n",
    "x\\\\\n",
    "y\\\\\n",
    "z\n",
    "\\end{matrix}\n",
    "\\right]=\n",
    "s\\left[\n",
    "\\begin{matrix}\n",
    "1\\\\\n",
    "-2\\\\\n",
    "1\n",
    "\\end{matrix}\n",
    "\\right]+\n",
    "t\\left[\n",
    "\\begin{matrix}\n",
    "2\\\\\n",
    "1\\\\\n",
    "2\n",
    "\\end{matrix}\n",
    "\\right]=\n",
    "\\left[\n",
    "\\begin{matrix}\n",
    "s+2t\\\\\n",
    "-2s+t\\\\\n",
    "s+2t\n",
    "\\end{matrix}\n",
    "\\right]\n",
    "$$"
   ]
  },
  {
   "cell_type": "code",
   "execution_count": null,
   "metadata": {},
   "outputs": [],
   "source": [
    "# %matplotlib notebook, use this only when you are in Jupyter Notebook, it doesn't work in Jupyterlab\n",
    "fig = plt.figure(figsize = (10,10))\n",
    "ax = fig.add_subplot(projection='3d')\n",
    "\n",
    "s = np.linspace(-1, 1, 10)\n",
    "t = np.linspace(-1, 1, 10)\n",
    "S, T = np.meshgrid(s, t)\n",
    "\n",
    "X = S+2*T\n",
    "Y = -2*S+T\n",
    "Z = S+2*T\n",
    "ax.plot_wireframe(X, Y, Z, linewidth = 1.5, color = 'k', alpha = .6)\n",
    "\n",
    "vec = np.array([[[0, 0, 0, 1, -2, 1]],\n",
    "               [[0, 0, 0, 2, 1, 2]],\n",
    "               [[0, 0, 0, -1, 2, 3]]])\n",
    "colors = ['r','b','g']\n",
    "for i in range(vec.shape[0]):\n",
    "    X, Y, Z, U, V, W = zip(*vec[i,:,:])\n",
    "    ax.quiver(X, Y, Z, U, V, W, length=1, normalize=False, color = colors[i],\n",
    "              arrow_length_ratio = .08, pivot = 'tail',\n",
    "              linestyles = 'solid',linewidths = 3, alpha = .6)\n",
    "\n",
    "ax.set_title('Linear Independence Visualization')\n",
    "\n",
    "ax.set_xlabel('x-axis', size = 18)\n",
    "ax.set_ylabel('y-axis', size = 18)\n",
    "ax.set_zlabel('z-axis', size = 18)\n",
    "\n",
    "ax.view_init(elev=50., azim=0)\n",
    "plt.show()"
   ]
  },
  {
   "cell_type": "markdown",
   "metadata": {},
   "source": [
    "Pan around the image (either by setting ```ax.view_init``` or using JupyterLab widget), we can see that the <font face=\"gotham\" color=\"green\">green</font> vector is not in the plane spanned by <font face=\"gotham\" color=\"red\">red</font> and <font face=\"gotham\" color=\"blue\">blue</font> vector, thus they are linearly independent."
   ]
  },
  {
   "cell_type": "markdown",
   "metadata": {},
   "source": [
    "<div style=\"background-color:Bisque; color:DarkBlue; padding:30px;\">\n",
    "<b>A Sidenote About Linear Independence</b><br><br>\n",
    "Let $S = \\{{v}_1,{v}_2,{v}_3, ..., {v}_n\\}$ be a set of vectors in $\\mathbb{R}^m$, if $n>m$, then $S$ is always linearly dependent. Simple example is $4$ vectors in $\\mathbb{R}^3$, even if $3$ of them are linearly independent, the $4$th one can never be independent of them. <br><br>\n",
    "\n",
    "Also if $S = \\{{v}_1,{v}_2,{v}_3, ..., {v}_n\\}$ contains a zero vector, then the set is always linearly dependent.\n",
    "</div> "
   ]
  },
  {
   "cell_type": "code",
   "execution_count": null,
   "metadata": {},
   "outputs": [],
   "source": []
  }
 ],
 "metadata": {
  "kernelspec": {
   "display_name": "Python 3",
   "language": "python",
   "name": "python3"
  },
  "language_info": {
   "codemirror_mode": {
    "name": "ipython",
    "version": 3
   },
   "file_extension": ".py",
   "mimetype": "text/x-python",
   "name": "python",
   "nbconvert_exporter": "python",
   "pygments_lexer": "ipython3",
   "version": "3.8.8"
  },
  "toc": {
   "base_numbering": 1,
   "nav_menu": {},
   "number_sections": true,
   "sideBar": true,
   "skip_h1_title": false,
   "title_cell": "Table of Contents",
   "title_sidebar": "Contents",
   "toc_cell": false,
   "toc_position": {},
   "toc_section_display": true,
   "toc_window_display": false
  }
 },
 "nbformat": 4,
 "nbformat_minor": 4
}
