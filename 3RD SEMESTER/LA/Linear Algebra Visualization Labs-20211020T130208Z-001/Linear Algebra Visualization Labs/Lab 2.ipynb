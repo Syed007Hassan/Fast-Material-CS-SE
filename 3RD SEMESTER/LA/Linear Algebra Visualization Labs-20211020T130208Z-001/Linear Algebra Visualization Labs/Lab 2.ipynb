{
 "cells": [
  {
   "cell_type": "markdown",
   "id": "b62a7fe0",
   "metadata": {},
   "source": [
    "# Lab 2: Linear Transformation"
   ]
  },
  {
   "cell_type": "markdown",
   "id": "8463d1bd",
   "metadata": {},
   "source": [
    "In the following example we will use a bigger matrix, represented as an image for visual support. Once we calculate the new indices matrix we will map the original matrix to the new indices, wrapping the out-of-bounds indices to obtain a continuous plane using numpy.take with mode='wrap'.\n",
    "\n"
   ]
  },
  {
   "cell_type": "code",
   "execution_count": null,
   "id": "b2c63f2d",
   "metadata": {},
   "outputs": [],
   "source": [
    "import matplotlib as mpl\n",
    "import matplotlib.pyplot as plt\n",
    "import numpy as np"
   ]
  },
  {
   "cell_type": "code",
   "execution_count": null,
   "id": "5f8f3282",
   "metadata": {},
   "outputs": [],
   "source": [
    "mpl.rcParams.update({'image.cmap': 'Accent',\n",
    "                     'image.interpolation': 'none',\n",
    "                     'xtick.major.width': 0,\n",
    "                     'xtick.labelsize': 0,\n",
    "                     'ytick.major.width': 0,\n",
    "                     'ytick.labelsize': 0,\n",
    "                     'axes.linewidth': 0})\n"
   ]
  },
  {
   "cell_type": "code",
   "execution_count": null,
   "id": "01852e1f",
   "metadata": {},
   "outputs": [],
   "source": [
    "aux = np.ones((100, 100), dtype=int)\n",
    "src = np.vstack([np.c_[aux, 2*aux], np.c_[3*aux, 5*aux]])\n",
    "plt.imshow(src)\n",
    "plt.show()\n"
   ]
  },
  {
   "cell_type": "markdown",
   "id": "0085c7da",
   "metadata": {},
   "source": [
    "The linear transformation function, which includes the operations of the previous examples but rounding the new indices pairs and mapping the source matrix to the new indices might be written as follows:\n",
    "\n"
   ]
  },
  {
   "cell_type": "code",
   "execution_count": null,
   "id": "a4221b2c",
   "metadata": {},
   "outputs": [],
   "source": [
    "def linear_transformation(src, a):\n",
    "    M, N = src.shape\n",
    "    points = np.mgrid[0:N, 0:M].reshape((2, M*N))\n",
    "    new_points = np.linalg.inv(a).dot(points).round().astype(int)\n",
    "    x, y = new_points.reshape((2, M, N), order='F')\n",
    "    indices = x + N*y\n",
    "    return np.take(src, indices, mode='wrap')"
   ]
  },
  {
   "cell_type": "code",
   "execution_count": null,
   "id": "451cc170",
   "metadata": {},
   "outputs": [],
   "source": [
    "a = np.array([[1.5, 0],\n",
    "              [0, 1]])\n",
    "dst = linear_transformation(src, a)\n",
    "plt.imshow(dst)\n",
    "plt.show()\n"
   ]
  },
  {
   "cell_type": "code",
   "execution_count": null,
   "id": "d6d4357b",
   "metadata": {},
   "outputs": [],
   "source": [
    "a = 1.8*np.eye(2)\n",
    "dst = linear_transformation(src, a)\n",
    "plt.imshow(dst)\n",
    "plt.show()\n"
   ]
  },
  {
   "cell_type": "code",
   "execution_count": null,
   "id": "3c80edcb",
   "metadata": {},
   "outputs": [],
   "source": [
    "a = 0.5*np.eye(2)\n",
    "dst = linear_transformation(src, a)\n",
    "plt.imshow(dst)\n",
    "plt.show()\n"
   ]
  },
  {
   "cell_type": "code",
   "execution_count": null,
   "id": "e260f060",
   "metadata": {},
   "outputs": [],
   "source": [
    "a = np.array([[1, 0],\n",
    "              [0, .5]])\n",
    "dst = linear_transformation(src, a)\n",
    "plt.imshow(dst)\n",
    "plt.show()\n"
   ]
  },
  {
   "cell_type": "code",
   "execution_count": null,
   "id": "0e574338",
   "metadata": {},
   "outputs": [],
   "source": [
    "a = np.array([[1, 0],\n",
    "              [.5, 1]])\n",
    "dst = linear_transformation(src, a)\n",
    "plt.imshow(dst)\n",
    "plt.show()\n"
   ]
  },
  {
   "cell_type": "code",
   "execution_count": null,
   "id": "75bff1db",
   "metadata": {},
   "outputs": [],
   "source": [
    "alpha = np.pi/4\n",
    "a = np.array([[np.cos(alpha), -np.sin(alpha)],\n",
    "              [np.sin(alpha), np.cos(alpha)]])\n",
    "dst = linear_transformation(src, a)\n",
    "plt.imshow(dst)\n",
    "plt.show()\n"
   ]
  },
  {
   "cell_type": "code",
   "execution_count": null,
   "id": "4d925d26",
   "metadata": {},
   "outputs": [],
   "source": [
    "alpha = np.pi/4\n",
    "a = np.array([[np.cos(2*alpha), np.sin(2*alpha)],\n",
    "              [np.sin(2*alpha), -np.cos(2*alpha)]])\n",
    "dst = linear_transformation(src, a)\n",
    "plt.imshow(dst)\n",
    "plt.show()\n"
   ]
  },
  {
   "cell_type": "code",
   "execution_count": null,
   "id": "7a070143",
   "metadata": {},
   "outputs": [],
   "source": [
    "a = np.array([[1, 0],\n",
    "              [0, .5]])\n",
    "dst = linear_transformation(src, a)\n",
    "plt.imshow(dst)\n",
    "plt.show()\n"
   ]
  },
  {
   "cell_type": "code",
   "execution_count": null,
   "id": "7442bb33",
   "metadata": {},
   "outputs": [],
   "source": [
    "a = np.array([[1, 0],\n",
    "              [.5, 1]])\n",
    "dst = linear_transformation(src, a)\n",
    "plt.imshow(dst)\n",
    "plt.show()\n"
   ]
  },
  {
   "cell_type": "code",
   "execution_count": null,
   "id": "ac050c4b",
   "metadata": {},
   "outputs": [],
   "source": [
    "alpha = np.pi/4\n",
    "a = np.array([[np.cos(alpha), -np.sin(alpha)],\n",
    "              [np.sin(alpha), np.cos(alpha)]])\n",
    "dst = linear_transformation(src, a)\n",
    "plt.imshow(dst)\n",
    "plt.show()\n"
   ]
  },
  {
   "cell_type": "code",
   "execution_count": null,
   "id": "d6c83f6c",
   "metadata": {},
   "outputs": [],
   "source": [
    "alpha = np.pi/4\n",
    "a = np.array([[np.cos(2*alpha), np.sin(2*alpha)],\n",
    "              [np.sin(2*alpha), -np.cos(2*alpha)]])\n",
    "dst = linear_transformation(src, a)\n",
    "plt.imshow(dst)\n",
    "plt.show()\n"
   ]
  },
  {
   "cell_type": "markdown",
   "id": "fbf1e30a",
   "metadata": {},
   "source": [
    "How to Normalize a matrix Mathematically"
   ]
  },
  {
   "cell_type": "code",
   "execution_count": null,
   "id": "6c1df9d7",
   "metadata": {},
   "outputs": [],
   "source": [
    "import numpy as np\n",
    "x= np.random.random((3,3))\n",
    "print(\"Original Array:\")\n",
    "print(x)\n",
    "xmax, xmin = x.max(), x.min()\n",
    "x = (x - xmin)/(xmax - xmin)\n",
    "print(\"After normalization:\")\n",
    "print(x)"
   ]
  }
 ],
 "metadata": {
  "kernelspec": {
   "display_name": "Python 3",
   "language": "python",
   "name": "python3"
  },
  "language_info": {
   "codemirror_mode": {
    "name": "ipython",
    "version": 3
   },
   "file_extension": ".py",
   "mimetype": "text/x-python",
   "name": "python",
   "nbconvert_exporter": "python",
   "pygments_lexer": "ipython3",
   "version": "3.8.8"
  }
 },
 "nbformat": 4,
 "nbformat_minor": 5
}
