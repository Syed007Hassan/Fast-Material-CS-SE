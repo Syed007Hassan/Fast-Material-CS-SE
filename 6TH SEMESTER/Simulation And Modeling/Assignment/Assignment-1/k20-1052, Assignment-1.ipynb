{
 "cells": [
  {
   "cell_type": "markdown",
   "id": "4240c9e8",
   "metadata": {},
   "source": [
    "## Simulation Assignment # 1: K20-1052-S.M.HASSAN ALI"
   ]
  },
  {
   "cell_type": "markdown",
   "id": "e508ac36",
   "metadata": {},
   "source": [
    "### Q1. Simulation with n = 100000"
   ]
  },
  {
   "cell_type": "code",
   "execution_count": 64,
   "id": "927602d6",
   "metadata": {},
   "outputs": [
    {
     "name": "stdout",
     "output_type": "stream",
     "text": [
      "N: 100000\n",
      "Average sales without accepting the wholesaler's deal: $5.41 million\n",
      "Probability of selling more than $6 million: 0.35\n",
      "The wholesaler's deal is good as our avg_sales are less.\n"
     ]
    }
   ],
   "source": [
    "import numpy as np\n",
    "\n",
    "# Specify number of Monte Carlo simulations\n",
    "N_ROUNDS = 100000\n",
    "\n",
    "results = []\n",
    "for rnd in range(N_ROUNDS):\n",
    "    # Determine if the product gets patented\n",
    "    prob_patent = np.random.randint(0, 2)\n",
    "    \n",
    "    # Determine the base sales without a patent\n",
    "    base_sales = round(np.random.triangular(1e6, 3e6, 9e6) / 1000000, 2)\n",
    "    \n",
    "    if prob_patent:\n",
    "        # Determine the sales with a patent\n",
    "        patent_markup = np.random.triangular(0.25, 0.5, 0.75)\n",
    "        sales = round(base_sales + (base_sales * patent_markup), 2)\n",
    "    else:\n",
    "        sales = base_sales\n",
    "    \n",
    "    results.append(sales)\n",
    "\n",
    "# Calculate average sales without accepting the wholesaler's deal\n",
    "print(\"N:\",N_ROUNDS) \n",
    "avg_sales = round(np.mean(results), 2)\n",
    "print(\"Average sales without accepting the wholesaler's deal: $\" + str(avg_sales) + \" million\")\n",
    "\n",
    "# Calculate probability of selling more than $6 million\n",
    "prob_more_than_6m = round(np.mean(np.array(results) > 6), 2)\n",
    "print(\"Probability of selling more than $6 million: \" + str(prob_more_than_6m))\n",
    "\n",
    "# Calculate if the wholesaler's deal is good or not\n",
    "if avg_sales < 6:\n",
    "    print(\"The wholesaler's deal is good as our avg_sales are less.\")\n",
    "else:\n",
    "    print(\"The wholesaler's deal is not good as our avg_sales are greater.\")"
   ]
  },
  {
   "cell_type": "markdown",
   "id": "e3115ec9",
   "metadata": {},
   "source": [
    "### Q2. Simulation with n = 10000"
   ]
  },
  {
   "cell_type": "code",
   "execution_count": 65,
   "id": "bb048645",
   "metadata": {},
   "outputs": [
    {
     "name": "stdout",
     "output_type": "stream",
     "text": [
      "N: 10000\n",
      "Average sales without accepting the wholesaler's deal: $5.41 million\n",
      "Probability of selling more than $6 million: 0.36\n",
      "The wholesaler's deal is good as our avg_sales are less.\n"
     ]
    }
   ],
   "source": [
    "import numpy as np\n",
    "\n",
    "# Specify number of Monte Carlo simulations\n",
    "N_ROUNDS = 10000\n",
    "\n",
    "results = []\n",
    "for rnd in range(N_ROUNDS):\n",
    "    # Determine if the product gets patented\n",
    "    prob_patent = np.random.randint(0, 2)\n",
    "    \n",
    "    # Determine the base sales without a patent\n",
    "    base_sales = round(np.random.triangular(1e6, 3e6, 9e6) / 1000000, 2)\n",
    "    \n",
    "    if prob_patent:\n",
    "        # Determine the sales with a patent\n",
    "        patent_markup = np.random.triangular(0.25, 0.5, 0.75)\n",
    "        sales = round(base_sales + (base_sales * patent_markup), 2)\n",
    "    else:\n",
    "        sales = base_sales\n",
    "    \n",
    "    results.append(sales)\n",
    "\n",
    "# Calculate average sales without accepting the wholesaler's deal\n",
    "print(\"N:\",N_ROUNDS) \n",
    "avg_sales = round(np.mean(results), 2)\n",
    "print(\"Average sales without accepting the wholesaler's deal: $\" + str(avg_sales) + \" million\")\n",
    "\n",
    "# Calculate probability of selling more than $6 million\n",
    "prob_more_than_6m = round(np.mean(np.array(results) > 6), 2)\n",
    "print(\"Probability of selling more than $6 million: \" + str(prob_more_than_6m))\n",
    "\n",
    "# Calculate if the wholesaler's deal is good or not\n",
    "if avg_sales < 6:\n",
    "    print(\"The wholesaler's deal is good as our avg_sales are less.\")\n",
    "else:\n",
    "    print(\"The wholesaler's deal is not good as our avg_sales are greater.\")"
   ]
  },
  {
   "cell_type": "markdown",
   "id": "c44edfb8",
   "metadata": {},
   "source": [
    "### Simulation with n = 1000"
   ]
  },
  {
   "cell_type": "code",
   "execution_count": null,
   "id": "6e9c7353",
   "metadata": {},
   "outputs": [],
   "source": [
    "import numpy as np\n",
    "\n",
    "# Specify number of Monte Carlo simulations\n",
    "N_ROUNDS = 1000\n",
    "\n",
    "results = []\n",
    "for rnd in range(N_ROUNDS):\n",
    "    # Determine if the product gets patented\n",
    "    prob_patent = np.random.randint(0, 2)\n",
    "    \n",
    "    # Determine the base sales without a patent\n",
    "    base_sales = round(np.random.triangular(1e6, 3e6, 9e6) / 1000000, 2)\n",
    "    \n",
    "    if prob_patent:\n",
    "        # Determine the sales with a patent\n",
    "        patent_markup = np.random.triangular(0.25, 0.5, 0.75)\n",
    "        sales = round(base_sales + (base_sales * patent_markup), 2)\n",
    "    else:\n",
    "        sales = base_sales\n",
    "    \n",
    "    results.append(sales)\n",
    "\n",
    "# Calculate average sales without accepting the wholesaler's deal\n",
    "print(\"N:\",N_ROUNDS) \n",
    "avg_sales = round(np.mean(results), 2)\n",
    "print(\"Average sales without accepting the wholesaler's deal: $\" + str(avg_sales) + \" million\")\n",
    "\n",
    "# Calculate probability of selling more than $6 million\n",
    "prob_more_than_6m = round(np.mean(np.array(results) > 6), 2)\n",
    "print(\"Probability of selling more than $6 million: \" + str(prob_more_than_6m))\n",
    "\n",
    "# Calculate probability of achieving sales of +11 million\n",
    "prob_11m_sales = round(np.mean(np.array(results) > 11), 2)\n",
    "print(\"Probability of achieving sales of +$11 million: \" + str(prob_11m_sales))\n",
    "\n",
    "# Calculate if the wholesaler's deal is good or not\n",
    "if avg_sales < 6:\n",
    "    print(\"The wholesaler's deal is good as our avg_sales are less.\")\n",
    "else:\n",
    "    print(\"The wholesaler's deal is not good as our avg_sales are greater.\")"
   ]
  },
  {
   "cell_type": "markdown",
   "id": "39c8dfe8",
   "metadata": {},
   "source": [
    "### Prob for checking sales greater than 11 million"
   ]
  },
  {
   "cell_type": "code",
   "execution_count": 63,
   "id": "6b3a75ec",
   "metadata": {},
   "outputs": [
    {
     "name": "stdout",
     "output_type": "stream",
     "text": [
      "N: 100000\n",
      "Average sales without accepting the wholesaler's deal: $5.41 million\n",
      "Probability of selling more than $6 million: 0.35\n",
      "Probability of achieving sales of +$11 million: 0.03\n",
      "The wholesaler's deal is good as our avg_sales are less.\n"
     ]
    }
   ],
   "source": [
    "import numpy as np\n",
    "\n",
    "# Specify number of Monte Carlo simulations\n",
    "N_ROUNDS = 100000\n",
    "\n",
    "results = []\n",
    "for rnd in range(N_ROUNDS):\n",
    "    # Determine if the product gets patented\n",
    "    prob_patent = np.random.randint(0, 2)\n",
    "    \n",
    "    # Determine the base sales without a patent\n",
    "    base_sales = round(np.random.triangular(1e6, 3e6, 9e6) / 1000000, 2)\n",
    "    \n",
    "    if prob_patent:\n",
    "        # Determine the sales with a patent\n",
    "        patent_markup = np.random.triangular(0.25, 0.5, 0.75)\n",
    "        sales = round(base_sales + (base_sales * patent_markup), 2)\n",
    "    else:\n",
    "        sales = base_sales\n",
    "    \n",
    "    results.append(sales)\n",
    "\n",
    "# Calculate average sales without accepting the wholesaler's deal\n",
    "print(\"N:\",N_ROUNDS) \n",
    "avg_sales = round(np.mean(results), 2)\n",
    "print(\"Average sales without accepting the wholesaler's deal: $\" + str(avg_sales) + \" million\")\n",
    "\n",
    "# Calculate probability of selling more than $6 million\n",
    "prob_more_than_6m = round(np.mean(np.array(results) > 6), 2)\n",
    "print(\"Probability of selling more than $6 million: \" + str(prob_more_than_6m))\n",
    "\n",
    "# Calculate probability of achieving sales of +11 million\n",
    "prob_11m_sales = round(np.mean(np.array(results) > 11), 2)\n",
    "print(\"Probability of achieving sales of +$11 million: \" + str(prob_11m_sales))\n",
    "\n",
    "# Calculate if the wholesaler's deal is good or not\n",
    "if avg_sales < 6:\n",
    "    print(\"The wholesaler's deal is good as our avg_sales are less.\")\n",
    "else:\n",
    "    print(\"The wholesaler's deal is not good as our avg_sales are greater.\")"
   ]
  }
 ],
 "metadata": {
  "kernelspec": {
   "display_name": "Python 3 (ipykernel)",
   "language": "python",
   "name": "python3"
  },
  "language_info": {
   "codemirror_mode": {
    "name": "ipython",
    "version": 3
   },
   "file_extension": ".py",
   "mimetype": "text/x-python",
   "name": "python",
   "nbconvert_exporter": "python",
   "pygments_lexer": "ipython3",
   "version": "3.9.13"
  }
 },
 "nbformat": 4,
 "nbformat_minor": 5
}
