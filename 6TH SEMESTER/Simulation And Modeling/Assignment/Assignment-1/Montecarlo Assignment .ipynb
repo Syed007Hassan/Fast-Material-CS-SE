{
 "cells": [
  {
   "cell_type": "markdown",
   "id": "4af41fd9",
   "metadata": {},
   "source": [
    "## Assignment 1 \n",
    "\n",
    "Suppose you have an innovative product that you have been selling for the past year. You have decided to apply for a patent to protect your IP, but you also did that in order to increase sales as you are aware that businesses deem a patented product more worthy.\n",
    "Let's make the following assumptions\n",
    "\n",
    "There is a 50% chance that your product gets patented\n",
    "* If it does get patented, your sales go up by 25% - 75%, with 50% being the most likely case.\n",
    "* Without a patent you expect to sell between 1 - 9 million next year, with 3 million being the most likely case.\n",
    "* We do not have to consider any costs or expenses\n",
    "    \n",
    "Suppose a wholesaler offers to buy your entire production and inventory for the year for $6 million\n",
    "(you won’t be able to sell anything else), would you accept the offer?"
   ]
  },
  {
   "cell_type": "code",
   "execution_count": 19,
   "id": "6ee08a40",
   "metadata": {
    "collapsed": true
   },
   "outputs": [
    {
     "name": "stdout",
     "output_type": "stream",
     "text": [
      "Count\t|Patent\t|base sales| Markup \t| Sales|\n",
      "--------------------------------------------------\n",
      "1 \t| 0 \t| 3.470000 |\t 0.359762| \t 3.470000\n",
      "2 \t| 1 \t| 5.380000 |\t 0.420416| \t 7.640000\n",
      "3 \t| 0 \t| 4.040000 |\t 0.551159| \t 4.040000\n",
      "4 \t| 1 \t| 4.870000 |\t 0.469834| \t 7.160000\n",
      "5 \t| 0 \t| 4.220000 |\t 0.644036| \t 4.220000\n",
      "6 \t| 0 \t| 6.420000 |\t 0.581933| \t 6.420000\n",
      "7 \t| 0 \t| 7.090000 |\t 0.690954| \t 7.090000\n",
      "8 \t| 1 \t| 6.000000 |\t 0.541646| \t 9.250000\n",
      "9 \t| 1 \t| 2.900000 |\t 0.700128| \t 4.930000\n",
      "10 \t| 1 \t| 4.430000 |\t 0.484523| \t 6.580000\n",
      "11 \t| 0 \t| 3.740000 |\t 0.361586| \t 3.740000\n",
      "12 \t| 0 \t| 3.180000 |\t 0.524682| \t 3.180000\n",
      "13 \t| 1 \t| 6.230000 |\t 0.358001| \t 8.460000\n",
      "14 \t| 1 \t| 3.740000 |\t 0.621409| \t 6.060000\n",
      "15 \t| 1 \t| 2.730000 |\t 0.519644| \t 4.150000\n",
      "16 \t| 1 \t| 4.350000 |\t 0.596166| \t 6.940000\n",
      "17 \t| 0 \t| 6.040000 |\t 0.567397| \t 6.040000\n",
      "18 \t| 0 \t| 7.820000 |\t 0.497757| \t 7.820000\n",
      "19 \t| 1 \t| 2.420000 |\t 0.682882| \t 4.070000\n",
      "20 \t| 1 \t| 8.450000 |\t 0.527017| \t 12.900000\n",
      "21 \t| 0 \t| 2.190000 |\t 0.464567| \t 2.190000\n",
      "22 \t| 0 \t| 2.860000 |\t 0.524290| \t 2.860000\n",
      "23 \t| 0 \t| 8.050000 |\t 0.511012| \t 8.050000\n",
      "24 \t| 1 \t| 6.270000 |\t 0.465292| \t 9.190000\n",
      "25 \t| 0 \t| 4.920000 |\t 0.469111| \t 4.920000\n",
      "26 \t| 1 \t| 7.220000 |\t 0.440685| \t 10.400000\n",
      "27 \t| 1 \t| 5.980000 |\t 0.478920| \t 8.840000\n",
      "28 \t| 0 \t| 3.810000 |\t 0.482395| \t 3.810000\n",
      "29 \t| 1 \t| 5.530000 |\t 0.604313| \t 8.870000\n",
      "30 \t| 1 \t| 2.920000 |\t 0.429142| \t 4.170000\n",
      "31 \t| 0 \t| 3.610000 |\t 0.412015| \t 3.610000\n",
      "32 \t| 0 \t| 3.340000 |\t 0.411706| \t 3.340000\n",
      "33 \t| 1 \t| 4.900000 |\t 0.539257| \t 7.540000\n",
      "34 \t| 0 \t| 4.690000 |\t 0.641628| \t 4.690000\n",
      "35 \t| 0 \t| 4.500000 |\t 0.500466| \t 4.500000\n",
      "36 \t| 0 \t| 2.860000 |\t 0.313149| \t 2.860000\n",
      "37 \t| 0 \t| 2.160000 |\t 0.611192| \t 2.160000\n",
      "38 \t| 1 \t| 7.010000 |\t 0.558098| \t 10.920000\n",
      "39 \t| 1 \t| 5.880000 |\t 0.499919| \t 8.820000\n",
      "40 \t| 0 \t| 4.090000 |\t 0.265641| \t 4.090000\n",
      "41 \t| 0 \t| 6.510000 |\t 0.536494| \t 6.510000\n",
      "42 \t| 1 \t| 5.410000 |\t 0.430903| \t 7.740000\n",
      "43 \t| 1 \t| 3.590000 |\t 0.540065| \t 5.530000\n",
      "44 \t| 0 \t| 3.010000 |\t 0.485524| \t 3.010000\n",
      "45 \t| 1 \t| 5.380000 |\t 0.378852| \t 7.420000\n",
      "46 \t| 1 \t| 6.690000 |\t 0.368614| \t 9.160000\n",
      "47 \t| 0 \t| 6.940000 |\t 0.309653| \t 6.940000\n",
      "48 \t| 0 \t| 6.300000 |\t 0.547513| \t 6.300000\n",
      "49 \t| 1 \t| 3.060000 |\t 0.659056| \t 5.080000\n",
      "50 \t| 1 \t| 3.760000 |\t 0.497636| \t 5.630000\n"
     ]
    }
   ],
   "source": [
    "import numpy as np\n",
    "# Specify number of monte carlo simulations\n",
    "N_ROUNDS = 50\n",
    "results = []\n",
    "count=0\n",
    "print ('Count\\t|Patent\\t|base sales| Markup \\t| Sales|')\n",
    "print('--------------------------------------------------')\n",
    "\n",
    "for rnd in range(N_ROUNDS):\n",
    "    count+=1\n",
    "    prob_patent = np.random.randint(0, 2)\n",
    "    base_sales = round(np.random.triangular(1e6, 3e6, 9e6)\n",
    "        / 1000000, 2)\n",
    "    patent_markup = np.random.triangular(0.25, 0.5, 0.75)\n",
    "    sales = round(base_sales + (base_sales \n",
    "        * prob_patent * patent_markup), 2)\n",
    "    print(\"%i \\t| %i \\t| %1.6f |\\t %1.6f| \\t %1.6f\"%(count,prob_patent,base_sales,patent_markup,sales))\n",
    "    results.append(sales)"
   ]
  },
  {
   "cell_type": "markdown",
   "id": "75bc1ca1",
   "metadata": {},
   "source": [
    "Count\t|Patent\t|base sales| Markup \t| Sales|\n",
    "-----------|----|-----------|-----------|-------------\n",
    "1 \t| 0 \t| 3.470000 |\t 0.359762| \t 3.470000\n",
    "2 \t| 1 \t| 5.380000 |\t 0.420416| \t 7.640000\n",
    "3 \t| 0 \t| 4.040000 |\t 0.551159| \t 4.040000\n",
    "4 \t| 1 \t| 4.870000 |\t 0.469834| \t 7.160000\n",
    "5 \t| 0 \t| 4.220000 |\t 0.644036| \t 4.220000\n",
    "6 \t| 0 \t| 6.420000 |\t 0.581933| \t 6.420000\n",
    "7 \t| 0 \t| 7.090000 |\t 0.690954| \t 7.090000\n",
    "8 \t| 1 \t| 6.000000 |\t 0.541646| \t 9.250000\n",
    "9 \t| 1 \t| 2.900000 |\t 0.700128| \t 4.930000\n",
    "10 \t| 1 \t| 4.430000 |\t 0.484523| \t 6.580000\n",
    "11 \t| 0 \t| 3.740000 |\t 0.361586| \t 3.740000\n",
    "12 \t| 0 \t| 3.180000 |\t 0.524682| \t 3.180000\n",
    "13 \t| 1 \t| 6.230000 |\t 0.358001| \t 8.460000\n",
    "14 \t| 1 \t| 3.740000 |\t 0.621409| \t 6.060000\n",
    "15 \t| 1 \t| 2.730000 |\t 0.519644| \t 4.150000\n",
    "16 \t| 1 \t| 4.350000 |\t 0.596166| \t 6.940000\n",
    "17 \t| 0 \t| 6.040000 |\t 0.567397| \t 6.040000\n",
    "18 \t| 0 \t| 7.820000 |\t 0.497757| \t 7.820000\n",
    "19 \t| 1 \t| 2.420000 |\t 0.682882| \t 4.070000\n",
    "20 \t| 1 \t| 8.450000 |\t 0.527017| \t 12.900000\n",
    "21 \t| 0 \t| 2.190000 |\t 0.464567| \t 2.190000\n",
    "22 \t| 0 \t| 2.860000 |\t 0.524290| \t 2.860000\n",
    "23 \t| 0 \t| 8.050000 |\t 0.511012| \t 8.050000\n",
    "24 \t| 1 \t| 6.270000 |\t 0.465292| \t 9.190000\n",
    "25 \t| 0 \t| 4.920000 |\t 0.469111| \t 4.920000\n",
    "26 \t| 1 \t| 7.220000 |\t 0.440685| \t 10.400000\n",
    "27 \t| 1 \t| 5.980000 |\t 0.478920| \t 8.840000\n",
    "28 \t| 0 \t| 3.810000 |\t 0.482395| \t 3.810000\n",
    "29 \t| 1 \t| 5.530000 |\t 0.604313| \t 8.870000\n",
    "30 \t| 1 \t| 2.920000 |\t 0.429142| \t 4.170000\n",
    "31 \t| 0 \t| 3.610000 |\t 0.412015| \t 3.610000\n",
    "32 \t| 0 \t| 3.340000 |\t 0.411706| \t 3.340000\n",
    "33 \t| 1 \t| 4.900000 |\t 0.539257| \t 7.540000\n",
    "34 \t| 0 \t| 4.690000 |\t 0.641628| \t 4.690000\n",
    "35 \t| 0 \t| 4.500000 |\t 0.500466| \t 4.500000\n",
    "36 \t| 0 \t| 2.860000 |\t 0.313149| \t 2.860000\n",
    "37 \t| 0 \t| 2.160000 |\t 0.611192| \t 2.160000\n",
    "38 \t| 1 \t| 7.010000 |\t 0.558098| \t 10.920000\n",
    "39 \t| 1 \t| 5.880000 |\t 0.499919| \t 8.820000\n",
    "40 \t| 0 \t| 4.090000 |\t 0.265641| \t 4.090000\n",
    "41 \t| 0 \t| 6.510000 |\t 0.536494| \t 6.510000\n",
    "42 \t| 1 \t| 5.410000 |\t 0.430903| \t 7.740000\n",
    "43 \t| 1 \t| 3.590000 |\t 0.540065| \t 5.530000\n",
    "44 \t| 0 \t| 3.010000 |\t 0.485524| \t 3.010000\n",
    "45 \t| 1 \t| 5.380000 |\t 0.378852| \t 7.420000\n",
    "46 \t| 1 \t| 6.690000 |\t 0.368614| \t 9.160000\n",
    "47 \t| 0 \t| 6.940000 |\t 0.309653| \t 6.940000\n",
    "48 \t| 0 \t| 6.300000 |\t 0.547513| \t 6.300000\n",
    "49 \t| 1 \t| 3.060000 |\t 0.659056| \t 5.080000\n",
    "50 \t| 1 \t| 3.760000 |\t 0.497636| \t 5.630000\n"
   ]
  },
  {
   "cell_type": "markdown",
   "id": "60efd388",
   "metadata": {},
   "source": [
    "* Average sales we would expect if we don't accept the wholesaler's deal\n"
   ]
  },
  {
   "cell_type": "code",
   "execution_count": null,
   "id": "d55dc10a",
   "metadata": {},
   "outputs": [],
   "source": []
  },
  {
   "cell_type": "markdown",
   "id": "5b089baa",
   "metadata": {},
   "source": [
    "* The probability of selling more than 6 million (offered deal)\n"
   ]
  },
  {
   "cell_type": "code",
   "execution_count": null,
   "id": "4cea9a88",
   "metadata": {},
   "outputs": [],
   "source": []
  },
  {
   "cell_type": "markdown",
   "id": "86a1ebae",
   "metadata": {},
   "source": [
    "* Is it a good deal. "
   ]
  },
  {
   "cell_type": "code",
   "execution_count": null,
   "id": "d1d6f8e0",
   "metadata": {},
   "outputs": [],
   "source": []
  }
 ],
 "metadata": {
  "kernelspec": {
   "display_name": "Python 3 (ipykernel)",
   "language": "python",
   "name": "python3"
  },
  "language_info": {
   "codemirror_mode": {
    "name": "ipython",
    "version": 3
   },
   "file_extension": ".py",
   "mimetype": "text/x-python",
   "name": "python",
   "nbconvert_exporter": "python",
   "pygments_lexer": "ipython3",
   "version": "3.8.10"
  }
 },
 "nbformat": 4,
 "nbformat_minor": 5
}
