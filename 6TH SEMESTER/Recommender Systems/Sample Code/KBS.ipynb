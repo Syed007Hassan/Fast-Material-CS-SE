{
 "cells": [
  {
   "cell_type": "code",
   "execution_count": 1,
   "id": "0ad5cce8",
   "metadata": {},
   "outputs": [],
   "source": [
    "import pandas as pd\n",
    "import numpy as np\n",
    "from sklearn.metrics.pairwise import cosine_similarity"
   ]
  },
  {
   "cell_type": "code",
   "execution_count": 180,
   "id": "b666a962",
   "metadata": {
    "scrolled": false
   },
   "outputs": [
    {
     "data": {
      "text/html": [
       "<div>\n",
       "<style scoped>\n",
       "    .dataframe tbody tr th:only-of-type {\n",
       "        vertical-align: middle;\n",
       "    }\n",
       "\n",
       "    .dataframe tbody tr th {\n",
       "        vertical-align: top;\n",
       "    }\n",
       "\n",
       "    .dataframe thead th {\n",
       "        text-align: right;\n",
       "    }\n",
       "</style>\n",
       "<table border=\"1\" class=\"dataframe\">\n",
       "  <thead>\n",
       "    <tr style=\"text-align: right;\">\n",
       "      <th></th>\n",
       "      <th>price</th>\n",
       "      <th>mpx</th>\n",
       "      <th>lcd-size</th>\n",
       "      <th>is-waterproof</th>\n",
       "    </tr>\n",
       "  </thead>\n",
       "  <tbody>\n",
       "    <tr>\n",
       "      <th>C1</th>\n",
       "      <td>12.0</td>\n",
       "      <td>8.0</td>\n",
       "      <td>3.0</td>\n",
       "      <td>0.0</td>\n",
       "    </tr>\n",
       "    <tr>\n",
       "      <th>C2</th>\n",
       "      <td>25.0</td>\n",
       "      <td>48.0</td>\n",
       "      <td>4.0</td>\n",
       "      <td>0.0</td>\n",
       "    </tr>\n",
       "    <tr>\n",
       "      <th>C3</th>\n",
       "      <td>55.0</td>\n",
       "      <td>60.0</td>\n",
       "      <td>6.0</td>\n",
       "      <td>1.0</td>\n",
       "    </tr>\n",
       "  </tbody>\n",
       "</table>\n",
       "</div>"
      ],
      "text/plain": [
       "    price   mpx  lcd-size  is-waterproof\n",
       "C1   12.0   8.0       3.0            0.0\n",
       "C2   25.0  48.0       4.0            0.0\n",
       "C3   55.0  60.0       6.0            1.0"
      ]
     },
     "execution_count": 180,
     "metadata": {},
     "output_type": "execute_result"
    }
   ],
   "source": [
    "# knowledge base of cases\n",
    "raw = {'price': [12., 25., 55.], 'mpx': [8., 48., 60.], 'lcd-size': [3., 4., 6.], 'is-waterproof': [0., 0., 1.]}\n",
    "kb = pd.DataFrame(raw, index=['C1', 'C2', 'C3'])\n",
    "kb"
   ]
  },
  {
   "cell_type": "code",
   "execution_count": 181,
   "id": "e17c54c0",
   "metadata": {},
   "outputs": [],
   "source": [
    "def preference():\n",
    "    price = input('Enter your desired price')\n",
    "    mpx = input('Enter desired Megapixels')\n",
    "    lcd_size = input('Enter LCD size')\n",
    "    waterproof = input('Do you need a waterproof camera')\n",
    "    return price, mpx, lcd_size, waterproof"
   ]
  },
  {
   "cell_type": "code",
   "execution_count": 182,
   "id": "43403e7f",
   "metadata": {
    "scrolled": true
   },
   "outputs": [
    {
     "name": "stdout",
     "output_type": "stream",
     "text": [
      "Enter your desired price20\n",
      "Enter desired Megapixels40\n",
      "Enter LCD size5\n",
      "Do you need a waterproof camera0\n"
     ]
    },
    {
     "data": {
      "text/plain": [
       "price         20.0\n",
       "mpx           40.0\n",
       "lcd_size       5.0\n",
       "waterproof     0.0\n",
       "dtype: float64"
      ]
     },
     "execution_count": 182,
     "metadata": {},
     "output_type": "execute_result"
    }
   ],
   "source": [
    "price, mpx, lcd_size, waterproof = preference()\n",
    "user = pd.Series([float(price), float(mpx), float(lcd_size), float(waterproof)], index=['price', 'mpx', 'lcd_size', 'waterproof'])\n",
    "user"
   ]
  },
  {
   "cell_type": "code",
   "execution_count": 183,
   "id": "2fab4202",
   "metadata": {},
   "outputs": [],
   "source": [
    "def normalize(attribute, m, n):\n",
    "    for i in range(n):\n",
    "        attribute[i] = attribute[i] / m\n",
    "    return attribute"
   ]
  },
  {
   "cell_type": "code",
   "execution_count": 184,
   "id": "02d9a006",
   "metadata": {
    "scrolled": false
   },
   "outputs": [
    {
     "data": {
      "text/plain": [
       "price            C1    0.218182\n",
       "C2    0.454545\n",
       "C3    1.000000\n",
       "N...\n",
       "mpx              C1    0.133333\n",
       "C2    0.800000\n",
       "C3    1.000000\n",
       "N...\n",
       "lcd-size         C1    0.428571\n",
       "C2    0.571429\n",
       "C3    0.857143\n",
       "N...\n",
       "is-waterproof    C1    0.0\n",
       "C2    0.0\n",
       "C3    1.0\n",
       "Name: is-waterpr...\n",
       "dtype: object"
      ]
     },
     "execution_count": 184,
     "metadata": {},
     "output_type": "execute_result"
    }
   ],
   "source": [
    "pr = normalize(kb['price'], 55, 3)\n",
    "mp = normalize(kb['mpx'], 60, 3)\n",
    "lcd = normalize(kb['lcd-size'], 7, 3)\n",
    "wp = normalize(kb['is-waterproof'], 1, 3)\n",
    "\n",
    "norm_kb = pd.Series([pr, mp, lcd, wp], index=['price', 'mpx', 'lcd-size', 'is-waterproof'])\n",
    "norm_kb"
   ]
  },
  {
   "cell_type": "code",
   "execution_count": 185,
   "id": "6d773e38",
   "metadata": {},
   "outputs": [
    {
     "data": {
      "text/plain": [
       "0    0.363636\n",
       "1    0.666667\n",
       "2    0.714286\n",
       "3    0.000000\n",
       "dtype: float64"
      ]
     },
     "execution_count": 185,
     "metadata": {},
     "output_type": "execute_result"
    }
   ],
   "source": [
    "price = user['price'] / 55\n",
    "mpx = user['mpx'] / 60\n",
    "lcd_size = user['lcd_size'] / 7\n",
    "waterproof = user['waterproof'] / 1\n",
    "\n",
    "norm_user = pd.Series([price, mpx, lcd_size, waterproof])\n",
    "norm_user"
   ]
  },
  {
   "cell_type": "code",
   "execution_count": 186,
   "id": "4e9ecc66",
   "metadata": {},
   "outputs": [],
   "source": [
    "def item_similarity(user_attribute, item_attribute):\n",
    "    return 1 - (abs(user_attribute - item_attribute))"
   ]
  },
  {
   "cell_type": "code",
   "execution_count": 187,
   "id": "bd02fc0f",
   "metadata": {},
   "outputs": [],
   "source": [
    "# similarity for C1 for demonstration (index = 0 for C1)\n",
    "s1 = item_similarity(price, norm_kb['price'][0])\n",
    "s2 = item_similarity(mpx, norm_kb['mpx'][0])\n",
    "s3 = item_similarity(lcd_size, norm_kb['lcd-size'][0])\n",
    "s4 = item_similarity(waterproof, norm_kb['is-waterproof'][0])\n",
    "item_sim = np.array([s1, s2, s3, s4])\n",
    "\n",
    "w = np.array([1.5, 1., 1., 1.])"
   ]
  },
  {
   "cell_type": "code",
   "execution_count": 188,
   "id": "3df3c334",
   "metadata": {},
   "outputs": [],
   "source": [
    "# similarity of user preference with case\n",
    "def prediction(sims, weights):\n",
    "    \n",
    "    result = 0\n",
    "    \n",
    "    for i in range(4):\n",
    "        result += sims[i] * weights[i]\n",
    "        \n",
    "    result = result / np.sum(abs(weights))\n",
    "    return result"
   ]
  },
  {
   "cell_type": "code",
   "execution_count": 189,
   "id": "9a949ce6",
   "metadata": {},
   "outputs": [
    {
     "name": "stdout",
     "output_type": "stream",
     "text": [
      "0.7695045695045695\n"
     ]
    }
   ],
   "source": [
    "similarity = prediction(item_sim, w)\n",
    "print(similarity)"
   ]
  },
  {
   "cell_type": "code",
   "execution_count": null,
   "id": "7f2fce46",
   "metadata": {},
   "outputs": [],
   "source": []
  }
 ],
 "metadata": {
  "kernelspec": {
   "display_name": "Python 3 (ipykernel)",
   "language": "python",
   "name": "python3"
  },
  "language_info": {
   "codemirror_mode": {
    "name": "ipython",
    "version": 3
   },
   "file_extension": ".py",
   "mimetype": "text/x-python",
   "name": "python",
   "nbconvert_exporter": "python",
   "pygments_lexer": "ipython3",
   "version": "3.7.9"
  }
 },
 "nbformat": 4,
 "nbformat_minor": 5
}
