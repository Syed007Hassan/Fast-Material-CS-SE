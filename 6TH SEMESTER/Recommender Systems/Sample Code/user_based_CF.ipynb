{
 "cells": [
  {
   "cell_type": "markdown",
   "id": "3425abdf",
   "metadata": {},
   "source": [
    "<h2 style=\"color:maroon\">CS-4053 Recommender Systems</h2>\n",
    "<h4 style=\"color:navy blue\">Course Instructor : Syed Zain Ul Hassan</h4>\n",
    "<p>Description: A sample implementation of User-based Collaborative Filtering</p>"
   ]
  },
  {
   "cell_type": "code",
   "execution_count": 317,
   "id": "4cc335cc",
   "metadata": {},
   "outputs": [],
   "source": [
    "import pandas as pd\n",
    "import numpy as np\n",
    "from sklearn.metrics.pairwise import cosine_similarity"
   ]
  },
  {
   "cell_type": "code",
   "execution_count": 318,
   "id": "de51429c",
   "metadata": {
    "scrolled": false
   },
   "outputs": [
    {
     "data": {
      "text/html": [
       "<div>\n",
       "<style scoped>\n",
       "    .dataframe tbody tr th:only-of-type {\n",
       "        vertical-align: middle;\n",
       "    }\n",
       "\n",
       "    .dataframe tbody tr th {\n",
       "        vertical-align: top;\n",
       "    }\n",
       "\n",
       "    .dataframe thead th {\n",
       "        text-align: right;\n",
       "    }\n",
       "</style>\n",
       "<table border=\"1\" class=\"dataframe\">\n",
       "  <thead>\n",
       "    <tr style=\"text-align: right;\">\n",
       "      <th></th>\n",
       "      <th>Item 0</th>\n",
       "      <th>Item 1</th>\n",
       "      <th>Item 2</th>\n",
       "    </tr>\n",
       "  </thead>\n",
       "  <tbody>\n",
       "    <tr>\n",
       "      <th>User 0</th>\n",
       "      <td>NaN</td>\n",
       "      <td>4</td>\n",
       "      <td>1</td>\n",
       "    </tr>\n",
       "    <tr>\n",
       "      <th>User 1</th>\n",
       "      <td>4.0</td>\n",
       "      <td>5</td>\n",
       "      <td>2</td>\n",
       "    </tr>\n",
       "    <tr>\n",
       "      <th>User 2</th>\n",
       "      <td>1.0</td>\n",
       "      <td>5</td>\n",
       "      <td>3</td>\n",
       "    </tr>\n",
       "    <tr>\n",
       "      <th>User 4</th>\n",
       "      <td>2.0</td>\n",
       "      <td>1</td>\n",
       "      <td>2</td>\n",
       "    </tr>\n",
       "    <tr>\n",
       "      <th>User 5</th>\n",
       "      <td>4.0</td>\n",
       "      <td>3</td>\n",
       "      <td>5</td>\n",
       "    </tr>\n",
       "  </tbody>\n",
       "</table>\n",
       "</div>"
      ],
      "text/plain": [
       "        Item 0  Item 1  Item 2\n",
       "User 0     NaN       4       1\n",
       "User 1     4.0       5       2\n",
       "User 2     1.0       5       3\n",
       "User 4     2.0       1       2\n",
       "User 5     4.0       3       5"
      ]
     },
     "execution_count": 318,
     "metadata": {},
     "output_type": "execute_result"
    }
   ],
   "source": [
    "#raw interaction data\n",
    "data = {'Item 0': [float('nan'), 4, 1, 2, 4], 'Item 1': [4, 5, 5, 1, 3], 'Item 2': [1, 2, 3, 2, 5]}\n",
    "data = pd.DataFrame(data, index=['User 0', 'User 1', 'User 2', 'User 4', 'User 5'])\n",
    "\n",
    "data"
   ]
  },
  {
   "cell_type": "code",
   "execution_count": 319,
   "id": "1f47409d",
   "metadata": {
    "scrolled": true
   },
   "outputs": [
    {
     "data": {
      "text/html": [
       "<div>\n",
       "<style scoped>\n",
       "    .dataframe tbody tr th:only-of-type {\n",
       "        vertical-align: middle;\n",
       "    }\n",
       "\n",
       "    .dataframe tbody tr th {\n",
       "        vertical-align: top;\n",
       "    }\n",
       "\n",
       "    .dataframe thead th {\n",
       "        text-align: right;\n",
       "    }\n",
       "</style>\n",
       "<table border=\"1\" class=\"dataframe\">\n",
       "  <thead>\n",
       "    <tr style=\"text-align: right;\">\n",
       "      <th></th>\n",
       "      <th>0</th>\n",
       "      <th>1</th>\n",
       "      <th>2</th>\n",
       "      <th>3</th>\n",
       "      <th>4</th>\n",
       "    </tr>\n",
       "  </thead>\n",
       "  <tbody>\n",
       "    <tr>\n",
       "      <th>0</th>\n",
       "      <td>1.000000</td>\n",
       "      <td>0.990830</td>\n",
       "      <td>0.956674</td>\n",
       "      <td>0.650791</td>\n",
       "      <td>0.707107</td>\n",
       "    </tr>\n",
       "    <tr>\n",
       "      <th>1</th>\n",
       "      <td>0.990830</td>\n",
       "      <td>1.000000</td>\n",
       "      <td>0.987241</td>\n",
       "      <td>0.747409</td>\n",
       "      <td>0.796162</td>\n",
       "    </tr>\n",
       "    <tr>\n",
       "      <th>2</th>\n",
       "      <td>0.956674</td>\n",
       "      <td>0.987241</td>\n",
       "      <td>1.000000</td>\n",
       "      <td>0.843661</td>\n",
       "      <td>0.882353</td>\n",
       "    </tr>\n",
       "    <tr>\n",
       "      <th>3</th>\n",
       "      <td>0.650791</td>\n",
       "      <td>0.747409</td>\n",
       "      <td>0.843661</td>\n",
       "      <td>1.000000</td>\n",
       "      <td>0.997054</td>\n",
       "    </tr>\n",
       "    <tr>\n",
       "      <th>4</th>\n",
       "      <td>0.707107</td>\n",
       "      <td>0.796162</td>\n",
       "      <td>0.882353</td>\n",
       "      <td>0.997054</td>\n",
       "      <td>1.000000</td>\n",
       "    </tr>\n",
       "  </tbody>\n",
       "</table>\n",
       "</div>"
      ],
      "text/plain": [
       "          0         1         2         3         4\n",
       "0  1.000000  0.990830  0.956674  0.650791  0.707107\n",
       "1  0.990830  1.000000  0.987241  0.747409  0.796162\n",
       "2  0.956674  0.987241  1.000000  0.843661  0.882353\n",
       "3  0.650791  0.747409  0.843661  1.000000  0.997054\n",
       "4  0.707107  0.796162  0.882353  0.997054  1.000000"
      ]
     },
     "execution_count": 319,
     "metadata": {},
     "output_type": "execute_result"
    }
   ],
   "source": [
    "#finding similarity between all users\n",
    "matrix = data.dropna(axis=1)\n",
    "u = 0 #active user\n",
    "i = 0 #item to be rated\n",
    "\n",
    "similarity_matrix = pd.DataFrame(cosine_similarity(matrix))\n",
    "similarity_matrix"
   ]
  },
  {
   "cell_type": "code",
   "execution_count": 320,
   "id": "d8d1177d",
   "metadata": {},
   "outputs": [],
   "source": [
    "# function to find k most similar users\n",
    "def find_similar_users(k, user, item, matrix):\n",
    "    \n",
    "    # Adjusting k\n",
    "    k += 1\n",
    "    # finding similarity between all pair of users\n",
    "    similarity_matrix = pd.DataFrame(cosine_similarity(matrix))  \n",
    "    # focusing only on active user\n",
    "    similarity_scores = np.array(similarity_matrix.loc[u])\n",
    "    # sorting and finding k most similar users\n",
    "    similar_users= np.array((-similarity_scores).argsort()[:k])\n",
    "    # ignoring similarity of active user with himself\n",
    "    similar_users = np.delete(similar_users, u)\n",
    "    \n",
    "    return similar_users, similarity_scores[similar_users]"
   ]
  },
  {
   "cell_type": "code",
   "execution_count": 321,
   "id": "78fd62b4",
   "metadata": {},
   "outputs": [
    {
     "name": "stdout",
     "output_type": "stream",
     "text": [
      "k most similar users: [1 2]\n",
      "Similarity scores of similar users : [0.99083017 0.95667388]\n",
      "Raw ratings of similar users for Item 0 : [4. 1.]\n"
     ]
    }
   ],
   "source": [
    "# k most similar users\n",
    "k = 2\n",
    "user = 0\n",
    "item = 0\n",
    "\n",
    "users, scores = find_similar_users(k, u, i, matrix)\n",
    "ratings = data.iloc[users]\n",
    "ratings = np.array(ratings.iloc[:, 0])\n",
    "\n",
    "print('k most similar users: ' + str(users))\n",
    "print('Similarity scores of similar users : ' + str(scores))\n",
    "print('Raw ratings of similar users for Item ' +str(0) + ' : ' + str(ratings))"
   ]
  },
  {
   "cell_type": "code",
   "execution_count": 322,
   "id": "ac078440",
   "metadata": {},
   "outputs": [],
   "source": [
    "# simple prediction function\n",
    "def prediction(ratings, scores):\n",
    "    \n",
    "    result = 0\n",
    "    denom = 0\n",
    "    \n",
    "    for i in range(k):\n",
    "        result += scores[i] * ratings[i]\n",
    "        \n",
    "    result = result / np.sum(abs(scores))\n",
    "    return result"
   ]
  },
  {
   "cell_type": "code",
   "execution_count": 323,
   "id": "efd7e523",
   "metadata": {
    "scrolled": true
   },
   "outputs": [
    {
     "name": "stdout",
     "output_type": "stream",
     "text": [
      "Predicted Rating for Item 0 is : 2\n"
     ]
    }
   ],
   "source": [
    "# Predicting a rating and rounding-off\n",
    "predicted_rating = int(prediction(ratings, scores))\n",
    "print(\"Predicted Rating for Item \" + str(item) + ' is : '  + str(predicted_rating))"
   ]
  },
  {
   "cell_type": "markdown",
   "id": "8c25c724",
   "metadata": {},
   "source": [
    "<h3 style=\"color:maroon\">Tasks to do next: </h3>\n",
    "<p>Write a function to implement mean-centered predictions </br>\n",
    "   Write a function to find similar users based on Pearson Correlation </br>\n",
    "   Try to finish these tasks soon after Mid-term I\n",
    "   </p>"
   ]
  },
  {
   "cell_type": "code",
   "execution_count": null,
   "id": "097228af",
   "metadata": {},
   "outputs": [],
   "source": []
  }
 ],
 "metadata": {
  "kernelspec": {
   "display_name": "Python 3 (ipykernel)",
   "language": "python",
   "name": "python3"
  },
  "language_info": {
   "codemirror_mode": {
    "name": "ipython",
    "version": 3
   },
   "file_extension": ".py",
   "mimetype": "text/x-python",
   "name": "python",
   "nbconvert_exporter": "python",
   "pygments_lexer": "ipython3",
   "version": "3.10.0"
  }
 },
 "nbformat": 4,
 "nbformat_minor": 5
}
