{
 "cells": [
  {
   "cell_type": "code",
   "execution_count": 4,
   "id": "99b02390",
   "metadata": {
    "scrolled": false
   },
   "outputs": [],
   "source": [
    "#from matrix_factorization import BaselineModel, KernelMF, train_update_test_split"
   ]
  },
  {
   "cell_type": "code",
   "execution_count": 5,
   "id": "2bd186ce",
   "metadata": {},
   "outputs": [],
   "source": [
    "#import pandas as pd\n",
    "#from sklearn.metrics import mean_squared_error"
   ]
  },
  {
   "cell_type": "code",
   "execution_count": 39,
   "id": "8e33e66b",
   "metadata": {},
   "outputs": [],
   "source": [
    "from matrix_factorization import BaselineModel, KernelMF, train_update_test_split\n",
    "\n",
    "import pandas as pd\n",
    "from sklearn.metrics import mean_squared_error"
   ]
  },
  {
   "cell_type": "code",
   "execution_count": 46,
   "id": "7f5ec056",
   "metadata": {},
   "outputs": [
    {
     "data": {
      "text/html": [
       "<div>\n",
       "<style scoped>\n",
       "    .dataframe tbody tr th:only-of-type {\n",
       "        vertical-align: middle;\n",
       "    }\n",
       "\n",
       "    .dataframe tbody tr th {\n",
       "        vertical-align: top;\n",
       "    }\n",
       "\n",
       "    .dataframe thead th {\n",
       "        text-align: right;\n",
       "    }\n",
       "</style>\n",
       "<table border=\"1\" class=\"dataframe\">\n",
       "  <thead>\n",
       "    <tr style=\"text-align: right;\">\n",
       "      <th></th>\n",
       "      <th>user_id</th>\n",
       "      <th>item_id</th>\n",
       "      <th>rating</th>\n",
       "    </tr>\n",
       "  </thead>\n",
       "  <tbody>\n",
       "    <tr>\n",
       "      <th>0</th>\n",
       "      <td>196</td>\n",
       "      <td>242</td>\n",
       "      <td>3</td>\n",
       "    </tr>\n",
       "    <tr>\n",
       "      <th>1</th>\n",
       "      <td>186</td>\n",
       "      <td>302</td>\n",
       "      <td>3</td>\n",
       "    </tr>\n",
       "    <tr>\n",
       "      <th>2</th>\n",
       "      <td>22</td>\n",
       "      <td>377</td>\n",
       "      <td>1</td>\n",
       "    </tr>\n",
       "    <tr>\n",
       "      <th>3</th>\n",
       "      <td>244</td>\n",
       "      <td>51</td>\n",
       "      <td>2</td>\n",
       "    </tr>\n",
       "    <tr>\n",
       "      <th>4</th>\n",
       "      <td>166</td>\n",
       "      <td>346</td>\n",
       "      <td>1</td>\n",
       "    </tr>\n",
       "  </tbody>\n",
       "</table>\n",
       "</div>"
      ],
      "text/plain": [
       "   user_id  item_id  rating\n",
       "0      196      242       3\n",
       "1      186      302       3\n",
       "2       22      377       1\n",
       "3      244       51       2\n",
       "4      166      346       1"
      ]
     },
     "execution_count": 46,
     "metadata": {},
     "output_type": "execute_result"
    }
   ],
   "source": [
    "cols = [\"user_id\", \"item_id\", \"rating\", \"timestamp\"]\n",
    "movie_data = pd.read_csv(\"dataset//ml-100k//u.data\", names=cols, sep=\"\\t\", usecols=[0, 1, 2], engine=\"python\")\n",
    "movie_data.head()"
   ]
  },
  {
   "cell_type": "code",
   "execution_count": 45,
   "id": "218653b4",
   "metadata": {},
   "outputs": [],
   "source": [
    "X = movie_data[[\"user_id\", \"item_id\"]]\n",
    "y = movie_data[\"rating\"]"
   ]
  },
  {
   "cell_type": "code",
   "execution_count": 47,
   "id": "f8382d3f",
   "metadata": {},
   "outputs": [],
   "source": [
    "(X_train_initial, y_train_initial, X_train_update, y_train_update, X_test_update, y_test_update,) = train_update_test_split(movie_data, frac_new_users=0.2)"
   ]
  },
  {
   "cell_type": "code",
   "execution_count": 48,
   "id": "efd933d2",
   "metadata": {},
   "outputs": [
    {
     "name": "stdout",
     "output_type": "stream",
     "text": [
      "Epoch  1 / 20  -  train_rmse: 1.0725927766143106\n",
      "Epoch  2 / 20  -  train_rmse: 1.040623953759531\n",
      "Epoch  3 / 20  -  train_rmse: 1.0187355658790587\n",
      "Epoch  4 / 20  -  train_rmse: 1.0025140348314663\n",
      "Epoch  5 / 20  -  train_rmse: 0.9898493567915073\n",
      "Epoch  6 / 20  -  train_rmse: 0.9795617382547914\n",
      "Epoch  7 / 20  -  train_rmse: 0.9709289969865649\n",
      "Epoch  8 / 20  -  train_rmse: 0.9635089746682869\n",
      "Epoch  9 / 20  -  train_rmse: 0.9569993688554654\n",
      "Epoch  10 / 20  -  train_rmse: 0.9511890258963874\n",
      "Epoch  11 / 20  -  train_rmse: 0.9459197381170971\n",
      "Epoch  12 / 20  -  train_rmse: 0.9410818968990642\n",
      "Epoch  13 / 20  -  train_rmse: 0.9365892435693303\n",
      "Epoch  14 / 20  -  train_rmse: 0.932383268369393\n",
      "Epoch  15 / 20  -  train_rmse: 0.9284121144970989\n",
      "Epoch  16 / 20  -  train_rmse: 0.9246409441931436\n",
      "Epoch  17 / 20  -  train_rmse: 0.9210327418684287\n",
      "Epoch  18 / 20  -  train_rmse: 0.9175639603159872\n",
      "Epoch  19 / 20  -  train_rmse: 0.9142111066060512\n",
      "Epoch  20 / 20  -  train_rmse: 0.9109588059477897\n"
     ]
    },
    {
     "data": {
      "text/plain": [
       "KernelMF(gamma=0.01, lr=0.001, n_epochs=20, reg=0.005)"
      ]
     },
     "execution_count": 48,
     "metadata": {},
     "output_type": "execute_result"
    }
   ],
   "source": [
    "matrix_fact = KernelMF(n_epochs=20, n_factors=100, verbose=1, lr=0.001, reg=0.005)\n",
    "matrix_fact.fit(X_train_initial, y_train_initial)"
   ]
  },
  {
   "cell_type": "code",
   "execution_count": 49,
   "id": "5ee3def3",
   "metadata": {},
   "outputs": [
    {
     "name": "stdout",
     "output_type": "stream",
     "text": [
      "Epoch  1 / 20  -  train_rmse: 1.0209871640572334\n",
      "Epoch  2 / 20  -  train_rmse: 1.003550742327728\n",
      "Epoch  3 / 20  -  train_rmse: 0.9902572019629703\n",
      "Epoch  4 / 20  -  train_rmse: 0.9799305592194609\n",
      "Epoch  5 / 20  -  train_rmse: 0.9717377997107324\n",
      "Epoch  6 / 20  -  train_rmse: 0.9650802712144465\n",
      "Epoch  7 / 20  -  train_rmse: 0.9595501851582049\n",
      "Epoch  8 / 20  -  train_rmse: 0.9548920274322107\n",
      "Epoch  9 / 20  -  train_rmse: 0.9508785179643884\n",
      "Epoch  10 / 20  -  train_rmse: 0.947379152241424\n",
      "Epoch  11 / 20  -  train_rmse: 0.9442513145530653\n",
      "Epoch  12 / 20  -  train_rmse: 0.941451945624728\n",
      "Epoch  13 / 20  -  train_rmse: 0.9389004915549736\n",
      "Epoch  14 / 20  -  train_rmse: 0.9365577672529876\n",
      "Epoch  15 / 20  -  train_rmse: 0.9343870281102848\n",
      "Epoch  16 / 20  -  train_rmse: 0.9323568749780572\n",
      "Epoch  17 / 20  -  train_rmse: 0.9304507105310967\n",
      "Epoch  18 / 20  -  train_rmse: 0.9286499859720433\n",
      "Epoch  19 / 20  -  train_rmse: 0.9269369477759881\n",
      "Epoch  20 / 20  -  train_rmse: 0.925302646773206\n"
     ]
    }
   ],
   "source": [
    "matrix_fact.update_users(X_train_update, y_train_update, lr=0.001, n_epochs=20, verbose=1)"
   ]
  },
  {
   "cell_type": "code",
   "execution_count": 50,
   "id": "53c9957d",
   "metadata": {},
   "outputs": [
    {
     "name": "stdout",
     "output_type": "stream",
     "text": [
      "\n",
      "Test RMSE: 0.9700\n"
     ]
    }
   ],
   "source": [
    "pred = matrix_fact.predict(X_test_update)\n",
    "rmse = mean_squared_error(y_test_update, pred, squared=False)\n",
    "print(f\"\\nTest RMSE: {rmse:.4f}\")"
   ]
  },
  {
   "cell_type": "code",
   "execution_count": 51,
   "id": "1bac675d",
   "metadata": {},
   "outputs": [
    {
     "data": {
      "text/html": [
       "<div>\n",
       "<style scoped>\n",
       "    .dataframe tbody tr th:only-of-type {\n",
       "        vertical-align: middle;\n",
       "    }\n",
       "\n",
       "    .dataframe tbody tr th {\n",
       "        vertical-align: top;\n",
       "    }\n",
       "\n",
       "    .dataframe thead th {\n",
       "        text-align: right;\n",
       "    }\n",
       "</style>\n",
       "<table border=\"1\" class=\"dataframe\">\n",
       "  <thead>\n",
       "    <tr style=\"text-align: right;\">\n",
       "      <th></th>\n",
       "      <th>user_id</th>\n",
       "      <th>item_id</th>\n",
       "      <th>rating_pred</th>\n",
       "    </tr>\n",
       "  </thead>\n",
       "  <tbody>\n",
       "    <tr>\n",
       "      <th>298</th>\n",
       "      <td>200</td>\n",
       "      <td>318</td>\n",
       "      <td>4.909122</td>\n",
       "    </tr>\n",
       "    <tr>\n",
       "      <th>467</th>\n",
       "      <td>200</td>\n",
       "      <td>483</td>\n",
       "      <td>4.898216</td>\n",
       "    </tr>\n",
       "    <tr>\n",
       "      <th>152</th>\n",
       "      <td>200</td>\n",
       "      <td>191</td>\n",
       "      <td>4.840737</td>\n",
       "    </tr>\n",
       "    <tr>\n",
       "      <th>164</th>\n",
       "      <td>200</td>\n",
       "      <td>100</td>\n",
       "      <td>4.830592</td>\n",
       "    </tr>\n",
       "    <tr>\n",
       "      <th>742</th>\n",
       "      <td>200</td>\n",
       "      <td>223</td>\n",
       "      <td>4.830540</td>\n",
       "    </tr>\n",
       "    <tr>\n",
       "      <th>321</th>\n",
       "      <td>200</td>\n",
       "      <td>357</td>\n",
       "      <td>4.829637</td>\n",
       "    </tr>\n",
       "    <tr>\n",
       "      <th>125</th>\n",
       "      <td>200</td>\n",
       "      <td>98</td>\n",
       "      <td>4.824308</td>\n",
       "    </tr>\n",
       "    <tr>\n",
       "      <th>424</th>\n",
       "      <td>200</td>\n",
       "      <td>48</td>\n",
       "      <td>4.819680</td>\n",
       "    </tr>\n",
       "    <tr>\n",
       "      <th>99</th>\n",
       "      <td>200</td>\n",
       "      <td>127</td>\n",
       "      <td>4.812177</td>\n",
       "    </tr>\n",
       "    <tr>\n",
       "      <th>20</th>\n",
       "      <td>200</td>\n",
       "      <td>603</td>\n",
       "      <td>4.784806</td>\n",
       "    </tr>\n",
       "  </tbody>\n",
       "</table>\n",
       "</div>"
      ],
      "text/plain": [
       "     user_id  item_id  rating_pred\n",
       "298      200      318     4.909122\n",
       "467      200      483     4.898216\n",
       "152      200      191     4.840737\n",
       "164      200      100     4.830592\n",
       "742      200      223     4.830540\n",
       "321      200      357     4.829637\n",
       "125      200       98     4.824308\n",
       "424      200       48     4.819680\n",
       "99       200      127     4.812177\n",
       "20       200      603     4.784806"
      ]
     },
     "execution_count": 51,
     "metadata": {},
     "output_type": "execute_result"
    }
   ],
   "source": [
    "user = 200\n",
    "items_known = X_train_initial.query(\"user_id == @user\")[\"item_id\"]\n",
    "matrix_fact.recommend(user=user, items_known=items_known)"
   ]
  },
  {
   "cell_type": "code",
   "execution_count": null,
   "id": "31750e3c",
   "metadata": {},
   "outputs": [],
   "source": []
  }
 ],
 "metadata": {
  "kernelspec": {
   "display_name": "Python 3 (ipykernel)",
   "language": "python",
   "name": "python3"
  },
  "language_info": {
   "codemirror_mode": {
    "name": "ipython",
    "version": 3
   },
   "file_extension": ".py",
   "mimetype": "text/x-python",
   "name": "python",
   "nbconvert_exporter": "python",
   "pygments_lexer": "ipython3",
   "version": "3.7.9"
  }
 },
 "nbformat": 4,
 "nbformat_minor": 5
}
