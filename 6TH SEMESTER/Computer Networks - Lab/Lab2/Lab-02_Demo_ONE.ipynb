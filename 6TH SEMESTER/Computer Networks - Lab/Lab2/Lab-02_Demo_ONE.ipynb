{
 "cells": [
  {
   "cell_type": "code",
   "execution_count": 1,
   "metadata": {},
   "outputs": [],
   "source": [
    "import socket"
   ]
  },
  {
   "cell_type": "code",
   "execution_count": 2,
   "metadata": {},
   "outputs": [],
   "source": [
    "hostname = socket.gethostname()"
   ]
  },
  {
   "cell_type": "code",
   "execution_count": 3,
   "metadata": {},
   "outputs": [],
   "source": [
    "ip_address = socket.gethostbyname(hostname)"
   ]
  },
  {
   "cell_type": "code",
   "execution_count": 4,
   "metadata": {},
   "outputs": [
    {
     "name": "stdout",
     "output_type": "stream",
     "text": [
      "Hostname : DESKTOP-M48QNC4\n"
     ]
    }
   ],
   "source": [
    "print (f\"Hostname : {hostname}\")"
   ]
  },
  {
   "cell_type": "code",
   "execution_count": 5,
   "metadata": {},
   "outputs": [
    {
     "name": "stdout",
     "output_type": "stream",
     "text": [
      "IP Address : 172.16.33.139\n"
     ]
    }
   ],
   "source": [
    "print (f\"IP Address : {ip_address}\")"
   ]
  },
  {
   "cell_type": "code",
   "execution_count": 9,
   "metadata": {},
   "outputs": [],
   "source": [
    "ip_address = socket.gethostbyname('facebook.com')"
   ]
  },
  {
   "cell_type": "code",
   "execution_count": 8,
   "metadata": {},
   "outputs": [
    {
     "name": "stdout",
     "output_type": "stream",
     "text": [
      "IP Address : 74.6.231.21\n"
     ]
    }
   ],
   "source": [
    "print (f\"IP Address : {ip_address}\")"
   ]
  },
  {
   "cell_type": "code",
   "execution_count": 16,
   "metadata": {},
   "outputs": [
    {
     "name": "stdout",
     "output_type": "stream",
     "text": [
      "IP Address : 98.137.11.163\n"
     ]
    }
   ],
   "source": [
    "ip_address = socket.gethostbyname('yahoo.com')\n",
    "print (f\"IP Address : {ip_address}\")"
   ]
  },
  {
   "cell_type": "code",
   "execution_count": 17,
   "metadata": {},
   "outputs": [
    {
     "name": "stdout",
     "output_type": "stream",
     "text": [
      "IP Address : ('dns.google', [], ['8.8.8.8'])\n"
     ]
    }
   ],
   "source": [
    "Hostname = socket.gethostbyaddr('8.8.8.8')\n",
    "print (f\"IP Address : {Hostname}\")"
   ]
  },
  {
   "cell_type": "code",
   "execution_count": 18,
   "metadata": {},
   "outputs": [
    {
     "name": "stdout",
     "output_type": "stream",
     "text": [
      "IP Address : ('media-router-fp74.prod.media.vip.gq1.yahoo.com', [], ['98.137.11.163'])\n"
     ]
    }
   ],
   "source": [
    "Hostname = socket.gethostbyaddr('98.137.11.163')\n",
    "print (f\"IP Address : {Hostname}\")"
   ]
  },
  {
   "cell_type": "code",
   "execution_count": 30,
   "metadata": {},
   "outputs": [
    {
     "name": "stdout",
     "output_type": "stream",
     "text": [
      "Port :80 => Service Name: http\n",
      "Port :25 => Service Name: smtp\n",
      "Port :53 => Service Name: domain\n"
     ]
    }
   ],
   "source": [
    "import socket\n",
    "def find_service_name():\n",
    "    protocolname = 'tcp'\n",
    "    for port in [80,25]:\n",
    "        print(\"Port :%s => Service Name: %s\" %(port,socket.getservbyport(port,protocolname)))\n",
    "    print(\"Port :%s => Service Name: %s\" %(53,socket.getservbyport(53,'udp')))\n",
    "    \n",
    "if __name__ == '__main__':\n",
    "    find_service_name()"
   ]
  },
  {
   "cell_type": "code",
   "execution_count": null,
   "metadata": {},
   "outputs": [],
   "source": []
  }
 ],
 "metadata": {
  "kernelspec": {
   "display_name": "Python 3",
   "language": "python",
   "name": "python3"
  },
  "language_info": {
   "codemirror_mode": {
    "name": "ipython",
    "version": 3
   },
   "file_extension": ".py",
   "mimetype": "text/x-python",
   "name": "python",
   "nbconvert_exporter": "python",
   "pygments_lexer": "ipython3",
   "version": "3.7.4"
  }
 },
 "nbformat": 4,
 "nbformat_minor": 2
}
