{
 "cells": [
  {
   "cell_type": "markdown",
   "metadata": {},
   "source": [
    "### 1. \tWrite a Python script to print a dictionary (name: dict1) where the keys are numbers between 1 and 10 (both included) and the values are square of keys."
   ]
  },
  {
   "cell_type": "code",
   "execution_count": 1,
   "metadata": {},
   "outputs": [
    {
     "data": {
      "text/plain": [
       "{1: 1, 2: 4, 3: 9, 4: 16, 5: 25, 6: 36, 7: 49, 8: 64, 9: 81, 10: 100}"
      ]
     },
     "execution_count": 1,
     "metadata": {},
     "output_type": "execute_result"
    }
   ],
   "source": [
    "dict1 = {x: x**2 for x in range(1, 11)}\n",
    "dict1\n"
   ]
  },
  {
   "cell_type": "markdown",
   "metadata": {},
   "source": [
    "### 2.\tBelow are the two list convert it into a dictionary (name: dict2).\n",
    "Keys = [‘One’, ‘Two’, ‘Three’, ‘Four’, ‘Five’]\n",
    "Values = [10, 20, 30, 40, 50 ]\n"
   ]
  },
  {
   "cell_type": "code",
   "execution_count": 2,
   "metadata": {},
   "outputs": [
    {
     "data": {
      "text/plain": [
       "{'One': '10', 'Two': '20', 'Three': '30', 'Four': '40', 'Five': 50}"
      ]
     },
     "execution_count": 2,
     "metadata": {},
     "output_type": "execute_result"
    }
   ],
   "source": [
    "dict2 = { 'One' : '10', 'Two' : '20', 'Three' : '30', 'Four' : '40', 'Five' : 50 }\n",
    "dict2"
   ]
  },
  {
   "cell_type": "markdown",
   "metadata": {},
   "source": [
    "### 3.\tMerge above two Python dictionaries (dict1 and dict2) into one (name: dict_merg)."
   ]
  },
  {
   "cell_type": "code",
   "execution_count": 3,
   "metadata": {},
   "outputs": [
    {
     "data": {
      "text/plain": [
       "{1: 1,\n",
       " 2: 4,\n",
       " 3: 9,\n",
       " 4: 16,\n",
       " 5: 25,\n",
       " 6: 36,\n",
       " 7: 49,\n",
       " 8: 64,\n",
       " 9: 81,\n",
       " 10: 100,\n",
       " 'One': '10',\n",
       " 'Two': '20',\n",
       " 'Three': '30',\n",
       " 'Four': '40',\n",
       " 'Five': 50}"
      ]
     },
     "execution_count": 3,
     "metadata": {},
     "output_type": "execute_result"
    }
   ],
   "source": [
    "dict_merge = {**dict1 , **dict2}\n",
    "dict_merge"
   ]
  },
  {
   "cell_type": "markdown",
   "metadata": {},
   "source": [
    "### 4.\tConsidering a dictionary (dict1), write a Python script to check whether a given key (taking as any input) already exists in a dictionary or not (use if/else conditions).\n",
    "### Output will be like:\n",
    "### Key is present in the dictionary OR Key is not present in the dictionary.\n"
   ]
  },
  {
   "cell_type": "code",
   "execution_count": 4,
   "metadata": {},
   "outputs": [
    {
     "name": "stdout",
     "output_type": "stream",
     "text": [
      "Enter the key to be searched: Ali\n",
      "Key is present in the dictionary\n"
     ]
    }
   ],
   "source": [
    "dict4 = {'Ali':2001, 'Imran':1996, 'Haseeb':1965, 'Simrah':1985}\n",
    " \n",
    "key = input(\"Enter the key to be searched: \")\n",
    " \n",
    "if key in dict4:\n",
    "    print(\"Key is present in the dictionary\")\n",
    "else:\n",
    "    print(\"Key is not present in the dictionary\")"
   ]
  },
  {
   "cell_type": "markdown",
   "metadata": {},
   "source": [
    "### 5.\tCreate a new dictionary by extracting the following keys from a given dictionary sample\n",
    "### Dict = {   \"name\": \"Kelly\",   \"age\":25,   \"salary\": 8000,   \"city\": \"New york\" }\n",
    "### Keys to extract: keys = [‘name’, ‘salary’]\n",
    "### Expected output: {'name': 'Kelly', 'salary': 8000}\n"
   ]
  },
  {
   "cell_type": "code",
   "execution_count": 5,
   "metadata": {},
   "outputs": [
    {
     "data": {
      "text/plain": [
       "{'name': 'Kelly', 'age': 25, 'salary': 8000, 'city': 'New york'}"
      ]
     },
     "execution_count": 5,
     "metadata": {},
     "output_type": "execute_result"
    }
   ],
   "source": [
    "dict5 = { \"name\": \"Kelly\", \"age\":25,\"salary\": 8000,\"city\": \"New york\" }\n",
    "dict5\n"
   ]
  },
  {
   "cell_type": "code",
   "execution_count": 6,
   "metadata": {},
   "outputs": [
    {
     "name": "stdout",
     "output_type": "stream",
     "text": [
      "{'name': 'Kelly', 'salary': 8000}\n"
     ]
    }
   ],
   "source": [
    "res = dict((k, dict5[k]) for k in ['name', 'salary'] if k in dict5)\n",
    "print(str(res))"
   ]
  },
  {
   "cell_type": "markdown",
   "metadata": {},
   "source": [
    "### 6.\tDelete set of keys from Python Dictionary and keys To Remove = [\"name\", \"salary\"]"
   ]
  },
  {
   "cell_type": "code",
   "execution_count": 43,
   "metadata": {},
   "outputs": [
    {
     "data": {
      "text/plain": [
       "{'age': 25, 'city': 'New york'}"
      ]
     },
     "execution_count": 43,
     "metadata": {},
     "output_type": "execute_result"
    }
   ],
   "source": [
    "dict5.pop(\"salary\",\"name\")\n",
    "dict5\n"
   ]
  },
  {
   "cell_type": "markdown",
   "metadata": {},
   "source": [
    "### 7.\tDisplay the cube of the number up to a given integer."
   ]
  },
  {
   "cell_type": "code",
   "execution_count": 44,
   "metadata": {},
   "outputs": [
    {
     "name": "stdout",
     "output_type": "stream",
     "text": [
      "1\n",
      "8\n",
      "27\n",
      "64\n",
      "125\n",
      "216\n",
      "343\n",
      "512\n"
     ]
    }
   ],
   "source": [
    "n=1\n",
    "while n<=8:\n",
    "    j=n**3\n",
    "    print(j)\n",
    "    n=n+1"
   ]
  },
  {
   "cell_type": "markdown",
   "metadata": {},
   "source": [
    "### 8.\tDisplay -10 to -1 using for loop."
   ]
  },
  {
   "cell_type": "code",
   "execution_count": 45,
   "metadata": {},
   "outputs": [
    {
     "data": {
      "text/plain": [
       "range(-10, 0)"
      ]
     },
     "execution_count": 45,
     "metadata": {},
     "output_type": "execute_result"
    }
   ],
   "source": [
    "range(-10,0)"
   ]
  },
  {
   "cell_type": "code",
   "execution_count": 51,
   "metadata": {},
   "outputs": [
    {
     "name": "stdout",
     "output_type": "stream",
     "text": [
      "-10\n",
      "-9\n",
      "-8\n",
      "-7\n",
      "-6\n",
      "-5\n",
      "-4\n",
      "-3\n",
      "-2\n",
      "-1\n"
     ]
    }
   ],
   "source": [
    "for i in range(-10,0,1):\n",
    "    print(i)"
   ]
  },
  {
   "cell_type": "markdown",
   "metadata": {},
   "source": [
    "### 9.\tCheck if a value 200 exists in a dictionary.  sampleDict = {'a': 100, 'b': 200, 'c': 300}\n"
   ]
  },
  {
   "cell_type": "code",
   "execution_count": 7,
   "metadata": {},
   "outputs": [
    {
     "name": "stdout",
     "output_type": "stream",
     "text": [
      "True\n"
     ]
    }
   ],
   "source": [
    "dict6 = {'a': 100, 'b': 200, 'c': 300}\n",
    "check = 200 in dict6.values()\n",
    "print(check)"
   ]
  },
  {
   "cell_type": "markdown",
   "metadata": {},
   "source": [
    "### 10.\tPrint First 10 natural numbers using while loop. "
   ]
  },
  {
   "cell_type": "code",
   "execution_count": 8,
   "metadata": {},
   "outputs": [
    {
     "name": "stdout",
     "output_type": "stream",
     "text": [
      "Enter a number:5\n",
      "1  \n",
      "1  2  \n",
      "1  2  3  \n",
      "1  2  3  4  \n",
      "1  2  3  4  5  \n"
     ]
    }
   ],
   "source": [
    "n = int(input(\"Enter a number:\"))\n",
    "\n",
    "i = 1\n",
    "\n",
    "while(i<=n):\n",
    "    j = 1\n",
    "    while(j<= i):\n",
    "        print(j , end =\"  \")\n",
    "        j+=1\n",
    "    print()\n",
    "    i+=1"
   ]
  },
  {
   "cell_type": "code",
   "execution_count": null,
   "metadata": {},
   "outputs": [],
   "source": []
  }
 ],
 "metadata": {
  "kernelspec": {
   "display_name": "Python 3",
   "language": "python",
   "name": "python3"
  },
  "language_info": {
   "codemirror_mode": {
    "name": "ipython",
    "version": 3
   },
   "file_extension": ".py",
   "mimetype": "text/x-python",
   "name": "python",
   "nbconvert_exporter": "python",
   "pygments_lexer": "ipython3",
   "version": "3.8.3"
  }
 },
 "nbformat": 4,
 "nbformat_minor": 4
}
